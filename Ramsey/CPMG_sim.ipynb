{
 "cells": [
  {
   "cell_type": "code",
   "execution_count": 1,
   "metadata": {},
   "outputs": [],
   "source": [
    "from qutip import *\n",
    "from qutip.qip.operations import *\n",
    "import numpy as np\n",
    "import matplotlib.pyplot as plt\n",
    "import datetime\n",
    "import random\n",
    "from random import random \n",
    "from tqdm import tqdm\n",
    "%matplotlib inline"
   ]
  },
  {
   "cell_type": "code",
   "execution_count": 12,
   "metadata": {},
   "outputs": [],
   "source": [
    "def solve(s_init, t_list, t0, etaOmega, delta_z, w_z, phi_z, Nmax, waiton = False):\n",
    "    tau_m = 5e-3\n",
    "    H0 = -1j*etaOmega/2 * tensor(sigmap(), create(Nmax))    \n",
    "\n",
    "    H1 = 1j*etaOmega/2 * tensor(sigmam(), destroy(Nmax))  \n",
    "    \n",
    "    Noise_Hz = delta_z * tensor(sigmaz(), qeye(Nmax)) \n",
    "    def Noise_Hz_coeff(t, args):\n",
    "        return np.cos(w_z*t+phi_z)\n",
    "\n",
    "    H = [H0, H1, [Noise_Hz, Noise_Hz_coeff]]\n",
    "\n",
    "    c_ops = [tensor(qeye(2), np.sqrt(1/tau_m)*create(Nmax)*destroy(Nmax))]\n",
    "    #c_ops = []\n",
    "    if waiton:\n",
    "        output = mesolve([[Noise_Hz, Noise_Hz_coeff]], s_init, t_list, c_ops, [])\n",
    "    else:\n",
    "        output = mesolve(H, s_init, t_list, c_ops, [])\n",
    "    \n",
    "    '''sz = []\n",
    "    for i in range(len(output.states)):\n",
    "        sz.append((output.states[i].ptrace(0)*sigmaz()).tr())\n",
    "    plt.plot(t_list, sz)'''\n",
    "    \n",
    "    return output"
   ]
  },
  {
   "cell_type": "code",
   "execution_count": 7,
   "metadata": {},
   "outputs": [],
   "source": [
    "import random as rd\n",
    "def CPMG(tau, delta = 0, w = 0, loop = 4):  \n",
    "    Nmax = 10\n",
    "    nth = 0.0\n",
    "    s0 = tensor(ket2dm(basis(2,1)),thermal_dm(Nmax, nth))\n",
    "    #s0 = tensor(ket2dm(basis(2,1)),coherent_dm(Nmax, 2))\n",
    "    \n",
    "    t0 = 0.1e-3 # ms, pi time\n",
    "    etaOmega = np.pi/t0/np.sqrt(1+nth)\n",
    "    phi = rd.random()*2*np.pi\n",
    "    \n",
    "    # First step: pi/2 rotation\n",
    "    t_start = 0\n",
    "    t_stop = t0/2 #pi/2\n",
    "    N_sample = 100\n",
    "\n",
    "    s_init = s0\n",
    "    t_list = np.linspace(t_start, t_stop, N_sample)\n",
    "    output = solve(s_init, t_list, t0, etaOmega, delta, w, phi, Nmax, waiton = False)\n",
    "\n",
    "    s_out = output.states[-1]\n",
    "\n",
    "    for i in range(loop):\n",
    "        # Wait\n",
    "        if tau != 0:    \n",
    "            t_start = t_stop\n",
    "            if i == 0:\n",
    "                t_stop = t_start + tau/2\n",
    "            else:\n",
    "                t_stop = t_start + tau\n",
    "            N_sample = 100\n",
    "            t_list = np.linspace(t_start, t_stop, N_sample)\n",
    "            s_init = s_out\n",
    "\n",
    "            output = solve(s_init, t_list, t0, etaOmega, delta, w, phi, Nmax, waiton = True)\n",
    "            s_out = output.states[-1]\n",
    "\n",
    "        # Pi rotation\n",
    "        t_start = t_stop\n",
    "        t_stop = t_start + t0\n",
    "        N_sample = 100\n",
    "        t_list = np.linspace(t_start, t_stop, N_sample)\n",
    "        s_init = s_out\n",
    "\n",
    "        output = solve(s_init, t_list, t0, etaOmega, delta, w, phi, Nmax, waiton = False)\n",
    "\n",
    "        s_out = output.states[-1]\n",
    "  \n",
    "    # Wait\n",
    "    if tau != 0:    \n",
    "        t_start = t_stop\n",
    "        t_stop = t_start + tau/2\n",
    "        N_sample = 100\n",
    "        t_list = np.linspace(t_start, t_stop, N_sample)\n",
    "        s_init = s_out\n",
    "\n",
    "        output = solve(s_init, t_list, t0, etaOmega, delta, w, phi, Nmax, waiton = True)\n",
    "        s_out = output.states[-1]\n",
    "        \n",
    "    # Pi/2 rotation    \n",
    "    t_start = t_stop\n",
    "    t_stop = t_start + t0/2 #pi/2\n",
    "    N_sample = 100\n",
    "\n",
    "    s_init = s_out\n",
    "    t_list = np.linspace(t_start, t_stop, N_sample)\n",
    "    output = solve(s_init, t_list, t0, etaOmega, delta, w, phi, Nmax, waiton = False)\n",
    "\n",
    "    s_final = output.states[-1].ptrace(0)\n",
    "    return ((s_final*sigmaz()).tr()+1)/2\n",
    "    #s5 = output.states[-1]\n",
    "    #return [s0, s1, s2, s3, s4, s5]\n",
    "\n",
    "def scan_wait_time(tau_list, delta, w, loop):\n",
    "    probs = []\n",
    "    for tau in tqdm(tau_list):\n",
    "        exp = 50\n",
    "        rs = 0\n",
    "        for i in range(exp):\n",
    "            rs += CPMG(tau, delta, w, loop)\n",
    "        prob = rs/exp\n",
    "        probs.append(prob)\n",
    "         \n",
    "    plt.figure()\n",
    "    plt.plot(tau_list, probs, 'b-', label = 'exp', )\n",
    "    plt.axhline(y = 0.5*(1+1/np.exp(1)), label = '1/e', color='r', linestyle='-')\n",
    "    plt.axhline(y = 0.5, label = 'y = 0.5', color='g', linestyle='--')\n",
    "    plt.ylim([-0.1,1.1])\n",
    "    plt.legend()"
   ]
  },
  {
   "cell_type": "code",
   "execution_count": 8,
   "metadata": {},
   "outputs": [
    {
     "name": "stderr",
     "output_type": "stream",
     "text": [
      "100%|██████████| 11/11 [00:55<00:00,  5.01s/it]\n"
     ]
    },
    {
     "data": {
      "image/png": "[encoded data removed]",
      "text/plain": [
       "<Figure size 432x288 with 1 Axes>"
      ]
     },
     "metadata": {
      "needs_background": "light"
     },
     "output_type": "display_data"
    }
   ],
   "source": [
    "tau_list = np.linspace(0,10e-3,11)\n",
    "scan_wait_time(tau_list, delta = 0, w = 0, loop = 4)"
   ]
  },
  {
   "cell_type": "code",
   "execution_count": 13,
   "metadata": {},
   "outputs": [
    {
     "name": "stderr",
     "output_type": "stream",
     "text": [
      "100%|██████████| 11/11 [00:57<00:00,  5.19s/it]\n"
     ]
    },
    {
     "data": {
      "image/png": "[encoded data removed]",
      "text/plain": [
       "<Figure size 432x288 with 1 Axes>"
      ]
     },
     "metadata": {
      "needs_background": "light"
     },
     "output_type": "display_data"
    }
   ],
   "source": [
    "tau_list = np.linspace(0,10e-3,11)\n",
    "scan_wait_time(tau_list, delta = 1e3, w = 200, loop = 4)"
   ]
  },
  {
   "cell_type": "code",
   "execution_count": 14,
   "metadata": {},
   "outputs": [
    {
     "name": "stderr",
     "output_type": "stream",
     "text": [
      "100%|██████████| 51/51 [05:27<00:00,  6.43s/it]\n"
     ]
    },
    {
     "data": {
      "image/png": "[encoded data removed]",
      "text/plain": [
       "<Figure size 432x288 with 1 Axes>"
      ]
     },
     "metadata": {
      "needs_background": "light"
     },
     "output_type": "display_data"
    }
   ],
   "source": [
    "tau_list = np.linspace(0,10e-3,51)\n",
    "scan_wait_time(tau_list, delta = 5e3, w = 400, loop = 4)"
   ]
  },
  {
   "cell_type": "code",
   "execution_count": 54,
   "metadata": {},
   "outputs": [
    {
     "name": "stderr",
     "output_type": "stream",
     "text": [
      "100%|██████████| 51/51 [16:13<00:00, 19.08s/it]\n"
     ]
    },
    {
     "data": {
      "image/png": "[encoded data removed]",
      "text/plain": [
       "<Figure size 432x288 with 1 Axes>"
      ]
     },
     "metadata": {
      "needs_background": "light"
     },
     "output_type": "display_data"
    }
   ],
   "source": [
    "tau_list = np.linspace(0,10e-3,51)\n",
    "scan_wait_time(tau_list, delta = 5e3, w = 200, loop = 20)"
   ]
  },
  {
   "cell_type": "code",
   "execution_count": null,
   "metadata": {},
   "outputs": [],
   "source": []
  }
 ],
 "metadata": {
  "kernelspec": {
   "display_name": "Python36",
   "language": "python",
   "name": "myenv"
  },
  "language_info": {
   "codemirror_mode": {
    "name": "ipython",
    "version": 3
   },
   "file_extension": ".py",
   "mimetype": "text/x-python",
   "name": "python",
   "nbconvert_exporter": "python",
   "pygments_lexer": "ipython3",
   "version": "3.7.4"
  }
 },
 "nbformat": 4,
 "nbformat_minor": 2
}
