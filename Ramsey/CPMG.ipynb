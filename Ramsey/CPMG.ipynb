{
 "cells": [
  {
   "cell_type": "code",
   "execution_count": 2,
   "metadata": {},
   "outputs": [],
   "source": [
    "from qutip import *\n",
    "from qutip.qip.operations import *\n",
    "import numpy as np\n",
    "import matplotlib.pyplot as plt\n",
    "import datetime\n",
    "import random\n",
    "from random import random \n",
    "from tqdm import tqdm\n",
    "%matplotlib inline"
   ]
  },
  {
   "cell_type": "code",
   "execution_count": 3,
   "metadata": {},
   "outputs": [],
   "source": [
    "def solve(s_init, t_list, t0, etaOmega, delta, w, phi, Nmax, waiton = False):\n",
    "    tau_m = 3e-3\n",
    "    H0 = -1j*etaOmega/2 * tensor(sigmap(), create(Nmax))    \n",
    "    def H0_coeff(t, args):\n",
    "        return np.exp(-1j*delta*np.sin(w*t+phi)*t)\n",
    "\n",
    "    H1 = 1j*etaOmega/2 * tensor(sigmam(), destroy(Nmax))  \n",
    "    def H1_coeff(t, args):\n",
    "        return np.exp(1j*delta*np.sin(w*t+phi)*t)\n",
    "\n",
    "    H = [[H0, H0_coeff], [H1, H1_coeff]]\n",
    "\n",
    "    c_ops = [tensor(qeye(2), np.sqrt(1/tau_m)*create(Nmax)*destroy(Nmax))]\n",
    "    #c_ops = []\n",
    "    if waiton:\n",
    "        output = mesolve(tensor(qeye(2),qeye(Nmax)), s_init, t_list, c_ops, [])\n",
    "    else:\n",
    "        output = mesolve(H, s_init, t_list, c_ops, [])\n",
    "    \n",
    "    '''sz = []\n",
    "    for i in range(len(output.states)):\n",
    "        sz.append((output.states[i].ptrace(0)*sigmaz()).tr())\n",
    "    plt.plot(t_list, sz)'''\n",
    "    \n",
    "    return output"
   ]
  },
  {
   "cell_type": "code",
   "execution_count": 4,
   "metadata": {},
   "outputs": [],
   "source": [
    "import random as rd\n",
    "def CPMG(tau, delta = 0, w = 0, loop = 4):  \n",
    "    Nmax = 10\n",
    "    nth = 0.0\n",
    "    s0 = tensor(ket2dm(basis(2,1)),thermal_dm(Nmax, nth))\n",
    "    #s0 = tensor(ket2dm(basis(2,1)),coherent_dm(Nmax, 2))\n",
    "    \n",
    "    t0 = 0.1e-3 # ms, pi time\n",
    "    etaOmega = np.pi/t0/np.sqrt(1+nth)\n",
    "    phi = rd.random()*2*np.pi\n",
    "    \n",
    "    # First step: pi/2 rotation\n",
    "    t_start = 0\n",
    "    t_stop = t0/2 #pi/2\n",
    "    N_sample = 100\n",
    "\n",
    "    s_init = s0\n",
    "    t_list = np.linspace(t_start, t_stop, N_sample)\n",
    "    output = solve(s_init, t_list, t0, etaOmega, delta, w, phi, Nmax, waiton = False)\n",
    "\n",
    "    s_out = output.states[-1]\n",
    "\n",
    "    for i in range(loop):\n",
    "        # Wait\n",
    "        if tau != 0:    \n",
    "            t_start = t_stop\n",
    "            if i == 0:\n",
    "                t_stop = t_start + tau/2\n",
    "            else:\n",
    "                t_stop = t_start + tau\n",
    "            N_sample = 100\n",
    "            t_list = np.linspace(t_start, t_stop, N_sample)\n",
    "            s_init = s_out\n",
    "\n",
    "            output = solve(s_init, t_list, t0, etaOmega, delta, w, phi, Nmax, waiton = True)\n",
    "            s_out = output.states[-1]\n",
    "\n",
    "        # Pi rotation\n",
    "        t_start = t_stop\n",
    "        t_stop = t_start + t0\n",
    "        N_sample = 100\n",
    "        t_list = np.linspace(t_start, t_stop, N_sample)\n",
    "        s_init = s_out\n",
    "\n",
    "        output = solve(s_init, t_list, t0, etaOmega, delta, w, phi, Nmax, waiton = False)\n",
    "\n",
    "        s_out = output.states[-1]\n",
    "  \n",
    "    # Wait\n",
    "    if tau != 0:    \n",
    "        t_start = t_stop\n",
    "        t_stop = t_start + tau/2\n",
    "        N_sample = 100\n",
    "        t_list = np.linspace(t_start, t_stop, N_sample)\n",
    "        s_init = s_out\n",
    "\n",
    "        output = solve(s_init, t_list, t0, etaOmega, delta, w, phi, Nmax, waiton = True)\n",
    "        s_out = output.states[-1]\n",
    "        \n",
    "    # Pi/2 rotation    \n",
    "    t_start = t_stop\n",
    "    t_stop = t_start + t0/2 #pi/2\n",
    "    N_sample = 100\n",
    "\n",
    "    s_init = s_out\n",
    "    t_list = np.linspace(t_start, t_stop, N_sample)\n",
    "    output = solve(s_init, t_list, t0, etaOmega, delta, w, phi, Nmax, waiton = False)\n",
    "\n",
    "    s_final = output.states[-1].ptrace(0)\n",
    "    return ((s_final*sigmaz()).tr()+1)/2\n",
    "    #s5 = output.states[-1]\n",
    "    #return [s0, s1, s2, s3, s4, s5]\n",
    "\n",
    "def scan_wait_time(tau_list, delta, w, loop):\n",
    "    probs = []\n",
    "    for tau in tqdm(tau_list):\n",
    "        exp = 50\n",
    "        rs = 0\n",
    "        for i in range(exp):\n",
    "            rs += CPMG(tau, delta, w, loop)\n",
    "        prob = rs/exp\n",
    "        probs.append(prob)\n",
    "         \n",
    "    plt.figure()\n",
    "    plt.plot(tau_list, probs, 'b-', label = 'exp', )\n",
    "    plt.axhline(y = 0.5*(1+1/np.exp(1)), label = '1/e', color='r', linestyle='-')\n",
    "    plt.axhline(y = 0.5, label = 'y = 0.5', color='g', linestyle='--')\n",
    "    plt.ylim([-0.1,1.1])\n",
    "    plt.legend()"
   ]
  },
  {
   "cell_type": "code",
   "execution_count": 5,
   "metadata": {},
   "outputs": [
    {
     "ename": "TypeError",
     "evalue": "scan_wait_time() missing 1 required positional argument: 'loop'",
     "output_type": "error",
     "traceback": [
      "\u001b[0;31m---------------------------------------------------------------------------\u001b[0m",
      "\u001b[0;31mTypeError\u001b[0m                                 Traceback (most recent call last)",
      "\u001b[0;32m<ipython-input-5-b58fbdba3c32>\u001b[0m in \u001b[0;36m<module>\u001b[0;34m\u001b[0m\n\u001b[1;32m      1\u001b[0m \u001b[0mtau_list\u001b[0m \u001b[0;34m=\u001b[0m \u001b[0mnp\u001b[0m\u001b[0;34m.\u001b[0m\u001b[0mlinspace\u001b[0m\u001b[0;34m(\u001b[0m\u001b[0;36m0\u001b[0m\u001b[0;34m,\u001b[0m\u001b[0;36m10e-3\u001b[0m\u001b[0;34m,\u001b[0m\u001b[0;36m11\u001b[0m\u001b[0;34m)\u001b[0m\u001b[0;34m\u001b[0m\u001b[0;34m\u001b[0m\u001b[0m\n\u001b[0;32m----> 2\u001b[0;31m \u001b[0mscan_wait_time\u001b[0m\u001b[0;34m(\u001b[0m\u001b[0mtau_list\u001b[0m\u001b[0;34m,\u001b[0m \u001b[0mdelta\u001b[0m \u001b[0;34m=\u001b[0m \u001b[0;36m0\u001b[0m\u001b[0;34m,\u001b[0m \u001b[0mw\u001b[0m \u001b[0;34m=\u001b[0m \u001b[0;36m0\u001b[0m\u001b[0;34m)\u001b[0m\u001b[0;34m\u001b[0m\u001b[0;34m\u001b[0m\u001b[0m\n\u001b[0m",
      "\u001b[0;31mTypeError\u001b[0m: scan_wait_time() missing 1 required positional argument: 'loop'"
     ]
    }
   ],
   "source": [
    "tau_list = np.linspace(0,10e-3,11)\n",
    "scan_wait_time(tau_list, delta = 0, w = 0)"
   ]
  },
  {
   "cell_type": "code",
   "execution_count": null,
   "metadata": {},
   "outputs": [],
   "source": [
    "tau_list = np.linspace(0,10e-3,11)\n",
    "scan_wait_time(tau_list, delta = 1e3, w = 200)"
   ]
  },
  {
   "cell_type": "code",
   "execution_count": 52,
   "metadata": {},
   "outputs": [
    {
     "name": "stderr",
     "output_type": "stream",
     "text": [
      "100%|██████████| 51/51 [04:10<00:00,  4.90s/it]\n"
     ]
    },
    {
     "data": {
      "image/png": "[encoded data removed]",
      "text/plain": [
       "<Figure size 432x288 with 1 Axes>"
      ]
     },
     "metadata": {
      "needs_background": "light"
     },
     "output_type": "display_data"
    }
   ],
   "source": [
    "tau_list = np.linspace(0,10e-3,51)\n",
    "scan_wait_time(tau_list, delta = 5e3, w = 200)"
   ]
  },
  {
   "cell_type": "code",
   "execution_count": 54,
   "metadata": {},
   "outputs": [
    {
     "name": "stderr",
     "output_type": "stream",
     "text": [
      "100%|██████████| 51/51 [16:13<00:00, 19.08s/it]\n"
     ]
    },
    {
     "data": {
      "image/png": "[encoded data removed]",
      "text/plain": [
       "<Figure size 432x288 with 1 Axes>"
      ]
     },
     "metadata": {
      "needs_background": "light"
     },
     "output_type": "display_data"
    }
   ],
   "source": [
    "tau_list = np.linspace(0,10e-3,51)\n",
    "scan_wait_time(tau_list, delta = 5e3, w = 200, loop = 20)"
   ]
  },
  {
   "cell_type": "markdown",
   "metadata": {},
   "source": [
    "# Filter function"
   ]
  },
  {
   "cell_type": "code",
   "execution_count": 94,
   "metadata": {},
   "outputs": [],
   "source": [
    "def FF(w, tau, N):\n",
    "    tauList = []\n",
    "    tauList.append(0)\n",
    "    tauList.append(tau/2)\n",
    "    for i in range(N-1):\n",
    "        t_append = tauList[-1]+tau\n",
    "        tauList.append(t_append)\n",
    "    t_append = tauList[-1]+tau/2\n",
    "    tauList.append(t_append)\n",
    "    \n",
    "    ss = 0\n",
    "    for i in range(len(tauList)):        \n",
    "        ss += 2*(-1)**i*np.exp(1j*w*tauList[i])\n",
    "    ss = ss-1-(-1)**(len(tauList))*np.exp(1j*w*tauList[-1])\n",
    "    ss = ss/w\n",
    "    return ss\n",
    "\n",
    "def ffAmp(tau_list, N):\n",
    "    f_center = []\n",
    "    amp = []\n",
    "    for tau in tau_list:\n",
    "        ws = np.linspace(0.3/tau*2*np.pi,1/tau*2*np.pi,1001)\n",
    "        ff_data = [np.abs(FF(w, tau, N))**2 for w in ws]\n",
    "        idx = np.argmax(ff_data)\n",
    "        f_center.append(ws[idx]/2/np.pi)\n",
    "        amp.append(np.trapz(ff_data, ws))\n",
    "    return f_center, amp"
   ]
  },
  {
   "cell_type": "code",
   "execution_count": 95,
   "metadata": {},
   "outputs": [],
   "source": [
    "def getFreq(time_list):\n",
    "    return [1/time_list[i]/2 for i in range(len(time_list))]\n",
    "\n",
    "def NoiseSpectrum(data):\n",
    "    waitTime = data[0]\n",
    "    Amp = data[1]\n",
    "    \n",
    "    NS = []\n",
    "    freq = getFreq(waitTime)\n",
    "    for i in range(len(Amp)):\n",
    "        NS.append(-np.log(Amp)/2/ff_amp) \n",
    "        "
   ]
  },
  {
   "cell_type": "code",
   "execution_count": 110,
   "metadata": {},
   "outputs": [],
   "source": [
    "def readFile(filename):\n",
    "    timeTickFirst, timeTickLast, x, PMT1, PMT1_raw, PMT1_bottom, PMT1_top, PMT2, PMT2_raw, PMT2_bottom, \\\n",
    "    PMT2_top = np.loadtxt(filename, comments='#', delimiter='\\t', converters=None, skiprows=0,unpack=True, \n",
    "                          encoding='latin1')\n",
    "    return x, PMT1"
   ]
  },
  {
   "cell_type": "code",
   "execution_count": null,
   "metadata": {},
   "outputs": [],
   "source": [
    "x, Prob0 = readFile('RamanRamsey_carrier_002')"
   ]
  },
  {
   "cell_type": "code",
   "execution_count": 108,
   "metadata": {},
   "outputs": [],
   "source": [
    "tau_list = np.linspace(20e-6,7000e-6, 401)\n",
    "[F_center, FF_amp] = ffAmp(tau_list, 2)"
   ]
  },
  {
   "cell_type": "code",
   "execution_count": 109,
   "metadata": {},
   "outputs": [
    {
     "data": {
      "text/plain": [
       "[<matplotlib.lines.Line2D at 0x7ff4197b2790>]"
      ]
     },
     "execution_count": 109,
     "metadata": {},
     "output_type": "execute_result"
    },
    {
     "data": {
      "image/png": "[encoded data removed]",
      "text/plain": [
       "<Figure size 432x288 with 1 Axes>"
      ]
     },
     "metadata": {
      "needs_background": "light"
     },
     "output_type": "display_data"
    }
   ],
   "source": [
    "plt.plot(tau_list, F_center)"
   ]
  },
  {
   "cell_type": "code",
   "execution_count": 107,
   "metadata": {},
   "outputs": [
    {
     "data": {
      "text/plain": [
       "[<matplotlib.lines.Line2D at 0x7ff4196c5450>]"
      ]
     },
     "execution_count": 107,
     "metadata": {},
     "output_type": "execute_result"
    },
    {
     "data": {
      "image/png": "[encoded data removed]",
      "text/plain": [
       "<Figure size 432x288 with 1 Axes>"
      ]
     },
     "metadata": {
      "needs_background": "light"
     },
     "output_type": "display_data"
    }
   ],
   "source": [
    "plt.plot(tau_list, FF_amp)"
   ]
  },
  {
   "cell_type": "code",
   "execution_count": null,
   "metadata": {},
   "outputs": [],
   "source": []
  },
  {
   "cell_type": "code",
   "execution_count": 86,
   "metadata": {},
   "outputs": [
    {
     "name": "stdout",
     "output_type": "stream",
     "text": [
      "(array([215, 216, 217, 218, 219, 220, 221, 723, 724, 725, 726, 727, 728,\n",
      "       729, 730]),)\n"
     ]
    },
    {
     "data": {
      "text/plain": [
       "21.699999999999992"
      ]
     },
     "execution_count": 86,
     "metadata": {},
     "output_type": "execute_result"
    },
    {
     "data": {
      "image/png": "[encoded data removed]",
      "text/plain": [
       "<Figure size 432x288 with 1 Axes>"
      ]
     },
     "metadata": {
      "needs_background": "light"
     },
     "output_type": "display_data"
    }
   ],
   "source": [
    "tau = 2e-3\n",
    "N = 2\n",
    "T = tau*N\n",
    "ws = np.linspace(0.3/tau*2*np.pi,1/tau*2*np.pi,1001)\n",
    "ff_data = [np.abs(FF(w, tau, N))**2 for w in ws]\n",
    "plt.plot(ws/2/np.pi, ff_data)\n",
    "idx = np.argmax(ff_data)\n",
    "print(np.where((ff_data < np.max(ff_data)/2) & (ff_data > np.max(ff_data)/2.1)))\n",
    "(ws[89]-ws[27])/2/np.pi"
   ]
  },
  {
   "cell_type": "code",
   "execution_count": 87,
   "metadata": {},
   "outputs": [
    {
     "data": {
      "text/plain": [
       "0.012996040086274915"
      ]
     },
     "execution_count": 87,
     "metadata": {},
     "output_type": "execute_result"
    }
   ],
   "source": [
    "np.trapz(ff_data, ws)"
   ]
  },
  {
   "cell_type": "code",
   "execution_count": 46,
   "metadata": {},
   "outputs": [
    {
     "data": {
      "text/plain": [
       "151.3"
      ]
     },
     "execution_count": 46,
     "metadata": {},
     "output_type": "execute_result"
    }
   ],
   "source": [
    "ws[27]/2/np.pi"
   ]
  },
  {
   "cell_type": "code",
   "execution_count": 19,
   "metadata": {},
   "outputs": [
    {
     "data": {
      "text/plain": [
       "[<matplotlib.lines.Line2D at 0x7ff419178950>]"
      ]
     },
     "execution_count": 19,
     "metadata": {},
     "output_type": "execute_result"
    },
    {
     "data": {
      "image/png": "[encoded data removed]",
      "text/plain": [
       "<Figure size 432x288 with 1 Axes>"
      ]
     },
     "metadata": {
      "needs_background": "light"
     },
     "output_type": "display_data"
    }
   ],
   "source": [
    "tau = 1e-3\n",
    "N = 4\n",
    "T = tau*N\n",
    "ws = np.linspace(100*2*np.pi,2e3*2*np.pi,1001)\n",
    "plt.plot(ws/2/np.pi, [np.abs(FF(w, tau, N))**2 for w in ws])"
   ]
  },
  {
   "cell_type": "code",
   "execution_count": 20,
   "metadata": {},
   "outputs": [
    {
     "data": {
      "text/plain": [
       "[<matplotlib.lines.Line2D at 0x7ff4192597d0>]"
      ]
     },
     "execution_count": 20,
     "metadata": {},
     "output_type": "execute_result"
    },
    {
     "data": {
      "image/png": "[encoded data removed]",
      "text/plain": [
       "<Figure size 432x288 with 1 Axes>"
      ]
     },
     "metadata": {
      "needs_background": "light"
     },
     "output_type": "display_data"
    }
   ],
   "source": [
    "tau = 1e-3\n",
    "N = 10\n",
    "T = tau*N\n",
    "ws = np.linspace(100*2*np.pi,2e3*2*np.pi,1001)\n",
    "plt.plot(ws/2/np.pi, [np.abs(FF(w, tau, N))**2 for w in ws])"
   ]
  },
  {
   "cell_type": "code",
   "execution_count": null,
   "metadata": {},
   "outputs": [],
   "source": []
  }
 ],
 "metadata": {
  "kernelspec": {
   "display_name": "Python36",
   "language": "python",
   "name": "myenv"
  },
  "language_info": {
   "codemirror_mode": {
    "name": "ipython",
    "version": 3
   },
   "file_extension": ".py",
   "mimetype": "text/x-python",
   "name": "python",
   "nbconvert_exporter": "python",
   "pygments_lexer": "ipython3",
   "version": "3.7.4"
  }
 },
 "nbformat": 4,
 "nbformat_minor": 2
}
