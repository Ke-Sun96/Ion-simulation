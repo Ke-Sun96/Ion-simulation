{
 "cells": [
  {
   "cell_type": "code",
   "execution_count": 1,
   "metadata": {},
   "outputs": [],
   "source": [
    "from qutip import *\n",
    "from qutip.qip.operations import *\n",
    "import numpy as np\n",
    "import matplotlib.pyplot as plt\n",
    "import datetime\n",
    "import random\n",
    "from random import random \n",
    "%matplotlib inline"
   ]
  },
  {
   "cell_type": "code",
   "execution_count": 2,
   "metadata": {},
   "outputs": [],
   "source": [
    "def solve(s_init, t_list, t0, etaOmega, delta, phi, Nmax, waiton = False):\n",
    "    tau_m = 3e-3\n",
    "    w = 200\n",
    "    H0 = -1j*etaOmega/2 *np.exp(1j*phi) * \\\n",
    "        tensor(sigmap(), create(Nmax))\n",
    "    def H0_coeff(t, args):\n",
    "        return np.exp(-1j*delta*np.sin(w*t)*t)\n",
    "\n",
    "    H1 = 1j*etaOmega/2 *np.exp(-1j*phi) * \\\n",
    "        tensor(sigmam(), destroy(Nmax))\n",
    "    def H1_coeff(t, args):\n",
    "        return np.exp(1j*delta*np.sin(w*t)*t)\n",
    "\n",
    "    H = [[H0, H0_coeff], [H1, H1_coeff]]\n",
    "\n",
    "    c_ops = [tensor(qeye(2), np.sqrt(1/tau_m)*create(Nmax)*destroy(Nmax))]\n",
    "    #c_ops = []\n",
    "    if waiton:\n",
    "        output = mesolve(tensor(qeye(2),qeye(Nmax)), s_init, t_list, c_ops, [])\n",
    "    else:\n",
    "        output = mesolve(H, s_init, t_list, c_ops, [])\n",
    "    \n",
    "    '''sz = []\n",
    "    for i in range(len(output.states)):\n",
    "        sz.append((output.states[i].ptrace(0)*sigmaz()).tr())\n",
    "    plt.plot(t_list, sz)'''\n",
    "    \n",
    "    return output"
   ]
  },
  {
   "cell_type": "code",
   "execution_count": 3,
   "metadata": {},
   "outputs": [],
   "source": [
    "def SpinEcho(tau):  \n",
    "    Nmax = 10\n",
    "    nth = 0.0\n",
    "    s0 = tensor(ket2dm(basis(2,1)),thermal_dm(Nmax, nth))\n",
    "    #s0 = tensor(ket2dm(basis(2,1)),coherent_dm(Nmax, 2))\n",
    "    \n",
    "    t0 = 0.1e-3 # ms, pi time\n",
    "    etaOmega = np.pi/t0/np.sqrt(1+nth)\n",
    "    delta = 1e3\n",
    "    phi = 0\n",
    "    \n",
    "    # First step: pi/2 rotation\n",
    "    t_start = 0\n",
    "    t_stop = t0/2 #pi/2\n",
    "    N_sample = 100\n",
    "\n",
    "    s_init = s0\n",
    "    t_list = np.linspace(t_start, t_stop, N_sample)\n",
    "    output = solve(s_init, t_list, t0, etaOmega, delta, phi, Nmax, waiton = False)\n",
    "\n",
    "    s1 = output.states[-1]\n",
    "\n",
    "    # Second step: wait\n",
    "    if tau == 0:\n",
    "        s2 = s1\n",
    "    else:    \n",
    "        t_start = t_stop\n",
    "        t_stop = t_start + tau\n",
    "        N_sample = 100\n",
    "        t_list = np.linspace(t_start, t_stop, N_sample)\n",
    "        s_init = s1\n",
    "\n",
    "        output = solve(s_init, t_list, t0, etaOmega, delta, phi, Nmax, waiton = True)\n",
    "        s2 = output.states[-1]\n",
    "\n",
    "    # Third step: pi rotation\n",
    "    t_start = t_stop\n",
    "    t_stop = t_start + t0\n",
    "    N_sample = 100\n",
    "    t_list = np.linspace(t_start, t_stop, N_sample)\n",
    "    s_init = s2\n",
    "\n",
    "    output = solve(s_init, t_list, t0, etaOmega, delta, phi, Nmax, waiton = False)\n",
    "\n",
    "    s3 = output.states[-1]\n",
    "\n",
    "    # Fourth step: wait\n",
    "    if tau == 0:\n",
    "        s4 = s3\n",
    "    else:  \n",
    "        t_start = t_stop\n",
    "        t_stop = t_start + tau\n",
    "        N_sample = 100\n",
    "        t_list = np.linspace(t_start, t_stop, N_sample)\n",
    "        s_init = s3\n",
    "\n",
    "        output = solve(s_init, t_list, t0, etaOmega, delta, phi, Nmax, waiton = True)\n",
    "        s4 = output.states[-1]\n",
    "\n",
    "    # Fifth step: pi/2 rotation\n",
    "    t_start = t_stop\n",
    "    t_stop = t_start + t0/2 #pi/2\n",
    "    N_sample = 100\n",
    "\n",
    "    s_init = s4\n",
    "    t_list = np.linspace(t_start, t_stop, N_sample)\n",
    "    output = solve(s_init, t_list, t0, etaOmega, delta, phi, Nmax, waiton = False)\n",
    "\n",
    "    s5 = output.states[-1].ptrace(0)\n",
    "    return (s5*sigmaz()).tr()\n",
    "    #s5 = output.states[-1]\n",
    "    #return [s0, s1, s2, s3, s4, s5]\n",
    "\n",
    "def scan_wait_time():\n",
    "    tau_list = np.linspace(0,10e-3,101)\n",
    "    probs = []\n",
    "    for tau in tau_list:\n",
    "        probs.append((SpinEcho(tau)+1)/2)\n",
    "         \n",
    "    plt.figure()\n",
    "    plt.plot(tau_list, probs, 'b-', label = 'exp', )\n",
    "    plt.axhline(y = 0.5*(1-1/np.exp(1)), label = '1/e', color='r', linestyle='-')\n",
    "    plt.axhline(y = 0.5, label = 'y = 0.5', color='g', linestyle='--')\n",
    "    plt.ylim([-0.1,1.1])\n",
    "    plt.legend()"
   ]
  },
  {
   "cell_type": "code",
   "execution_count": 4,
   "metadata": {
    "scrolled": true
   },
   "outputs": [
    {
     "data": {
      "image/png": "[encoded data removed]",
      "text/plain": [
       "<Figure size 432x288 with 1 Axes>"
      ]
     },
     "metadata": {
      "needs_background": "light"
     },
     "output_type": "display_data"
    }
   ],
   "source": [
    "scan_wait_time()"
   ]
  },
  {
   "cell_type": "code",
   "execution_count": 310,
   "metadata": {},
   "outputs": [
    {
     "data": {
      "image/png": "[encoded data removed]",
      "text/plain": [
       "<Figure size 432x288 with 1 Axes>"
      ]
     },
     "metadata": {
      "needs_background": "light"
     },
     "output_type": "display_data"
    }
   ],
   "source": [
    "scan_wait_time()"
   ]
  },
  {
   "cell_type": "code",
   "execution_count": 271,
   "metadata": {},
   "outputs": [
    {
     "data": {
      "image/png": "[encoded data removed]",
      "text/plain": [
       "<Figure size 432x288 with 1 Axes>"
      ]
     },
     "metadata": {
      "needs_background": "light"
     },
     "output_type": "display_data"
    }
   ],
   "source": [
    "tau = 0\n",
    "states = SpinEcho(tau)"
   ]
  },
  {
   "cell_type": "code",
   "execution_count": 272,
   "metadata": {},
   "outputs": [
    {
     "name": "stdout",
     "output_type": "stream",
     "text": [
      "z0= -0.9999999999996815\n",
      "z1= -0.0162319095323733\n",
      "z2= -0.0162319095323733\n",
      "z3= 0.11546302285438714\n",
      "z4= 0.11546302285438714\n",
      "z5= -0.8188464651943673\n",
      "y0= 0.0\n",
      "y1= 0.0\n",
      "y2= 0.0\n",
      "y3= 0.0\n",
      "y4= 0.0\n",
      "y5= 0.0\n",
      "x0= 0.0\n",
      "x1= 0.0\n",
      "x2= 0.0\n",
      "x3= 0.0\n",
      "x4= 0.0\n",
      "x5= 0.0\n",
      "n0= 0.09999999999614456\n",
      "n1= 0.5918840452297989\n",
      "n2= 0.5918840452297989\n",
      "n3= 0.6577315114231792\n",
      "n4= 0.6577315114231792\n",
      "n5= 0.190576767398802\n"
     ]
    }
   ],
   "source": [
    "print('z0=',(states[0].ptrace(0)*sigmaz()).tr())\n",
    "print('z1=',(states[1].ptrace(0)*sigmaz()).tr())\n",
    "print('z2=',(states[2].ptrace(0)*sigmaz()).tr())\n",
    "print('z3=',(states[3].ptrace(0)*sigmaz()).tr())\n",
    "print('z4=',(states[4].ptrace(0)*sigmaz()).tr())\n",
    "print('z5=',(states[5].ptrace(0)*sigmaz()).tr())\n",
    "\n",
    "print('y0=',(states[0].ptrace(0)*sigmay()).tr())\n",
    "print('y1=',(states[1].ptrace(0)*sigmay()).tr())\n",
    "print('y2=',(states[2].ptrace(0)*sigmay()).tr())\n",
    "print('y3=',(states[3].ptrace(0)*sigmay()).tr())\n",
    "print('y4=',(states[4].ptrace(0)*sigmay()).tr())\n",
    "print('y5=',(states[5].ptrace(0)*sigmay()).tr())\n",
    "\n",
    "print('x0=',(states[0].ptrace(0)*sigmax()).tr())\n",
    "print('x1=',(states[1].ptrace(0)*sigmax()).tr())\n",
    "print('x2=',(states[2].ptrace(0)*sigmax()).tr())\n",
    "print('x3=',(states[3].ptrace(0)*sigmax()).tr())\n",
    "print('x4=',(states[4].ptrace(0)*sigmax()).tr())\n",
    "print('x5=',(states[5].ptrace(0)*sigmax()).tr())\n",
    "\n",
    "adag = create(20)\n",
    "a = destroy(20)\n",
    "print('n0=',(states[0].ptrace(1)*adag*a).tr())\n",
    "print('n1=',(states[1].ptrace(1)*adag*a).tr())\n",
    "print('n2=',(states[2].ptrace(1)*adag*a).tr())\n",
    "print('n3=',(states[3].ptrace(1)*adag*a).tr())\n",
    "print('n4=',(states[4].ptrace(1)*adag*a).tr())\n",
    "print('n5=',(states[5].ptrace(1)*adag*a).tr())"
   ]
  },
  {
   "cell_type": "code",
   "execution_count": 246,
   "metadata": {},
   "outputs": [
    {
     "data": {
      "text/plain": [
       "0.0"
      ]
     },
     "execution_count": 246,
     "metadata": {},
     "output_type": "execute_result"
    }
   ],
   "source": [
    "(thermal_dm(10, 0)*adag*a).tr()"
   ]
  },
  {
   "cell_type": "code",
   "execution_count": 251,
   "metadata": {},
   "outputs": [
    {
     "data": {
      "text/plain": [
       "0.5000024781010941"
      ]
     },
     "execution_count": 251,
     "metadata": {},
     "output_type": "execute_result"
    }
   ],
   "source": [
    "(states[1].ptrace(1)*adag*a).tr()"
   ]
  },
  {
   "cell_type": "code",
   "execution_count": null,
   "metadata": {},
   "outputs": [],
   "source": [
    "tau = 1e-3\n",
    "states = SpinEcho(tau)"
   ]
  },
  {
   "cell_type": "code",
   "execution_count": 303,
   "metadata": {},
   "outputs": [
    {
     "data": {
      "text/plain": [
       "Result object with mesolve data.\n",
       "--------------------------------\n",
       "states = True\n",
       "num_collapse = 0"
      ]
     },
     "execution_count": 303,
     "metadata": {},
     "output_type": "execute_result"
    },
    {
     "data": {
      "image/png": "[encoded data removed]",
      "text/plain": [
       "<Figure size 432x288 with 1 Axes>"
      ]
     },
     "metadata": {
      "needs_background": "light"
     },
     "output_type": "display_data"
    }
   ],
   "source": [
    "nth = 1\n",
    "s_init = tensor(ket2dm(basis(2,1)),thermal_dm(10, 0.0))\n",
    "Nmax = 10\n",
    "t0 = 0.1e-3\n",
    "t_start = 0\n",
    "t_stop = 10*t0 \n",
    "N_sample = 100\n",
    "t_list = np.linspace(t_start, t_stop, N_sample)\n",
    "etaOmega = np.pi/t0/np.sqrt(1+nth)\n",
    "delta = 0\n",
    "phi = 0\n",
    "solve(s_init, t_list, t0, etaOmega, delta, phi, Nmax, waiton = False)"
   ]
  },
  {
   "cell_type": "code",
   "execution_count": null,
   "metadata": {},
   "outputs": [],
   "source": []
  }
 ],
 "metadata": {
  "kernelspec": {
   "display_name": "Python36",
   "language": "python",
   "name": "myenv"
  },
  "language_info": {
   "codemirror_mode": {
    "name": "ipython",
    "version": 3
   },
   "file_extension": ".py",
   "mimetype": "text/x-python",
   "name": "python",
   "nbconvert_exporter": "python",
   "pygments_lexer": "ipython3",
   "version": "3.7.4"
  }
 },
 "nbformat": 4,
 "nbformat_minor": 2
}
