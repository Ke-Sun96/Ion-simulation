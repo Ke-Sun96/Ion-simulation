{
 "cells": [
  {
   "cell_type": "markdown",
   "metadata": {},
   "source": [
    "This code will analyze the FM-MS gate pulses, followed by two single qubit rotaion $R_{\\theta}(\\pi/2)$ on both ions. Measuring the $\\sigma_{z1}\\sigma_{z2}$ as the parity."
   ]
  },
  {
   "cell_type": "code",
   "execution_count": 134,
   "metadata": {},
   "outputs": [],
   "source": [
    "import msgate as ms"
   ]
  },
  {
   "cell_type": "code",
   "execution_count": 135,
   "metadata": {},
   "outputs": [
    {
     "data": {
      "text/plain": [
       "'/Users/sunke/Desktop/DukeLab/+Code/ParityScan/msgate.py'"
      ]
     },
     "execution_count": 135,
     "metadata": {},
     "output_type": "execute_result"
    }
   ],
   "source": [
    "ms.__file__"
   ]
  },
  {
   "cell_type": "code",
   "execution_count": 169,
   "metadata": {},
   "outputs": [],
   "source": [
    "import qutip as qt\n",
    "from qutip import *\n",
    "import numpy as np\n",
    "import matplotlib.pyplot as plt\n",
    "import datetime\n",
    "from numpy import linalg\n",
    "#from numpy import *\n",
    "import pandas as pd\n",
    "from tqdm import tqdm\n",
    "import msgate as ms\n",
    "%matplotlib inline\n",
    "\n",
    "class MSGateExp:\n",
    "    def __init__(self, \n",
    "                spin=tensor(fock_dm(2,1),fock_dm(2,1)),\n",
    "                posi = np.array([-1.,1.]),\n",
    "                CarrierFreq = 222.646138921617e6,\n",
    "                RedSB1_1 = 1.98472135e6,\n",
    "                RedSB2_1 = 2.04612904e6,\n",
    "                Stark4Photon = -0.010195552e3,\n",
    "                RawFreq_sol = np.array([1.9504797294753649e6,\n",
    "                                         1.977856646479975e6,\n",
    "                                         1.9569086790102637e6,\n",
    "                                         1.9745219633001168e6,\n",
    "                                         1.966407554598451e6,\n",
    "                                         1.975122077019819e6,\n",
    "                                         1.9738779954630208e6,\n",
    "                                         1.9748697407561622e6,\n",
    "                                         1.9766151800769665e6,\n",
    "                                         1.9758550554531902e6]),\n",
    "                ion1 = 0,\n",
    "                ion2 = 1,\n",
    "                gate_time = 120e-6,\n",
    "                rabi_freq = (77968.151)*0.1*2*np.pi,\n",
    "                pwrBalance = np.ones([2,2]),\n",
    "                motional_coherence = 3e-3,\n",
    "                Gamma = [4, 10],\n",
    "                laser_dp = 300e-3,\n",
    "                Nmax = 10\n",
    "                ):\n",
    "        freq_sol = RawFreq_sol*2*np.pi\n",
    "        \n",
    "        mode_freq = np.array([RedSB1_1,RedSB2_1])*2*np.pi\n",
    "        mode_freq.sort()\n",
    "        self.spin = spin\n",
    "        self.motional_coherence = motional_coherence\n",
    "        self.Gamma = Gamma\n",
    "        self.laser_dp = laser_dp\n",
    "        self.Nmax = 20\n",
    "        \n",
    "        self.sim = ms.ModulatedMSGate()\n",
    "        self.sim.set_attr_fm(ion1,\n",
    "                        ion2,\n",
    "                        gate_time,\n",
    "                        freq_sol,\n",
    "                        rabi_freq,\n",
    "                        mode_freq,\n",
    "                        posi,\n",
    "                        pwrBalance = pwrBalance)\n",
    "        \n",
    "        \n",
    "        \n",
    "    def time_scan(self,Nsample,verbose = False):\n",
    "        now = datetime.datetime.now()\n",
    "        f,m1= self.sim.get_fidelity_fm(coherence_t = self.motional_coherence, \n",
    "                                       Gamma=self.Gamma, \n",
    "                                       verbose= verbose, \n",
    "                                       laser_dp =self.laser_dp,\n",
    "                                       spin_init = self.spin, \n",
    "                                       Nsample=Nsample)\n",
    "        fidelity = (f**2)\n",
    "        #print(fidelity)\n",
    "        now2 = datetime.datetime.now()\n",
    "        #print(now2-now)\n",
    "        return m1\n",
    "        \n",
    "    \n",
    "    \n",
    "    def detuning_scan(self,\n",
    "                      delta_start,\n",
    "                      delta_stop,\n",
    "                      Nsample,\n",
    "                      t1=np.linspace(0, 0.5, 2),\n",
    "                      t2=np.linspace(0, 0.5, 2),\n",
    "                     ):\n",
    "        delta_list = np.linspace(delta_start, delta_stop, Nsample)\n",
    "        states = []\n",
    "        for delta in delta_list:\n",
    "            self.delta_r = delta*np.array([1, 1])*np.pi*2\n",
    "            self.delta_b = delta*np.array([-1, -1])*np.pi*2\n",
    "            self.s_init = tensor(ket2dm(tensor(fock(2, 1), fock(2, 1))), thermal_dm(self.Nmax, 0.5))\n",
    "            self.solve(t1)\n",
    "            states.append(self.output.states[-1])\n",
    "        #states = np.array(states)\n",
    "        self.measure(states, delta_list)\n",
    "        \n",
    "    def parity_scan(self,\n",
    "                    phi_list = np.linspace(0,2*np.pi, 51),\n",
    "                    omega1 = 0,\n",
    "                    omega2 = 0,\n",
    "                    t_rotation = 0,\n",
    "                    deltaPhi = 0\n",
    "                 ):\n",
    "        output_states = self.time_scan(Nsample = 50)\n",
    "        \n",
    "        \n",
    "        tlist = np.linspace(0, t_rotation, 21)\n",
    "#         c_ops = [tensor(tensor(qeye(2), qeye(2)), np.sqrt(self.Gamma)*destroy(self.Nmax)),\n",
    "#                  tensor(tensor(qeye(2), qeye(2)), np.sqrt(self.Gamma)*create(self.Nmax))]\n",
    "        s_init = output_states\n",
    "        parity = [] \n",
    "        for phi in phi_list:\n",
    "            sigma_phi = np.cos(phi)*sigmax() - np.sin(phi)*sigmay()\n",
    "            sigma_phi_2 = np.cos(phi+deltaPhi)*sigmax() - np.sin(phi+deltaPhi)*sigmay()\n",
    "            H1 = omega1*tensor(sigma_phi, qeye(2))\n",
    "            H2 = omega2*tensor(qeye(2), sigma_phi_2)\n",
    "            H = H1+H2\n",
    "            self.output = mesolve(H, s_init, tlist, [], [])\n",
    "            szz = (self.output.states[-1]*tensor(sigmaz(),sigmaz())).tr() \n",
    "            parity.append(szz)\n",
    "        plt.plot(phi_list, parity)\n",
    "        plt.xlabel('Phase')\n",
    "        plt.ylabel('Parity')\n",
    "        plt.ylim([-1.001,1.001])\n",
    "        contrast = (max(parity)-min(parity))/2\n",
    "        print('contrast = ',contrast)\n",
    "        return s_init\n",
    "        \n",
    "    def parity_scan_repeatable(self,\n",
    "                    phi,\n",
    "                    omega1 = 0,\n",
    "                    omega2 = 0,\n",
    "                    t_rotation = 0,\n",
    "                    deltaPhi = 0\n",
    "                 ):\n",
    "        output_states = self.time_scan(Nsample = 50, verbose = False)\n",
    "        \n",
    "        \n",
    "        tlist = np.linspace(0, t_rotation, 21)\n",
    "        s_init = output_states\n",
    "        \n",
    "        sigma_phi = np.cos(phi)*sigmax() - np.sin(phi)*sigmay()\n",
    "        sigma_phi_2 = np.cos(phi+deltaPhi)*sigmax() - np.sin(phi+deltaPhi)*sigmay()\n",
    "        H1 = omega1*tensor(sigma_phi, qeye(2))\n",
    "        H2 = omega2*tensor(qeye(2), sigma_phi_2)\n",
    "        H = H1+H2\n",
    "        self.output = mesolve(H, s_init, tlist, [], [])\n",
    "        szz = (self.output.states[-1]*tensor(sigmaz(),sigmaz())).tr() \n",
    "        return szz, s_init\n",
    "        \n",
    "        \n",
    "    def measure(self, states, x_axis, isPlot = True):\n",
    "        # states: np.array of dm includes two ions and phonons\n",
    "        s_ee = tensor(fock(2, 0), fock(2, 0))\n",
    "        s_gg = tensor(fock(2, 1), fock(2, 1))\n",
    "        s_eg = (tensor(fock(2, 0), fock(2, 1)) +\n",
    "                tensor(fock(2, 1), fock(2, 0))).unit()\n",
    "        \n",
    "        def _measure(state, s_meas):\n",
    "            state_ptr = state.ptrace([0,1])  \n",
    "            result = s_meas.dag()*state_ptr*s_meas\n",
    "            if result.data.data.size:\n",
    "                return np.real(result.data.data[0])\n",
    "            else:\n",
    "                return 0.0    # np.array has same type\n",
    "         \n",
    "        ee = np.zeros(len(states))\n",
    "        gg = np.zeros(len(states))\n",
    "        eg = np.zeros(len(states))\n",
    "        for i in range(len(states)):\n",
    "            ee[i] = _measure(states[i], s_ee)\n",
    "            gg[i] = _measure(states[i], s_gg)\n",
    "            eg[i] = _measure(states[i], s_eg)\n",
    "        if isPlot:\n",
    "            fig, ax = plt.subplots()\n",
    "            ax.plot(x_axis, ee)\n",
    "            ax.plot(x_axis, gg)\n",
    "            ax.plot(x_axis, eg)\n",
    "            # ax.set_xlabel()\n",
    "            ax.set_ylabel('Probability')\n",
    "            ax.legend(('11', '00', '01+10'))\n",
    "            plt.show()\n",
    "       "
   ]
  },
  {
   "cell_type": "code",
   "execution_count": 153,
   "metadata": {},
   "outputs": [
    {
     "name": "stdout",
     "output_type": "stream",
     "text": [
      "....................\n",
      "....................\n"
     ]
    },
    {
     "data": {
      "text/latex": [
       "Quantum object: dims = [[2, 2], [2, 2]], shape = (4, 4), type = oper, isherm = True\\begin{equation*}\\left(\\begin{array}{*{11}c}0.533 & 0.0 & 0.0 & (0.005-0.491j)\\\\0.0 & 0.006 & (-0.005-2.698\\times10^{-04}j) & 0.0\\\\0.0 & (-0.005+2.698\\times10^{-04}j) & 0.006 & 0.0\\\\(0.005+0.491j) & 0.0 & 0.0 & 0.456\\\\\\end{array}\\right)\\end{equation*}"
      ],
      "text/plain": [
       "Quantum object: dims = [[2, 2], [2, 2]], shape = (4, 4), type = oper, isherm = True\n",
       "Qobj data =\n",
       "[[ 0.53288134-7.90031463e-18j  0.        +0.00000000e+00j\n",
       "   0.        +0.00000000e+00j  0.0052067 -4.90589180e-01j]\n",
       " [ 0.        +0.00000000e+00j  0.00557616-6.46911254e-18j\n",
       "  -0.0052067 -2.69780702e-04j  0.        +0.00000000e+00j]\n",
       " [ 0.        +0.00000000e+00j -0.0052067 +2.69780702e-04j\n",
       "   0.00553102+6.68437535e-18j  0.        +0.00000000e+00j]\n",
       " [ 0.0052067 +4.90589180e-01j  0.        +0.00000000e+00j\n",
       "   0.        +0.00000000e+00j  0.45601148+8.07914149e-18j]]"
      ]
     },
     "execution_count": 153,
     "metadata": {},
     "output_type": "execute_result"
    }
   ],
   "source": [
    "exp1 = MSGateExp(pwrBalance = np.array([[1., 1.05],\n",
    "       [1., 1.05]]))\n",
    "states = exp1.time_scan(Nsample = 50)\n",
    "states"
   ]
  },
  {
   "cell_type": "markdown",
   "metadata": {},
   "source": [
    "## Idea case:"
   ]
  },
  {
   "cell_type": "code",
   "execution_count": 170,
   "metadata": {},
   "outputs": [
    {
     "name": "stdout",
     "output_type": "stream",
     "text": [
      "contrast =  0.9966024630397818\n"
     ]
    },
    {
     "data": {
      "text/latex": [
       "Quantum object: dims = [[2, 2], [2, 2]], shape = (4, 4), type = oper, isherm = True\\begin{equation*}\\left(\\begin{array}{*{11}c}0.500 & 0.0 & 0.0 & (2.184\\times10^{-04}-0.499j)\\\\0.0 & 3.108\\times10^{-04} & -2.184\\times10^{-04} & 0.0\\\\0.0 & -2.184\\times10^{-04} & 3.108\\times10^{-04} & 0.0\\\\(2.184\\times10^{-04}+0.499j) & 0.0 & 0.0 & 0.500\\\\\\end{array}\\right)\\end{equation*}"
      ],
      "text/plain": [
       "Quantum object: dims = [[2, 2], [2, 2]], shape = (4, 4), type = oper, isherm = True\n",
       "Qobj data =\n",
       "[[ 4.99593623e-01+1.20027067e-17j  0.00000000e+00+0.00000000e+00j\n",
       "   0.00000000e+00+0.00000000e+00j  2.18391554e-04-4.99286589e-01j]\n",
       " [ 0.00000000e+00+0.00000000e+00j  3.10839961e-04+2.54455719e-18j\n",
       "  -2.18391554e-04+1.05657864e-17j  0.00000000e+00+0.00000000e+00j]\n",
       " [ 0.00000000e+00+0.00000000e+00j -2.18391554e-04-1.11415843e-17j\n",
       "   3.10839961e-04-2.75100356e-18j  0.00000000e+00+0.00000000e+00j]\n",
       " [ 2.18391554e-04+4.99286589e-01j  0.00000000e+00+0.00000000e+00j\n",
       "   0.00000000e+00+0.00000000e+00j  4.99784697e-01-1.17940453e-17j]]"
      ]
     },
     "execution_count": 170,
     "metadata": {},
     "output_type": "execute_result"
    },
    {
     "data": {
      "image/png": "[encoded data removed]",
      "text/plain": [
       "<Figure size 432x288 with 1 Axes>"
      ]
     },
     "metadata": {
      "needs_background": "light"
     },
     "output_type": "display_data"
    }
   ],
   "source": [
    "f = open(\"2_ion_fm1647463153.239342.yml\", \"r\")\n",
    "paras = f.read().splitlines()\n",
    "RedSB1_1 = float(paras[0])\n",
    "RedSB2_1 = float(paras[1])\n",
    "gate_time = float(paras[2])\n",
    "freq_sol = [float(paras[i])*1e6 for i in range(3,3+10)]\n",
    "CarrierFreq = float(paras[-2])*1e6\n",
    "CarrierRabi = float(paras[-1])\n",
    "\n",
    "exp = MSGateExp(spin=tensor(fock_dm(2,1),fock_dm(2,1)),\n",
    "                posi = np.array([-1.,1.]),\n",
    "                CarrierFreq = CarrierFreq,\n",
    "                RedSB1_1 = RedSB1_1,\n",
    "                RedSB2_1 = RedSB2_1,\n",
    "                Stark4Photon = 0,\n",
    "                RawFreq_sol = np.array(freq_sol),\n",
    "                ion1 = 0,\n",
    "                ion2 = 1,\n",
    "                gate_time = gate_time,\n",
    "                rabi_freq = (CarrierRabi)*0.1*2*np.pi,\n",
    "                motional_coherence = 100e-3,\n",
    "                Gamma = [4, 10],\n",
    "                laser_dp = 300e-3,\n",
    "                Nmax = 10)\n",
    "t_Raman = 4e-6 # pi time\n",
    "omega = np.pi/2/t_Raman\n",
    "omega1 = omega\n",
    "omega2 = omega\n",
    "s_ms = exp.parity_scan(phi_list = np.linspace(0,2*np.pi, 51),\n",
    "                    omega1 = omega1,\n",
    "                    omega2 = omega2,\n",
    "                    t_rotation = t_Raman/2 # pi/2 rotation\n",
    "                         )\n",
    "s_ms"
   ]
  },
  {
   "cell_type": "markdown",
   "metadata": {},
   "source": [
    "# Consider the shot-to-shot intensity noise\n",
    "Ideal case, the relative phases between $\\Delta\\phi_r$ and $\\Delta\\phi_b$ are kepted to be the same."
   ]
  },
  {
   "cell_type": "code",
   "execution_count": 162,
   "metadata": {},
   "outputs": [
    {
     "name": "stderr",
     "output_type": "stream",
     "text": [
      "\n",
      "\n",
      "\n",
      "\n",
      "\n",
      "\n",
      "\n",
      "  0%|          | 0/31 [00:00<?, ?it/s]\u001b[A\u001b[A\u001b[A\u001b[A\u001b[A\u001b[A\u001b[A\n",
      "\n",
      "\n",
      "\n",
      "\n",
      "\n",
      "\n",
      "  3%|▎         | 1/31 [02:00<1:00:12, 120.43s/it]\u001b[A\u001b[A\u001b[A\u001b[A\u001b[A\u001b[A\u001b[A\n",
      "\n",
      "\n",
      "\n",
      "\n",
      "\n",
      "\n",
      "  6%|▋         | 2/31 [04:02<58:30, 121.06s/it]  \u001b[A\u001b[A\u001b[A\u001b[A\u001b[A\u001b[A\u001b[A\n",
      "\n",
      "\n",
      "\n",
      "\n",
      "\n",
      "\n",
      " 10%|▉         | 3/31 [06:08<57:03, 122.28s/it]\u001b[A\u001b[A\u001b[A\u001b[A\u001b[A\u001b[A\u001b[A\n",
      "\n",
      "\n",
      "\n",
      "\n",
      "\n",
      "\n",
      " 13%|█▎        | 4/31 [08:15<55:43, 123.85s/it]\u001b[A\u001b[A\u001b[A\u001b[A\u001b[A\u001b[A\u001b[A\n",
      "\n",
      "\n",
      "\n",
      "\n",
      "\n",
      "\n",
      " 16%|█▌        | 5/31 [10:21<53:54, 124.41s/it]\u001b[A\u001b[A\u001b[A\u001b[A\u001b[A\u001b[A\u001b[A\n",
      "\n",
      "\n",
      "\n",
      "\n",
      "\n",
      "\n",
      " 19%|█▉        | 6/31 [12:27<52:04, 124.98s/it]\u001b[A\u001b[A\u001b[A\u001b[A\u001b[A\u001b[A\u001b[A\n",
      "\n",
      "\n",
      "\n",
      "\n",
      "\n",
      "\n",
      " 23%|██▎       | 7/31 [14:31<49:54, 124.77s/it]\u001b[A\u001b[A\u001b[A\u001b[A\u001b[A\u001b[A\u001b[A\n",
      "\n",
      "\n",
      "\n",
      "\n",
      "\n",
      "\n",
      " 26%|██▌       | 8/31 [16:35<47:39, 124.33s/it]\u001b[A\u001b[A\u001b[A\u001b[A\u001b[A\u001b[A\u001b[A\n",
      "\n",
      "\n",
      "\n",
      "\n",
      "\n",
      "\n",
      " 29%|██▉       | 9/31 [18:39<45:35, 124.36s/it]\u001b[A\u001b[A\u001b[A\u001b[A\u001b[A\u001b[A\u001b[A\n",
      "\n",
      "\n",
      "\n",
      "\n",
      "\n",
      "\n",
      " 32%|███▏      | 10/31 [20:47<43:54, 125.47s/it]\u001b[A\u001b[A\u001b[A\u001b[A\u001b[A\u001b[A\u001b[A\n",
      "\n",
      "\n",
      "\n",
      "\n",
      "\n",
      "\n",
      " 35%|███▌      | 11/31 [22:55<42:03, 126.16s/it]\u001b[A\u001b[A\u001b[A\u001b[A\u001b[A\u001b[A\u001b[A\n",
      "\n",
      "\n",
      "\n",
      "\n",
      "\n",
      "\n",
      " 39%|███▊      | 12/31 [25:04<40:14, 127.05s/it]\u001b[A\u001b[A\u001b[A\u001b[A\u001b[A\u001b[A\u001b[A\n",
      "\n",
      "\n",
      "\n",
      "\n",
      "\n",
      "\n",
      " 42%|████▏     | 13/31 [27:13<38:16, 127.59s/it]\u001b[A\u001b[A\u001b[A\u001b[A\u001b[A\u001b[A\u001b[A\n",
      "\n",
      "\n",
      "\n",
      "\n",
      "\n",
      "\n",
      " 45%|████▌     | 14/31 [29:21<36:12, 127.82s/it]\u001b[A\u001b[A\u001b[A\u001b[A\u001b[A\u001b[A\u001b[A\n",
      "\n",
      "\n",
      "\n",
      "\n",
      "\n",
      "\n",
      " 48%|████▊     | 15/31 [31:33<34:23, 128.97s/it]\u001b[A\u001b[A\u001b[A\u001b[A\u001b[A\u001b[A\u001b[A\n",
      "\n",
      "\n",
      "\n",
      "\n",
      "\n",
      "\n",
      " 52%|█████▏    | 16/31 [33:50<32:51, 131.44s/it]\u001b[A\u001b[A\u001b[A\u001b[A\u001b[A\u001b[A\u001b[A\n",
      "\n",
      "\n",
      "\n",
      "\n",
      "\n",
      "\n",
      " 55%|█████▍    | 17/31 [36:01<30:37, 131.27s/it]\u001b[A\u001b[A\u001b[A\u001b[A\u001b[A\u001b[A\u001b[A\n",
      "\n",
      "\n",
      "\n",
      "\n",
      "\n",
      "\n",
      " 58%|█████▊    | 18/31 [38:18<28:46, 132.84s/it]\u001b[A\u001b[A\u001b[A\u001b[A\u001b[A\u001b[A\u001b[A\n",
      "\n",
      "\n",
      "\n",
      "\n",
      "\n",
      "\n",
      " 61%|██████▏   | 19/31 [40:30<26:34, 132.86s/it]\u001b[A\u001b[A\u001b[A\u001b[A\u001b[A\u001b[A\u001b[A\n",
      "\n",
      "\n",
      "\n",
      "\n",
      "\n",
      "\n",
      " 65%|██████▍   | 20/31 [42:44<24:22, 132.94s/it]\u001b[A\u001b[A\u001b[A\u001b[A\u001b[A\u001b[A\u001b[A\n",
      "\n",
      "\n",
      "\n",
      "\n",
      "\n",
      "\n",
      " 68%|██████▊   | 21/31 [44:57<22:09, 132.98s/it]\u001b[A\u001b[A\u001b[A\u001b[A\u001b[A\u001b[A\u001b[A\n",
      "\n",
      "\n",
      "\n",
      "\n",
      "\n",
      "\n",
      " 71%|███████   | 22/31 [47:19<20:21, 135.67s/it]\u001b[A\u001b[A\u001b[A\u001b[A\u001b[A\u001b[A\u001b[A\n",
      "\n",
      "\n",
      "\n",
      "\n",
      "\n",
      "\n",
      " 74%|███████▍  | 23/31 [49:39<18:17, 137.15s/it]\u001b[A\u001b[A\u001b[A\u001b[A\u001b[A\u001b[A\u001b[A\n",
      "\n",
      "\n",
      "\n",
      "\n",
      "\n",
      "\n",
      " 77%|███████▋  | 24/31 [51:55<15:57, 136.75s/it]\u001b[A\u001b[A\u001b[A\u001b[A\u001b[A\u001b[A\u001b[A\n",
      "\n",
      "\n",
      "\n",
      "\n",
      "\n",
      "\n",
      " 81%|████████  | 25/31 [54:04<13:26, 134.43s/it]\u001b[A\u001b[A\u001b[A\u001b[A\u001b[A\u001b[A\u001b[A\n",
      "\n",
      "\n",
      "\n",
      "\n",
      "\n",
      "\n",
      " 84%|████████▍ | 26/31 [56:20<11:14, 134.95s/it]\u001b[A\u001b[A\u001b[A\u001b[A\u001b[A\u001b[A\u001b[A\n",
      "\n",
      "\n",
      "\n",
      "\n",
      "\n",
      "\n",
      " 87%|████████▋ | 27/31 [58:30<08:53, 133.31s/it]\u001b[A\u001b[A\u001b[A\u001b[A\u001b[A\u001b[A\u001b[A\n",
      "\n",
      "\n",
      "\n",
      "\n",
      "\n",
      "\n",
      " 90%|█████████ | 28/31 [1:00:36<06:33, 131.11s/it]\u001b[A\u001b[A\u001b[A\u001b[A\u001b[A\u001b[A\u001b[A\n",
      "\n",
      "\n",
      "\n",
      "\n",
      "\n",
      "\n",
      " 94%|█████████▎| 29/31 [1:02:47<04:22, 131.20s/it]\u001b[A\u001b[A\u001b[A\u001b[A\u001b[A\u001b[A\u001b[A\n",
      "\n",
      "\n",
      "\n",
      "\n",
      "\n",
      "\n",
      " 97%|█████████▋| 30/31 [1:04:59<02:11, 131.40s/it]\u001b[A\u001b[A\u001b[A\u001b[A\u001b[A\u001b[A\u001b[A\n",
      "\n",
      "\n",
      "\n",
      "\n",
      "\n",
      "\n",
      "100%|██████████| 31/31 [1:07:15<00:00, 130.18s/it]\u001b[A\u001b[A\u001b[A\u001b[A\u001b[A\u001b[A\u001b[A\n"
     ]
    },
    {
     "data": {
      "text/plain": [
       "(-1.001, 1.001)"
      ]
     },
     "execution_count": 162,
     "metadata": {},
     "output_type": "execute_result"
    },
    {
     "data": {
      "image/png": "[encoded data removed]",
      "text/plain": [
       "<Figure size 432x288 with 1 Axes>"
      ]
     },
     "metadata": {
      "needs_background": "light"
     },
     "output_type": "display_data"
    }
   ],
   "source": [
    "f = open(\"2_ion_fm1647463153.239342.yml\", \"r\")\n",
    "paras = f.read().splitlines()\n",
    "RedSB1_1 = float(paras[0])\n",
    "RedSB2_1 = float(paras[1])\n",
    "gate_time = float(paras[2])\n",
    "freq_sol = [float(paras[i])*1e6 for i in range(3,3+10)]\n",
    "CarrierFreq = float(paras[-2])*1e6\n",
    "CarrierRabi = float(paras[-1])\n",
    "\n",
    "t_Raman = 4e-6 # pi time\n",
    "omega = np.pi/2/t_Raman\n",
    "omega1 = omega\n",
    "omega2 = omega\n",
    "\n",
    "phi_list = np.linspace(0,2*np.pi, 31)\n",
    "szzs = []\n",
    "expr_num = 50\n",
    "\n",
    "for phi in tqdm(phi_list):\n",
    "    exp_result = 0.0\n",
    "    mu, sigma = 1, 0.05\n",
    "    pwr_ub = np.random.normal(mu, sigma, expr_num)\n",
    "    for i in range(expr_num):  \n",
    "        exp = MSGateExp(spin=tensor(fock_dm(2,1),fock_dm(2,1)),\n",
    "                posi = np.array([-1.,1.]),\n",
    "                CarrierFreq = CarrierFreq,\n",
    "                RedSB1_1 = RedSB1_1,\n",
    "                RedSB2_1 = RedSB2_1,\n",
    "                Stark4Photon = 0,\n",
    "                RawFreq_sol = np.array(freq_sol),\n",
    "                ion1 = 0,\n",
    "                ion2 = 1,\n",
    "                gate_time = gate_time,\n",
    "                rabi_freq = (CarrierRabi)*0.1*2*np.pi,\n",
    "                pwrBalance = np.array([[1., pwr_ub[i]],\n",
    "                                       [1., pwr_ub[i]]]),\n",
    "                motional_coherence = 100e-3,\n",
    "                Gamma = [4, 10],\n",
    "                laser_dp = 300e-3,\n",
    "                Nmax = 10)\n",
    "\n",
    "        szz, s_init=exp.parity_scan_repeatable(\n",
    "                    phi = phi,\n",
    "                    omega1 = omega1,\n",
    "                    omega2 = omega1*pwr_ub[i],\n",
    "                    t_rotation = t_Raman/2, # pi/2 rotation\n",
    "                    deltaPhi = 0\n",
    "                 )\n",
    "        exp_result+=szz\n",
    "    szzs.append(exp_result/expr_num)\n",
    "    \n",
    "plt.plot(phi_list, szzs)\n",
    "plt.xlabel('Phase')\n",
    "plt.ylabel('Parity')\n",
    "plt.ylim([-1.001,1.001])"
   ]
  },
  {
   "cell_type": "code",
   "execution_count": 166,
   "metadata": {},
   "outputs": [
    {
     "data": {
      "text/plain": [
       "0.9870384985714792"
      ]
     },
     "execution_count": 166,
     "metadata": {},
     "output_type": "execute_result"
    }
   ],
   "source": [
    "contrast = (max(szzs)-min(szzs))/2\n",
    "contrast"
   ]
  },
  {
   "cell_type": "markdown",
   "metadata": {},
   "source": [
    "Gaussian noise:\n",
    "    \n",
    "$\\mu = 0, \\quad \\sigma = 0.1\\times2\\pi$ \n",
    "\n",
    "phi_b_list = `np.random.normal`($\\mu, \\sigma$, expr_num)\n",
    "\n",
    "phi_r_list = `np.random.normal`($\\mu, \\sigma$, expr_num)"
   ]
  },
  {
   "cell_type": "markdown",
   "metadata": {},
   "source": [
    "White noise: \n",
    "\n",
    "    phi_b_list = [rd.random()*2*np.pi for i in range(expr_num)]\n",
    "\n",
    "    phi_r_list = [rd.random()*2*np.pi for i in range(expr_num)]"
   ]
  },
  {
   "cell_type": "markdown",
   "metadata": {},
   "source": [
    "### Check the raman rotation parameters"
   ]
  },
  {
   "cell_type": "code",
   "execution_count": 62,
   "metadata": {},
   "outputs": [],
   "source": [
    "t_Raman = 6e-6\n",
    "omega = np.pi/2/t_Raman\n",
    "omega1 = omega\n",
    "omega2 = omega\n",
    "Nmax = 10\n",
    "phi= 0.0\n",
    "\n",
    "sigma_phi = np.cos(phi)*sigmax() - np.sin(phi)*sigmay()\n",
    "H1 = omega1*tensor(sigma_phi, qeye(2), qeye(Nmax))\n",
    "H2 = omega2*tensor(qeye(2), sigma_phi, qeye(Nmax))\n",
    "H = H1+H2\n",
    "tlist = np.linspace(0, t_Raman/2, 101)\n",
    "s_init = tensor(ket2dm(tensor(fock(2, 1), fock(2, 1))), thermal_dm(Nmax, 0.1))\n",
    "output = mesolve(H, s_init, tlist, [], [])\n",
    "\n",
    "szs = [(state.ptrace([0,1])*tensor(sigmaz(),qeye(2))).tr() for state in output.states]\n",
    "szzs = [(state.ptrace([0,1])*tensor(sigmaz(),sigmaz())).tr() for state in output.states]"
   ]
  },
  {
   "cell_type": "code",
   "execution_count": 63,
   "metadata": {},
   "outputs": [
    {
     "data": {
      "text/plain": [
       "[<matplotlib.lines.Line2D at 0x7f8380e24950>]"
      ]
     },
     "execution_count": 63,
     "metadata": {},
     "output_type": "execute_result"
    },
    {
     "data": {
      "image/png": "[encoded data removed]",
      "text/plain": [
       "<Figure size 432x288 with 1 Axes>"
      ]
     },
     "metadata": {
      "needs_background": "light"
     },
     "output_type": "display_data"
    }
   ],
   "source": [
    "plt.plot(szs)"
   ]
  },
  {
   "cell_type": "code",
   "execution_count": 64,
   "metadata": {},
   "outputs": [
    {
     "data": {
      "text/plain": [
       "[<matplotlib.lines.Line2D at 0x7f8380d1fd90>]"
      ]
     },
     "execution_count": 64,
     "metadata": {},
     "output_type": "execute_result"
    },
    {
     "data": {
      "image/png": "[encoded data removed]",
      "text/plain": [
       "<Figure size 432x288 with 1 Axes>"
      ]
     },
     "metadata": {
      "needs_background": "light"
     },
     "output_type": "display_data"
    }
   ],
   "source": [
    "plt.plot(szzs)"
   ]
  },
  {
   "cell_type": "code",
   "execution_count": 216,
   "metadata": {},
   "outputs": [
    {
     "data": {
      "text/latex": [
       "Quantum object: dims = [[2, 2], [2, 2]], shape = (4, 4), type = oper, isherm = True\\begin{equation*}\\left(\\begin{array}{*{11}c}0.0 & 0.0 & 0.0 & 0.0\\\\0.0 & 0.0 & -2.0j & 0.0\\\\0.0 & 2.0j & 0.0 & 0.0\\\\0.0 & 0.0 & 0.0 & 0.0\\\\\\end{array}\\right)\\end{equation*}"
      ],
      "text/plain": [
       "Quantum object: dims = [[2, 2], [2, 2]], shape = (4, 4), type = oper, isherm = True\n",
       "Qobj data =\n",
       "[[0.+0.j 0.+0.j 0.+0.j 0.+0.j]\n",
       " [0.+0.j 0.+0.j 0.-2.j 0.+0.j]\n",
       " [0.+0.j 0.+2.j 0.+0.j 0.+0.j]\n",
       " [0.+0.j 0.+0.j 0.+0.j 0.+0.j]]"
      ]
     },
     "execution_count": 216,
     "metadata": {},
     "output_type": "execute_result"
    }
   ],
   "source": [
    "tensor(sigmay(),sigmax()) - tensor(sigmax(), sigmay())"
   ]
  },
  {
   "cell_type": "code",
   "execution_count": null,
   "metadata": {},
   "outputs": [],
   "source": []
  }
 ],
 "metadata": {
  "kernelspec": {
   "display_name": "Python36",
   "language": "python",
   "name": "myenv"
  },
  "language_info": {
   "codemirror_mode": {
    "name": "ipython",
    "version": 3
   },
   "file_extension": ".py",
   "mimetype": "text/x-python",
   "name": "python",
   "nbconvert_exporter": "python",
   "pygments_lexer": "ipython3",
   "version": "3.7.4"
  }
 },
 "nbformat": 4,
 "nbformat_minor": 2
}
