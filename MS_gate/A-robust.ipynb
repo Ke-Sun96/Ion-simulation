{
 "cells": [
  {
   "cell_type": "markdown",
   "metadata": {},
   "source": [
    "# Mølmer–Sørensen Gate Simulator\n",
    "The Molmer-Sorensen Hamiltonian (for one ion) is defubed as the sum of the red and blue sideband interactions with symmetric detunning\n",
    "$$H_{ms}(t) = -i\\frac{\\eta\\Omega}{2}(\\sigma_+e^{i\\phi_s}-\\sigma_-e^{-i\\phi_s})(a e^{-i\\delta t} + a^{\\dagger}e^{i\\delta t})$$\n",
    "However, it is more convinient to use the original form of $\\hat{H} = \\hat{R}+\\hat{B}$, where writes $\\delta_r$, $\\delta_b$, $\\phi_r$, and $\\phi_b$ explicitly.\n",
    "$$-i\\frac{\\eta}{2}(\\Omega_r\\sigma_+ae^{-i\\delta_r t}e^{i\\phi_r}-\\Omega_r\\sigma_-a^{\\dagger}e^{i\\delta_r t}e^{-i\\phi_r}+ \\Omega_b\\sigma_+a^{\\dagger}e^{-i\\delta_b t}e^{i\\phi_b} -\n",
    "\\Omega_b\\sigma_-ae^{i\\delta_b t}e^{-i\\phi_b})$$"
   ]
  },
  {
   "cell_type": "code",
   "execution_count": 1,
   "metadata": {},
   "outputs": [],
   "source": [
    "import qutip as qt\n",
    "from qutip import *\n",
    "import numpy as np\n",
    "import matplotlib.pyplot as plt\n",
    "import datetime\n",
    "from numpy import linalg\n",
    "#import pandas as pd\n",
    "%matplotlib inline"
   ]
  },
  {
   "cell_type": "markdown",
   "metadata": {},
   "source": [
    "## Modulated MS Gate\n",
    "$\\Omega_r = \\Omega_b$ -> Every motional mode commutes"
   ]
  },
  {
   "cell_type": "code",
   "execution_count": 2,
   "metadata": {},
   "outputs": [],
   "source": [
    "class ModulatedMSGate(object):\n",
    "    def __init__(self, n_max = 10):\n",
    "        self.gate_time = 0.50\n",
    "        self.pulse_seq = -np.ones(2)*2*2*np.pi\n",
    "        self.mode_freq = np.zeros(1)*2*2*np.pi\n",
    "        self.rabi_freq = 1*2*np.pi\n",
    "        self.ion0 = 0\n",
    "        self.ion1 = 1\n",
    "        self.n_max = n_max\n",
    "        self.posi = np.array([-1.,1.])\n",
    "        self.eta = self._get_coupling()*2/np.sqrt(2)\n",
    "        self.freq_sol = np.ones(1)*-1\n",
    "        self.phase_sol = np.ones(2)*self.gate_time*2*np.pi\n",
    "        self.phase_list = np.arange(2)*self.gate_time*2*np.pi\n",
    "        self.amp_list = np.ones(2)\n",
    "    \n",
    "    def set_attr_fm(self,\n",
    "                    ion0,\n",
    "                    ion1,\n",
    "                    gate_time,\n",
    "                    freq_sol,\n",
    "                    rabi_freq,\n",
    "                    mode_freq,\n",
    "                    posi):\n",
    "        self.ion0 = ion0\n",
    "        self.ion1 = ion1\n",
    "        self.gate_time = gate_time\n",
    "        self.freq_sol = freq_sol\n",
    "        self.pulse_seq = freq_sol#np.append(freq_sol, np.flip(freq_sol)) # better for optimization\n",
    "        self.amp_list = np.ones(self.pulse_seq.shape[0])\n",
    "        self.mode_freq = mode_freq\n",
    "        self.rabi_freq = rabi_freq\n",
    "        self.posi = posi\n",
    "        self.eta = self._get_coupling()\n",
    "        self.phase_list = self._get_phase_fm(self.pulse_seq, self.gate_time/self.pulse_seq.shape[0])\n",
    "\n",
    "    def _get_phase_fm(self, freq_list, delta_t):\n",
    "        return np.append(0.0,(freq_list.cumsum()[:-1]-freq_list[1:]*np.arange(1,freq_list.shape[0]))*delta_t)\n",
    "    \n",
    "    def _get_coupling(self, beta = 9.48):\n",
    "        posi = self.posi\n",
    "        n = posi.shape[0] # number of ions\n",
    "        A = np.zeros([n, n])\n",
    "        for i in range(n):\n",
    "            for j in range(n):\n",
    "                if i == j:\n",
    "                    A[i][j] = beta**2 - np.sum(np.abs(posi[j]-posi[:j])**(-3)) - np.sum(np.abs(posi[j]-posi[j+1:])**(-3))\n",
    "                else:\n",
    "                    A[i][j] = 1. / np.abs(posi[i]-posi[j]) ** 3\n",
    "        w, v = linalg.eig(A)\n",
    "        idx = w.argsort()  \n",
    "        v = v[:,idx]\n",
    "        return v\n",
    "    \n",
    "    def _hamiltonian(self, mode_id ,step_id):\n",
    "        \n",
    "        eta = 1\n",
    "        ion0 = self.ion0\n",
    "        ion1 = self.ion1\n",
    "        pulse = self.pulse_seq\n",
    "        mode_freq = self.mode_freq\n",
    "        phase_list = self.phase_list\n",
    "        b = self.eta\n",
    "        mode = mode_id\n",
    "        Nmax = self.n_max\n",
    "\n",
    "        delta = (pulse[step_id] - mode_freq[mode_id])\n",
    "\n",
    "        delta_r = np.array([delta,delta])\n",
    "        delta_b = np.array([-delta,-delta])\n",
    "        \n",
    "        omega_r = np.array([self.rabi_freq,self.rabi_freq])*self.amp_list[step_id]\n",
    "        omega_b = np.array([self.rabi_freq,self.rabi_freq])*self.amp_list[step_id]\n",
    "        \n",
    "        phi_r   = -phase_list[step_id]# + (config)**0*delta_phi \n",
    "        phi_b   = -phi_r# + (config)**1*delta_phi\n",
    "\n",
    "        H0 = -1j*b[ion0, mode]*eta/2*omega_r[0]*np.exp(1j*phi_r)*qt.tensor(qt.sigmap(),qt.qeye(2),qt.destroy(Nmax))\n",
    "        def H0_coeff(t,args):\n",
    "            return np.exp(-1j*delta_r[0]*t)\n",
    "\n",
    "        H1 = 1j*b[ion0, mode]*eta/2*omega_r[0]*np.exp(-1j*phi_r)*qt.tensor(qt.sigmam(),qt.qeye(2),qt.create(Nmax))\n",
    "        def H1_coeff(t,args):\n",
    "            return np.exp(1j*delta_r[0]*t)\n",
    "\n",
    "        H2 = -1j*b[ion0, mode]*eta/2*omega_b[0]*np.exp(1j*phi_b)*qt.tensor(qt.sigmap(),qt.qeye(2),qt.create(Nmax))\n",
    "        def H2_coeff(t,args):\n",
    "            return np.exp(-1j*delta_b[0]*t)\n",
    "\n",
    "        H3 = 1j*b[ion0, mode]*eta/2*omega_b[0]*np.exp(-1j*phi_b)*qt.tensor(qt.sigmam(),qt.qeye(2),qt.destroy(Nmax))\n",
    "        def H3_coeff(t,args):\n",
    "            return np.exp(1j*delta_b[0]*t)\n",
    "\n",
    "        H4 = -1j*b[ion1, mode]*eta/2*omega_r[1]*np.exp(1j*phi_r)*qt.tensor(qt.qeye(2),qt.sigmap(),qt.destroy(Nmax))\n",
    "        def H4_coeff(t,args):\n",
    "            return np.exp(-1j*delta_r[1]*t)\n",
    "\n",
    "        H5 = 1j*b[ion1, mode]*eta/2*omega_r[1]*np.exp(-1j*phi_r)*qt.tensor(qt.qeye(2),qt.sigmam(),qt.create(Nmax))\n",
    "        def H5_coeff(t,args):\n",
    "            return np.exp(1j*delta_r[1]*t)\n",
    "\n",
    "        H6 = -1j*b[ion1, mode]*eta/2*omega_b[1]*np.exp(1j*phi_b)*qt.tensor(qt.qeye(2),qt.sigmap(),qt.create(Nmax))\n",
    "        def H6_coeff(t,args):\n",
    "            return np.exp(-1j*delta_b[1]*t)\n",
    "\n",
    "        H7 = 1j*b[ion1, mode]*eta/2*omega_b[1]*np.exp(-1j*phi_b)*qt.tensor(qt.qeye(2),qt.sigmam(),qt.destroy(Nmax))\n",
    "        def H7_coeff(t,args):\n",
    "            return np.exp(1j*delta_b[1]*t)\n",
    "        \n",
    "        return [[H0,H0_coeff],\n",
    "                [H1,H1_coeff],\n",
    "                [H2,H2_coeff],\n",
    "                [H3,H3_coeff],\n",
    "                [H4,H4_coeff],\n",
    "                [H5,H5_coeff],\n",
    "                [H6,H6_coeff],\n",
    "                [H7,H7_coeff]]\n",
    "    \n",
    "    # Motion modes commute\n",
    "    def _get_spin(self, s0, nth, Gamma, coherence_t, Nsample, verbose, gateNum):\n",
    "        gate_time = self.gate_time\n",
    "        pulse = self.pulse_seq\n",
    "        Nmax = self.n_max\n",
    "        tau = coherence_t\n",
    "        \n",
    "        if not Gamma:\n",
    "            Gamma = np.zeros(self.mode_freq.shape[0])\n",
    "            \n",
    "        c_ops = []\n",
    "#         c_ops = [qt.tensor(qt.tensor(qt.qeye(2),qt.qeye(2)), np.sqrt(Gamma[i]*(nth[i]+1))*qt.destroy(Nmax)),\n",
    "#                          qt.tensor(qt.tensor(qt.qeye(2),qt.qeye(2)), np.sqrt(Gamma[i]*nth[i])*qt.create(Nmax))]\n",
    "#         if tau != 0:\n",
    "#             c_ops.append(qt.tensor(qt.qeye(2),qt.qeye(2),np.sqrt(2/tau)*qt.create(Nmax)*qt.destroy(Nmax)))\n",
    "            \n",
    "        s_init_0 = qt.tensor(qt.ket2dm(qt.tensor(qt.fock(2,0),qt.fock(2,0))),qt.thermal_dm(Nmax,nth[0]))\n",
    "        t = np.linspace(0,gate_time,Nsample)\n",
    "        \n",
    "        t_step = gate_time/pulse.shape[0]\n",
    "        t_list = []\n",
    "        for i in range(pulse.shape[0]):\n",
    "            t_list.append(np.linspace(i*t_step, (i+1)*t_step, Nsample))\n",
    "        for k in range(gateNum):\n",
    "            if k == 0:\n",
    "                s_init = s_init_0\n",
    "#-----------------------------------------------------------------------------------------------------------\n",
    "            for i in range(pulse.shape[0]):\n",
    "                H = []\n",
    "                for j in range(self.mode_freq.shape[0]):\n",
    "                    H += self._hamiltonian(mode_id=j, step_id=i)\n",
    "                output = qt.mesolve(H, s_init, t_list[i], c_ops, [])\n",
    "                s_init = output.states[-1]\n",
    "#-----------------------------------------------------------------------------------------------------------\n",
    "#             for i in range(self.mode_freq.shape[0]):\n",
    "#                 for j in range(pulse.shape[0]):\n",
    "#                     H = self._hamiltonian(mode_id = i, step_id=j)\n",
    "#                     output = qt.mesolve(H,s_init,t_list[j],c_ops,[])\n",
    "#                     s_init = output.states[-1]\n",
    "#                 if i < self.mode_freq.shape[0] - 1:\n",
    "#                     s_init = qt.tensor(output.states[-1].ptrace([0,1]),qt.thermal_dm(Nmax,nth[i+1]))\n",
    "#-----------------------------------------------------------------------------------------------------------\n",
    "        spin = output.states[-1].ptrace([0,1])\n",
    "        return spin.full()\n",
    "    \n",
    "    def get_spin_fm(self, nth=[], Gamma=[], coherence_t=0, Nsample=10, verbose=True, gateNum=1):\n",
    "        if not nth:\n",
    "            nth = np.zeros(self.mode_freq.shape[0])\n",
    "        s0 = qt.tensor(qt.ket2dm(qt.tensor(qt.fock(2,0),qt.fock(2,0))),qt.thermal_dm(self.n_max,nth[0]))\n",
    "        return self._get_spin(s0, nth, Gamma, coherence_t, Nsample, verbose, gateNum)\n",
    "    \n",
    "    def _get_fidelity(self, s0, nth, Gamma, coherence_t, Nsample, verbose):\n",
    "        gate_time = self.gate_time\n",
    "        pulse = self.pulse_seq\n",
    "        Nmax = self.n_max\n",
    "        tau = coherence_t\n",
    "        \n",
    "        if not Gamma:\n",
    "            Gamma = np.zeros(self.mode_freq.shape[0])\n",
    "        \n",
    "        s_init = qt.tensor(qt.ket2dm(qt.tensor(qt.fock(2,0),qt.fock(2,0))),qt.thermal_dm(Nmax,nth[0]))\n",
    "        t = np.linspace(0,gate_time,Nsample)\n",
    "        \n",
    "        t_step = gate_time/pulse.shape[0]\n",
    "        t_list = []\n",
    "        for i in range(pulse.shape[0]):\n",
    "            t_list.append(np.linspace(i*t_step, (i+1)*t_step, Nsample))\n",
    "\n",
    "        for i in range(self.mode_freq.shape[0]):\n",
    "            for j in range(pulse.shape[0]):\n",
    "                H = self._hamiltonian(mode_id = i, step_id=j)\n",
    "                c_ops = []\n",
    "#                 c_ops = [qt.tensor(qt.tensor(qt.qeye(2),qt.qeye(2)), np.sqrt(Gamma[i]*(nth[i]+1))*qt.destroy(Nmax)),\n",
    "#                      qt.tensor(qt.tensor(qt.qeye(2),qt.qeye(2)), np.sqrt(Gamma[i]*nth[i])*qt.create(Nmax))]\n",
    "#                 if tau != 0:\n",
    "#                     c_ops.append(qt.tensor(qt.qeye(2),qt.qeye(2),np.sqrt(2/tau)*qt.create(Nmax)*qt.destroy(Nmax)))\n",
    "                output = qt.mesolve(H,s_init,t_list[j],c_ops,[])\n",
    "                s_init = output.states[-1]\n",
    "#                 if verbose:\n",
    "#                     print('.', end='')\n",
    "#             if verbose:\n",
    "#                 print('\\n', end='')\n",
    "            if i < self.mode_freq.shape[0] - 1:\n",
    "                s_init = qt.tensor(output.states[-1].ptrace([0,1]),qt.thermal_dm(Nmax,nth[i+1]))\n",
    "        spin = output.states[-1].ptrace([0,1])\n",
    "        print(spin)\n",
    "        final = 0.5*qt.ket2dm(qt.basis(4,0)-1j*qt.basis(4,3))\n",
    "        return qt.fidelity(qt.Qobj(spin.full()),final)\n",
    "    \n",
    "    def get_fidelity_fm(self, nth = [], Gamma = [], coherence_t = 0, Nsample = 10, verbose = True):\n",
    "        if not nth:\n",
    "            nth = np.zeros(self.mode_freq.shape[0])\n",
    "        s0 = qt.tensor(qt.ket2dm(qt.tensor(qt.fock(2,0),qt.fock(2,0))),qt.thermal_dm(self.n_max,nth[0]))\n",
    "        return self._get_fidelity(s0, nth, Gamma, coherence_t, Nsample, verbose)\n",
    "    \n",
    "    def _ps_x(self, state):\n",
    "        x = 1/np.sqrt(2)*(qt.destroy(self.n_max)+qt.create(self.n_max))\n",
    "        state_ptr = state.ptrace([2])\n",
    "        x_expect = np.real((state_ptr*x).tr())\n",
    "        return x_expect\n",
    "\n",
    "    def _ps_p(self, state):\n",
    "        p = 1j/np.sqrt(2)*(qt.create(self.n_max)-qt.destroy(self.n_max))\n",
    "        state_ptr = state.ptrace([2])\n",
    "        p_expect = np.real((state_ptr*p).tr())\n",
    "        return p_expect\n",
    "    \n",
    "    \n",
    "    def get_trajectory(self, nth = 0, Gamma = 0, coherence_t = 0, Nsample = 100):\n",
    "        v_phase_plot_x = np.vectorize(self._ps_x)\n",
    "        v_phase_plot_p = np.vectorize(self._ps_p)\n",
    "        nth = nth\n",
    "        Gamma = Gamma\n",
    "        gate_time = self.gate_time\n",
    "        pulse = self.pulse_seq\n",
    "        Nmax = self.n_max\n",
    "        tau = coherence_t\n",
    "        \n",
    "        eigen_state = (qt.tensor(qt.sigmap(),qt.qeye(2)) - qt.tensor(qt.sigmam(),qt.qeye(2))+\\\n",
    "                       qt.tensor(qt.qeye(2),qt.sigmap()) - qt.tensor(qt.qeye(2),qt.sigmam())).eigenstates()\n",
    "        \n",
    "        s_init = qt.tensor(eigen_state[1][1],qt.fock(Nmax,0))\n",
    "        t = np.linspace(0,gate_time,Nsample)\n",
    "        \n",
    "        t_step = gate_time/pulse.shape[0]\n",
    "        t_list = []\n",
    "        for i in range(pulse.shape[0]):\n",
    "            t_list.append(np.linspace(i*t_step, (i+1)*t_step, Nsample))\n",
    "        \n",
    "        states_list = []\n",
    "        figures = []\n",
    "        for i in range(self.mode_freq.shape[0]):\n",
    "            figures.append(plt.figure())\n",
    "            states = []\n",
    "            for j in range(pulse.shape[0]):\n",
    "                H = self._hamiltonian(mode_id = i, step_id=j)\n",
    "                c_ops = [qt.tensor(qt.tensor(qt.qeye(2),qt.qeye(2)), np.sqrt(Gamma*(nth+1))*qt.destroy(Nmax)),\n",
    "                     qt.tensor(qt.tensor(qt.qeye(2),qt.qeye(2)), np.sqrt(Gamma*nth)*qt.create(Nmax))]\n",
    "                if tau != 0:\n",
    "                     c_ops.append(qt.tensor(qt.qeye(2),qt.qeye(2),np.sqrt(2/tau)*qt.create(Nmax)*qt.destroy(Nmax)))\n",
    "                output = qt.mesolve(H,s_init,t_list[j],c_ops,[])\n",
    "                states = np.append(states, output.states)\n",
    "                s_init = output.states[-1]\n",
    "            states_list.append(states)\n",
    "            s_init = qt.tensor(output.states[-1].ptrace([0,1]),qt.thermal_dm(Nmax,nth))\n",
    "            \n",
    "        ps_x = []\n",
    "        ps_p = []\n",
    "        for i in range(self.mode_freq.shape[0]):\n",
    "            ax = figures[i].add_subplot(111)\n",
    "            ps_x.append(v_phase_plot_x(states_list[i]))\n",
    "            ps_p.append(v_phase_plot_p(states_list[i]))\n",
    "            ax.axis('square')\n",
    "            ax.set(xlim=(-0.2,0.2), ylim=(-0.2, 0.2))\n",
    "            ax.grid(True)\n",
    "            ax.set(xlabel='x')\n",
    "            ax.set(ylabel='p')\n",
    "            ax.plot(ps_x[-1],ps_p[-1],'o', ls='-', ms=4, mec = 'r',markevery = [0,-1])\n",
    "#             ax.set(tight_layout = True)\n",
    "            print(';;;;')\n",
    "            figures[i].tight_layout()\n",
    "#             figures[i].savefig('mode_%d.pdf' %i)\n",
    "        return ps_p, ps_x\n",
    "    \n",
    "    def scan_rabi(self, rabi_freqs, modulation = 'fm'):\n",
    "        res = []\n",
    "        rabi_origin = self.rabi_freq\n",
    "        for freq in rabi_freqs:\n",
    "            self.rabi_freq = freq\n",
    "            if modulation == 'pm':\n",
    "                fidelity = self.get_fidelity_pm(verbose = False)\n",
    "            if modulation =='fm':\n",
    "                fidelity = self.get_fidelity_fm(verbose = False)\n",
    "            res.append(fidelity)\n",
    "#         plt.plot(rabi_freqs, res)\n",
    "        table = np.concatenate((rabi_freqs.reshape(-1,1),np.array(res).reshape(-1,1)),axis=1)\n",
    "        table = pd.DataFrame(table)\n",
    "        self.rabi_freq = rabi_origin\n",
    "        return table "
   ]
  },
  {
   "cell_type": "code",
   "execution_count": 3,
   "metadata": {},
   "outputs": [],
   "source": [
    "def plot_detuningScan(solution, mode_freq, gate_time, rabi_freq, detuning, ion0=0, ion1=1, gateNum=1, ampOffset=1, Nsample=10, posi = np.array([-1., 1.])):\n",
    "    P_00 = []\n",
    "    P_11 = []\n",
    "    P_0110 = []\n",
    "    for i in detuning:\n",
    "        sim.set_attr_fm(ion0,\n",
    "                       ion1,\n",
    "                       gate_time,\n",
    "                       solution+i,\n",
    "                       rabi_freq*ampOffset,\n",
    "                       mode_freq,\n",
    "                       posi)\n",
    "        spin = sim.get_spin_fm(gateNum=gateNum, Nsample=Nsample)\n",
    "#         print(spin)\n",
    "        P_00.append(spin[0][0].real)\n",
    "        P_11.append(spin[-1][-1].real)\n",
    "        P_0110.append(spin[1][1].real+spin[2][2].real)\n",
    "    plt.plot(detuning, P_00)\n",
    "    plt.plot(detuning, P_11)\n",
    "    plt.plot(detuning, P_0110)"
   ]
  },
  {
   "cell_type": "code",
   "execution_count": 64,
   "metadata": {},
   "outputs": [],
   "source": [
    "# sim = ModulatedMSGate()\n",
    "# # sim.pulse_seq *= 2\n",
    "# sim.phase_list = sim._get_phase_fm(sim.pulse_seq, sim.gate_time/sim.pulse_seq.shape[0])\n",
    "# # print(sim.pulse_seq)\n",
    "# # sim.get_fidelity_fm()\n",
    "# sim.get_spin_fm()#[-1][-1].real\n",
    "# # sim.pulse_seq/np.pi"
   ]
  },
  {
   "cell_type": "code",
   "execution_count": 65,
   "metadata": {},
   "outputs": [],
   "source": [
    "# detuning_list = np.linspace(-2, 2, 51)*2*np.pi\n",
    "# sim = ModulatedMSGate()\n",
    "# freq = sim.pulse_seq\n",
    "# time = sim.gate_time\n",
    "# sim.rabi_freq *= 1.0\n",
    "# P_00 = []\n",
    "# P_11 = []\n",
    "# P_0110 = []\n",
    "# # sim.gate_time *= 3\n",
    "# for i in detuning_list:\n",
    "#     sim.pulse_seq = freq+i\n",
    "#     sim.phase_list = sim._get_phase_fm(sim.pulse_seq, sim.gate_time/sim.pulse_seq.shape[0])\n",
    "#     spin = sim.get_spin_fm(gateNum=1)\n",
    "#     P_00.append(spin[0][0].real)\n",
    "#     P_11.append(spin[-1][-1].real)\n",
    "#     P_0110.append(spin[1][1].real+spin[2][2].real)\n",
    "# plt.plot(detuning_list, P_00)\n",
    "# plt.plot(detuning_list, P_11)\n",
    "# plt.plot(detuning_list, P_0110)"
   ]
  },
  {
   "cell_type": "code",
   "execution_count": 66,
   "metadata": {},
   "outputs": [],
   "source": [
    "# P_00 = []\n",
    "# P_11 = []\n",
    "# P_0110 = []\n",
    "# sim.gate_time = 2*time\n",
    "# for i in detuning_list:\n",
    "#     sim.pulse_seq = freq+i\n",
    "#     sim.phase_list = sim._get_phase_fm(sim.pulse_seq, sim.gate_time/sim.pulse_seq.shape[0])\n",
    "#     spin = sim.get_spin_fm()\n",
    "#     P_00.append(spin[0][0].real)\n",
    "#     P_11.append(spin[-1][-1].real)\n",
    "#     P_0110.append(spin[1][1].real+spin[2][2].real)\n",
    "# plt.plot(detuning_list, P_00)\n",
    "# plt.plot(detuning_list, P_11)\n",
    "# plt.plot(detuning_list, P_0110)"
   ]
  },
  {
   "cell_type": "code",
   "execution_count": 4,
   "metadata": {},
   "outputs": [
    {
     "name": "stdout",
     "output_type": "stream",
     "text": [
      "Quantum object: dims = [[2, 2], [2, 2]], shape = (4, 4), type = oper, isherm = True\n",
      "Qobj data =\n",
      "[[0.44926487-7.93144541e-19j 0.        +0.00000000e+00j\n",
      "  0.        +0.00000000e+00j 0.00059736+4.96018360e-01j]\n",
      " [0.        +0.00000000e+00j 0.00153145-1.42626806e-18j\n",
      "  0.00059736-1.22299208e-04j 0.        +0.00000000e+00j]\n",
      " [0.        +0.00000000e+00j 0.00059736+1.22299208e-04j\n",
      "  0.00155623+1.07847853e-18j 0.        +0.00000000e+00j]\n",
      " [0.00059736-4.96018360e-01j 0.        +0.00000000e+00j\n",
      "  0.        +0.00000000e+00j 0.54764745+1.00059877e-18j]]\n",
      "Fidelity = 0.9944745194461391\n"
     ]
    },
    {
     "data": {
      "text/plain": [
       "array([[0.44770069-1.25082009e-16j, 0.        +0.00000000e+00j,\n",
       "        0.        +0.00000000e+00j, 0.00234565+4.94831442e-01j],\n",
       "       [0.        +0.00000000e+00j, 0.00223478+1.20600844e-16j,\n",
       "        0.00234565-1.19829660e-03j, 0.        +0.00000000e+00j],\n",
       "       [0.        +0.00000000e+00j, 0.00234565+1.19829660e-03j,\n",
       "        0.00310258-3.88035483e-17j, 0.        +0.00000000e+00j],\n",
       "       [0.00234565-4.94831442e-01j, 0.        +0.00000000e+00j,\n",
       "        0.        +0.00000000e+00j, 0.54696195+4.19758284e-17j]])"
      ]
     },
     "execution_count": 4,
     "metadata": {},
     "output_type": "execute_result"
    }
   ],
   "source": [
    "sim = ModulatedMSGate()\n",
    "\n",
    "# print('inital:',sim.get_fidelity_fm())\n",
    "\n",
    "gate_time = 240e-6\n",
    "freq_sol = np.array([2562884.58951155,2563155.41500363,2566287.25118339,2567962.17245792,2571894.67577371,\n",
    "                    2569827.37720839,2572617.6210965,2570194.91058722,2571711.28955478,2570636.58740031])* np.pi*2\n",
    "freq_sol = np.append(freq_sol, np.flip(freq_sol))\n",
    "mode_freq = np.sort(np.array([2.5767856,2.61619399,2.6465736,2.67305124,2.68736908]))*2e6*np.pi\n",
    "rabi_freq = (4749.4097)* np.pi*2\n",
    "\n",
    "ion0 = 2\n",
    "ion1 = 3\n",
    "posi = np.array([-1.95632,-0.941502,-0.0330485,0.875784,1.89247])\n",
    "\n",
    "sim.set_attr_fm(ion0,\n",
    "                ion1,\n",
    "                gate_time,\n",
    "                freq_sol+2e3,\n",
    "                rabi_freq,\n",
    "                mode_freq,\n",
    "                posi)\n",
    "nth = []#[0.0]*5\n",
    "Gamma = []#[100.,100.,100.,100.,1500.]\n",
    "print('Fidelity =',sim.get_fidelity_fm(nth, Gamma, coherence_t = 2e3)**2)\n",
    "sim.get_spin_fm()"
   ]
  },
  {
   "cell_type": "code",
   "execution_count": 7,
   "metadata": {},
   "outputs": [
    {
     "name": "stdout",
     "output_type": "stream",
     "text": [
      "Quantum object: dims = [[2, 2], [2, 2]], shape = (4, 4), type = oper, isherm = True\n",
      "Qobj data =\n",
      "[[ 0.18908807+6.74428024e-18j  0.        +0.00000000e+00j\n",
      "   0.        +0.00000000e+00j -0.00179815+3.90549310e-01j]\n",
      " [ 0.        +0.00000000e+00j  0.00209206-4.95237534e-17j\n",
      "  -0.00179815-5.74993621e-18j  0.        +0.00000000e+00j]\n",
      " [ 0.        +0.00000000e+00j -0.00179815+1.75519133e-17j\n",
      "   0.00209206+5.96131291e-17j  0.        +0.00000000e+00j]\n",
      " [-0.00179815-3.90549310e-01j  0.        +0.00000000e+00j\n",
      "   0.        +0.00000000e+00j  0.8067278 -1.54527234e-17j]]\n",
      "Fidelity = 0.8884572455942511\n"
     ]
    },
    {
     "data": {
      "text/plain": [
       "array([[ 0.18908828+1.13248809e-18j,  0.        +0.00000000e+00j,\n",
       "         0.        +0.00000000e+00j, -0.00179863+3.90549192e-01j],\n",
       "       [ 0.        +0.00000000e+00j,  0.00109205-5.24418917e-17j,\n",
       "        -0.00179863+3.70469144e-04j,  0.        +0.00000000e+00j],\n",
       "       [ 0.        +0.00000000e+00j, -0.00179863-3.70469144e-04j,\n",
       "         0.00309185+7.43563704e-17j,  0.        +0.00000000e+00j],\n",
       "       [-0.00179863-3.90549192e-01j,  0.        +0.00000000e+00j,\n",
       "         0.        +0.00000000e+00j,  0.80672782-2.22244557e-17j]])"
      ]
     },
     "execution_count": 7,
     "metadata": {},
     "output_type": "execute_result"
    }
   ],
   "source": [
    "sim = ModulatedMSGate()\n",
    "\n",
    "gate_time = 120e-6\n",
    "freq_sol_half = np.array([2256720.97160761, 2268465.85854298, 2286074.27451288,\n",
    "       2267246.47544973, 2291406.19836854, 2294725.95324193,\n",
    "       2283418.5698234 , 2282386.86542765, 2292520.70295315,\n",
    "       2283464.68783479])*2*np.pi\n",
    "freq_sol = np.append(freq_sol_half, np.flip(freq_sol_half))\n",
    "mode_freq = np.sort(np.array([2.3, 2.33]))*2e6*np.pi\n",
    "rabi_freq = 101316.446*0.1*2*np.pi\n",
    "\n",
    "ion0 = 0\n",
    "ion1 = 1\n",
    "posi = np.array([-1., 1.])\n",
    "\n",
    "sim.set_attr_fm(ion0,\n",
    "                ion1,\n",
    "                gate_time,\n",
    "                freq_sol+20e3,\n",
    "                rabi_freq,\n",
    "                mode_freq,\n",
    "                posi)\n",
    "nth = []#[0.0]*5\n",
    "Gamma = []#[100.,100.,100.,100.,1500.]\n",
    "print('Fidelity =',sim.get_fidelity_fm(nth, Gamma, coherence_t = 2e3)**2)\n",
    "sim.get_spin_fm()"
   ]
  },
  {
   "cell_type": "code",
   "execution_count": 96,
   "metadata": {},
   "outputs": [
    {
     "data": {
      "image/png": "[encoded data removed]",
      "text/plain": [
       "<Figure size 432x288 with 1 Axes>"
      ]
     },
     "metadata": {
      "needs_background": "light"
     },
     "output_type": "display_data"
    }
   ],
   "source": [
    "detuning_list = np.linspace(-1, 1, 31)*2e3*np.pi\n",
    "# solution, mode_freq, gate_time, rabi_freq, detuning\n",
    "plot_detuningScan(freq_sol, mode_freq, gate_time, rabi_freq, detuning_list, gateNum=1, ampOffset=1)\n",
    "# plot_detuningScan(freq_sol, mode_freq, gate_time, detuning_list, gateNum=5, ampOffset=1.1)\n",
    "# plot_detuningScan(freq_sol, mode_freq, gate_time, detuning_list, gateNum=9, ampOffset=1.1)\n",
    "# plot_detuningScan(freq_sol, mode_freq, gate_time, detuning_list, ampOffset=1.05)"
   ]
  },
  {
   "cell_type": "code",
   "execution_count": 8,
   "metadata": {},
   "outputs": [
    {
     "name": "stdout",
     "output_type": "stream",
     "text": [
      "Quantum object: dims = [[2, 2], [2, 2]], shape = (4, 4), type = oper, isherm = True\n",
      "Qobj data =\n",
      "[[ 4.29050780e-01-2.91679810e-17j  0.00000000e+00+0.00000000e+00j\n",
      "   0.00000000e+00+0.00000000e+00j -2.39885074e-04+4.93705853e-01j]\n",
      " [ 0.00000000e+00+0.00000000e+00j  1.41760708e-03+1.57731114e-17j\n",
      "  -2.39885074e-04+1.76576152e-17j  0.00000000e+00+0.00000000e+00j]\n",
      " [ 0.00000000e+00+0.00000000e+00j -2.39885074e-04-6.24941589e-18j\n",
      "   1.41760708e-03-5.78975504e-18j  0.00000000e+00+0.00000000e+00j]\n",
      " [-2.39885074e-04-4.93705853e-01j  0.00000000e+00+0.00000000e+00j\n",
      "   0.00000000e+00+0.00000000e+00j  5.68114006e-01+1.96165334e-17j]]\n",
      "Fidelity = 0.9922882455558769\n"
     ]
    },
    {
     "data": {
      "text/plain": [
       "array([[ 4.29052394e-01+3.19935007e-17j,  0.00000000e+00+0.00000000e+00j,\n",
       "         0.00000000e+00+0.00000000e+00j, -2.40302913e-04+4.93704848e-01j],\n",
       "       [ 0.00000000e+00+0.00000000e+00j,  1.58189087e-04+1.26379010e-17j,\n",
       "        -2.40302913e-04+5.97238259e-04j,  0.00000000e+00+0.00000000e+00j],\n",
       "       [ 0.00000000e+00+0.00000000e+00j, -2.40302913e-04-5.97238259e-04j,\n",
       "         2.67792320e-03-5.89567748e-17j,  0.00000000e+00+0.00000000e+00j],\n",
       "       [-2.40302913e-04-4.93704848e-01j,  0.00000000e+00+0.00000000e+00j,\n",
       "         0.00000000e+00+0.00000000e+00j,  5.68111493e-01+1.33685754e-17j]])"
      ]
     },
     "execution_count": 8,
     "metadata": {},
     "output_type": "execute_result"
    }
   ],
   "source": [
    "sim2 = ModulatedMSGate()\n",
    "\n",
    "gate_time_2 = 240e-6\n",
    "freq_sol_2_half = np.array([2256720.97160761, 2268465.85854298, 2286074.27451288,\n",
    "       2267246.47544973, 2291406.19836854, 2294725.95324193,\n",
    "       2283418.5698234 , 2282386.86542765, 2292520.70295315,\n",
    "       2283464.68783479])#*2*np.pi\n",
    "freq_sol_2 = np.append(freq_sol_2_half, np.flip(freq_sol_2_half))#*2*np.pi\n",
    "# freq_sol_arobust = np.append(freq_sol_2, np.flip(freq_sol_2))#*2*np.pi\n",
    "freq_sol_arobust = np.append(freq_sol_2, (2.3+2.33)*1e6-freq_sol_2)*2*np.pi\n",
    "mode_freq = np.sort(np.array([2.3, 2.33]))*2e6*np.pi\n",
    "rabi_freq_2 = 101316.446*0.1*2*np.pi/np.sqrt(2)\n",
    "\n",
    "sim2.set_attr_fm(ion0,\n",
    "                ion1,\n",
    "                gate_time_2,\n",
    "                freq_sol_arobust+20e3,#+1e3,\n",
    "                rabi_freq_2,#/np.sqrt(2),\n",
    "                mode_freq,\n",
    "                posi)\n",
    "nth = []#[0.0]*5\n",
    "Gamma = []#[100.,100.,100.,100.,1500.]\n",
    "print('Fidelity =',sim2.get_fidelity_fm(nth, Gamma, coherence_t = 2e3, Nsample=20)**2)\n",
    "sim2.get_spin_fm(Nsample=20)"
   ]
  },
  {
   "cell_type": "code",
   "execution_count": 101,
   "metadata": {},
   "outputs": [
    {
     "data": {
      "image/png": "[encoded data removed]",
      "text/plain": [
       "<Figure size 432x288 with 1 Axes>"
      ]
     },
     "metadata": {
      "needs_background": "light"
     },
     "output_type": "display_data"
    }
   ],
   "source": [
    "plot_detuningScan(freq_sol_arobust, mode_freq, gate_time_2, rabi_freq_2, detuning_list, gateNum=1, ampOffset=1, Nsample=20)"
   ]
  },
  {
   "cell_type": "code",
   "execution_count": 134,
   "metadata": {},
   "outputs": [
    {
     "data": {
      "image/png": "[encoded data removed]",
      "text/plain": [
       "<Figure size 432x288 with 1 Axes>"
      ]
     },
     "metadata": {
      "needs_background": "light"
     },
     "output_type": "display_data"
    }
   ],
   "source": [
    "plot_detuningScan(freq_sol, mode_freq, gate_time, detuning_list, gateNum=5, ampOffset=1.0)"
   ]
  },
  {
   "cell_type": "code",
   "execution_count": 135,
   "metadata": {},
   "outputs": [
    {
     "data": {
      "image/png": "[encoded data removed]",
      "text/plain": [
       "<Figure size 432x288 with 1 Axes>"
      ]
     },
     "metadata": {
      "needs_background": "light"
     },
     "output_type": "display_data"
    }
   ],
   "source": [
    "plot_detuningScan(freq_sol, mode_freq, gate_time, detuning_list, gateNum=9, ampOffset=1.0)"
   ]
  },
  {
   "cell_type": "code",
   "execution_count": 76,
   "metadata": {},
   "outputs": [
    {
     "data": {
      "image/png": "[encoded data removed]",
      "text/plain": [
       "<Figure size 432x288 with 1 Axes>"
      ]
     },
     "metadata": {
      "needs_background": "light"
     },
     "output_type": "display_data"
    }
   ],
   "source": [
    "plot_detuningScan(freq_sol, mode_freq, gate_time, detuning_list, ampOffset=1.0)\n",
    "plot_detuningScan(freq_sol, mode_freq, 5*gate_time, detuning_list, ampOffset=1.0)\n",
    "plot_detuningScan(freq_sol, mode_freq, 9*gate_time, detuning_list, ampOffset=1.0)"
   ]
  },
  {
   "cell_type": "code",
   "execution_count": 7,
   "metadata": {},
   "outputs": [
    {
     "data": {
      "image/png": "[encoded data removed]",
      "text/plain": [
       "<Figure size 216x216 with 1 Axes>"
      ]
     },
     "metadata": {
      "needs_background": "light"
     },
     "output_type": "display_data"
    }
   ],
   "source": [
    "def plot_solution(solution, mode_freq, gate_time):\n",
    "    plt.rcParams['figure.figsize'] = [3,3]\n",
    "    for omega in mode_freq:\n",
    "        plt.hlines(y=omega/(2*np.pi)/1e6,xmin=0,xmax=gate_time*1e3,color='r',linestyle='-')\n",
    "  \n",
    "    steps = 5000\n",
    "    x = np.linspace(0,gate_time,steps*len(solution)*2)\n",
    "    y = np.kron(np.append(solution, np.flip(solution)),np.ones(steps))\n",
    "    plt.plot(x*1e3,y/(2*np.pi)/1e6)\n",
    "    plt.title('Sideband Frequencies (MHz)')\n",
    "    plt.xlabel('Time (ms)')\n",
    "    plt.tight_layout()\n",
    "    #plt.savefig('../+Python/freq_sol.pdf')\n",
    "plot_solution(freq_sol, mode_freq, gate_time)"
   ]
  },
  {
   "cell_type": "code",
   "execution_count": null,
   "metadata": {},
   "outputs": [],
   "source": []
  },
  {
   "cell_type": "code",
   "execution_count": 8,
   "metadata": {},
   "outputs": [
    {
     "name": "stdout",
     "output_type": "stream",
     "text": [
      "....................\n",
      "....................\n",
      "....................\n",
      "....................\n",
      "....................\n",
      "Quantum object: dims = [[2, 2], [2, 2]], shape = (4, 4), type = oper, isherm = True\n",
      "Qobj data =\n",
      "[[ 0.48893664+0.j          0.        +0.j          0.        +0.j\n",
      "  -0.00909822+0.48509315j]\n",
      " [ 0.        +0.j          0.01135214+0.j         -0.00909822+0.0039999j\n",
      "   0.        +0.j        ]\n",
      " [ 0.        +0.j         -0.00909822-0.0039999j   0.01124913+0.j\n",
      "   0.        +0.j        ]\n",
      " [-0.00909822-0.48509315j  0.        +0.j          0.        +0.j\n",
      "   0.48846209+0.j        ]]\n",
      "0.9737925307283308\n"
     ]
    }
   ],
   "source": [
    "sim = ModulatedMSGate()\n",
    "\n",
    "gate_time = 180e-6\n",
    "freq_sol = np.array([16090357.93001755, 16121142.99551053, 16083261.81418849,\n",
    "       16124716.61503399, 16082721.16788275, 16102789.54534561,\n",
    "       16098945.97226923, 16090905.68257412, 16111698.68100802,\n",
    "       16101592.99223338, 16104911.02899459, 16113958.35285445,\n",
    "       16102405.95552298, 16101245.50116026, 16080791.84338749,\n",
    "       16086653.19349161, 16122353.79961239, 16103724.46630204,\n",
    "       16088776.24675219, 16105366.94910051])\n",
    "phase_sol = np.array([-2.65386566e+02,  3.32540514e-01, -2.83544764e-01, -5.22290512e-01,\n",
    "        2.87665476e-01,  3.28931423e-01,  1.48801535e+00,  4.39223573e-02,\n",
    "       -5.80866048e+00,  3.15695320e-02, -1.91726740e-01,  7.34199587e-01,\n",
    "       -4.04035865e-01,  3.26240451e-01,  1.39248308e+00,  2.35129319e+00,\n",
    "       -1.31046198e+00, -3.93546026e-01,  1.68129596e-01, -4.93702966e-01])\n",
    "mode_freq = np.sort(np.array([2.68847, 2.67426, 2.64638, 2.61652, 2.57733])+0.00)*2e6*np.pi\n",
    "rabi_freq = (8186.931)* np.pi*2\n",
    "\n",
    "ion0 = 2\n",
    "ion1 = 3\n",
    "posi = np.array([-1.95632,-0.941502,-0.0330485,0.875784,1.89247])\n",
    "\n",
    "sim.set_attr_fmpm(ion0,\n",
    "                  ion1,\n",
    "                  gate_time,\n",
    "                  freq_sol,\n",
    "                  phase_sol,\n",
    "                  rabi_freq,\n",
    "                  mode_freq,\n",
    "                  posi)\n",
    "nth = [0.0000001]*5\n",
    "Gamma = [100.,100.,100.,100.,1500.]\n",
    "print(sim.get_fidelity_pm(nth = nth, Gamma = Gamma, coherence_t = 12*gate_time)**2)\n",
    "# sim.get_trajectory(coherence_t = 2e-3)"
   ]
  },
  {
   "cell_type": "code",
   "execution_count": 9,
   "metadata": {},
   "outputs": [
    {
     "data": {
      "text/latex": [
       "Quantum object: dims = [[4], [4]], shape = (4, 4), type = oper, isherm = True\\begin{equation*}\\left(\\begin{array}{*{11}c}0.500 & 0.0 & 0.0 & -0.500j\\\\0.0 & 0.0 & 0.0 & 0.0\\\\0.0 & 0.0 & 0.0 & 0.0\\\\0.500j & 0.0 & 0.0 & 0.500\\\\\\end{array}\\right)\\end{equation*}"
      ],
      "text/plain": [
       "Quantum object: dims = [[4], [4]], shape = (4, 4), type = oper, isherm = True\n",
       "Qobj data =\n",
       "[[0.5+0.j  0. +0.j  0. +0.j  0. -0.5j]\n",
       " [0. +0.j  0. +0.j  0. +0.j  0. +0.j ]\n",
       " [0. +0.j  0. +0.j  0. +0.j  0. +0.j ]\n",
       " [0. +0.5j 0. +0.j  0. +0.j  0.5+0.j ]]"
      ]
     },
     "execution_count": 9,
     "metadata": {},
     "output_type": "execute_result"
    }
   ],
   "source": [
    "qt.ket2dm(qt.Qobj(np.array([[0.5+0.5j,0,0,0.5-0.5j]])))"
   ]
  },
  {
   "cell_type": "code",
   "execution_count": 10,
   "metadata": {},
   "outputs": [
    {
     "data": {
      "text/latex": [
       "Quantum object: dims = [[4], [4]], shape = (4, 4), type = oper, isherm = True\\begin{equation*}\\left(\\begin{array}{*{11}c}0.500 & 0.0 & 0.0 & 0.500j\\\\0.0 & 0.0 & 0.0 & 0.0\\\\0.0 & 0.0 & 0.0 & 0.0\\\\-0.500j & 0.0 & 0.0 & 0.500\\\\\\end{array}\\right)\\end{equation*}"
      ],
      "text/plain": [
       "Quantum object: dims = [[4], [4]], shape = (4, 4), type = oper, isherm = True\n",
       "Qobj data =\n",
       "[[0.5+0.j  0. +0.j  0. +0.j  0. +0.5j]\n",
       " [0. +0.j  0. +0.j  0. +0.j  0. +0.j ]\n",
       " [0. +0.j  0. +0.j  0. +0.j  0. +0.j ]\n",
       " [0. -0.5j 0. +0.j  0. +0.j  0.5+0.j ]]"
      ]
     },
     "execution_count": 10,
     "metadata": {},
     "output_type": "execute_result"
    }
   ],
   "source": [
    "qt.ket2dm(qt.Qobj(np.array([[0.5-0.5j,0,0,0.5+0.5j]])))"
   ]
  },
  {
   "cell_type": "code",
   "execution_count": 11,
   "metadata": {},
   "outputs": [
    {
     "data": {
      "text/latex": [
       "Quantum object: dims = [[4], [1]], shape = (4, 1), type = ket\\begin{equation*}\\left(\\begin{array}{*{11}c}0.707\\\\0.0\\\\0.0\\\\0.707j\\\\\\end{array}\\right)\\end{equation*}"
      ],
      "text/plain": [
       "Quantum object: dims = [[4], [1]], shape = (4, 1), type = ket\n",
       "Qobj data =\n",
       "[[0.70710678+0.j        ]\n",
       " [0.        +0.j        ]\n",
       " [0.        +0.j        ]\n",
       " [0.        +0.70710678j]]"
      ]
     },
     "execution_count": 11,
     "metadata": {},
     "output_type": "execute_result"
    }
   ],
   "source": [
    "init = qt.Qobj(((qt.tensor(qt.fock(2,0),qt.fock(2,0)))).full())\n",
    "ms = qt.Qobj(1/np.sqrt(2)*np.array([[1,0,0,np.exp(1j*(np.pi*(-1/2)))],[0,1,-1j,0],[0,-1j,1,0],[np.exp(-1j*np.pi*(-1/2)),0,0,1]]))\n",
    "ms*init"
   ]
  },
  {
   "cell_type": "code",
   "execution_count": 13,
   "metadata": {},
   "outputs": [
    {
     "name": "stdout",
     "output_type": "stream",
     "text": [
      "....................\n",
      "....................\n",
      "....................\n",
      "....................\n",
      "....................\n",
      "Quantum object: dims = [[2, 2], [2, 2]], shape = (4, 4), type = oper, isherm = True\n",
      "Qobj data =\n",
      "[[4.89228689e-01+0.00000000e+00j 0.00000000e+00+0.00000000e+00j\n",
      "  0.00000000e+00+0.00000000e+00j 1.84331915e-04+4.87275222e-01j]\n",
      " [0.00000000e+00+0.00000000e+00j 1.10417675e-02+0.00000000e+00j\n",
      "  1.84331915e-04+3.06960494e-05j 0.00000000e+00+0.00000000e+00j]\n",
      " [0.00000000e+00+0.00000000e+00j 1.84331915e-04-3.06960494e-05j\n",
      "  1.10411990e-02+0.00000000e+00j 0.00000000e+00+0.00000000e+00j]\n",
      " [1.84331915e-04-4.87275222e-01j 0.00000000e+00+0.00000000e+00j\n",
      "  0.00000000e+00+0.00000000e+00j 4.88688345e-01+0.00000000e+00j]]\n",
      "0.976233759860616\n"
     ]
    },
    {
     "ename": "TypeError",
     "evalue": "must be real number, not Qobj",
     "output_type": "error",
     "traceback": [
      "\u001b[0;31m---------------------------------------------------------------------------\u001b[0m",
      "\u001b[0;31mTypeError\u001b[0m                                 Traceback (most recent call last)",
      "\u001b[0;32m<ipython-input-13-c8884571e994>\u001b[0m in \u001b[0;36m<module>\u001b[0;34m\u001b[0m\n\u001b[1;32m     22\u001b[0m \u001b[0mGamma\u001b[0m \u001b[0;34m=\u001b[0m \u001b[0;34m[\u001b[0m\u001b[0;36m100.\u001b[0m\u001b[0;34m,\u001b[0m\u001b[0;36m100.\u001b[0m\u001b[0;34m,\u001b[0m\u001b[0;36m100.\u001b[0m\u001b[0;34m,\u001b[0m\u001b[0;36m100.\u001b[0m\u001b[0;34m,\u001b[0m\u001b[0;36m1500.\u001b[0m\u001b[0;34m]\u001b[0m\u001b[0;34m\u001b[0m\u001b[0;34m\u001b[0m\u001b[0m\n\u001b[1;32m     23\u001b[0m \u001b[0mprint\u001b[0m\u001b[0;34m(\u001b[0m\u001b[0msim\u001b[0m\u001b[0;34m.\u001b[0m\u001b[0mget_fidelity_pm\u001b[0m\u001b[0;34m(\u001b[0m\u001b[0mnth\u001b[0m \u001b[0;34m=\u001b[0m \u001b[0mnth\u001b[0m\u001b[0;34m,\u001b[0m \u001b[0mGamma\u001b[0m \u001b[0;34m=\u001b[0m \u001b[0mGamma\u001b[0m\u001b[0;34m,\u001b[0m \u001b[0mcoherence_t\u001b[0m \u001b[0;34m=\u001b[0m \u001b[0;36m2e-3\u001b[0m\u001b[0;34m)\u001b[0m\u001b[0;34m**\u001b[0m\u001b[0;36m2\u001b[0m\u001b[0;34m)\u001b[0m\u001b[0;34m\u001b[0m\u001b[0;34m\u001b[0m\u001b[0m\n\u001b[0;32m---> 24\u001b[0;31m \u001b[0msim\u001b[0m\u001b[0;34m.\u001b[0m\u001b[0mget_trajectory\u001b[0m\u001b[0;34m(\u001b[0m\u001b[0mcoherence_t\u001b[0m \u001b[0;34m=\u001b[0m \u001b[0;36m2e-3\u001b[0m\u001b[0;34m)\u001b[0m\u001b[0;34m\u001b[0m\u001b[0;34m\u001b[0m\u001b[0m\n\u001b[0m",
      "\u001b[0;32m<ipython-input-2-4e0ff0addb63>\u001b[0m in \u001b[0;36mget_trajectory\u001b[0;34m(self, nth, Gamma, coherence_t, Nsample)\u001b[0m\n\u001b[1;32m    300\u001b[0m                 \u001b[0;31m#output = qt.mesolve(H,s_init,t_list[j],c_ops,[],option)\u001b[0m\u001b[0;34m\u001b[0m\u001b[0;34m\u001b[0m\u001b[0;34m\u001b[0m\u001b[0m\n\u001b[1;32m    301\u001b[0m                 \u001b[0moutput\u001b[0m \u001b[0;34m=\u001b[0m \u001b[0mqt\u001b[0m\u001b[0;34m.\u001b[0m\u001b[0mmesolve\u001b[0m\u001b[0;34m(\u001b[0m\u001b[0mH\u001b[0m\u001b[0;34m,\u001b[0m\u001b[0ms_init\u001b[0m\u001b[0;34m,\u001b[0m\u001b[0mt_list\u001b[0m\u001b[0;34m[\u001b[0m\u001b[0mj\u001b[0m\u001b[0;34m]\u001b[0m\u001b[0;34m,\u001b[0m\u001b[0mc_ops\u001b[0m\u001b[0;34m,\u001b[0m\u001b[0;34m[\u001b[0m\u001b[0;34m]\u001b[0m\u001b[0;34m)\u001b[0m\u001b[0;34m\u001b[0m\u001b[0;34m\u001b[0m\u001b[0m\n\u001b[0;32m--> 302\u001b[0;31m                 \u001b[0mstates\u001b[0m \u001b[0;34m=\u001b[0m \u001b[0mnp\u001b[0m\u001b[0;34m.\u001b[0m\u001b[0mappend\u001b[0m\u001b[0;34m(\u001b[0m\u001b[0mstates\u001b[0m\u001b[0;34m,\u001b[0m \u001b[0moutput\u001b[0m\u001b[0;34m.\u001b[0m\u001b[0mstates\u001b[0m\u001b[0;34m)\u001b[0m\u001b[0;34m\u001b[0m\u001b[0;34m\u001b[0m\u001b[0m\n\u001b[0m\u001b[1;32m    303\u001b[0m                 \u001b[0ms_init\u001b[0m \u001b[0;34m=\u001b[0m \u001b[0moutput\u001b[0m\u001b[0;34m.\u001b[0m\u001b[0mstates\u001b[0m\u001b[0;34m[\u001b[0m\u001b[0;34m-\u001b[0m\u001b[0;36m1\u001b[0m\u001b[0;34m]\u001b[0m\u001b[0;34m\u001b[0m\u001b[0;34m\u001b[0m\u001b[0m\n\u001b[1;32m    304\u001b[0m             \u001b[0mstates_list\u001b[0m\u001b[0;34m.\u001b[0m\u001b[0mappend\u001b[0m\u001b[0;34m(\u001b[0m\u001b[0mstates\u001b[0m\u001b[0;34m)\u001b[0m\u001b[0;34m\u001b[0m\u001b[0;34m\u001b[0m\u001b[0m\n",
      "\u001b[0;32m<__array_function__ internals>\u001b[0m in \u001b[0;36mappend\u001b[0;34m(*args, **kwargs)\u001b[0m\n",
      "\u001b[0;32m~/anaconda3/lib/python3.7/site-packages/numpy/lib/function_base.py\u001b[0m in \u001b[0;36mappend\u001b[0;34m(arr, values, axis)\u001b[0m\n\u001b[1;32m   4696\u001b[0m         \u001b[0;32mif\u001b[0m \u001b[0marr\u001b[0m\u001b[0;34m.\u001b[0m\u001b[0mndim\u001b[0m \u001b[0;34m!=\u001b[0m \u001b[0;36m1\u001b[0m\u001b[0;34m:\u001b[0m\u001b[0;34m\u001b[0m\u001b[0;34m\u001b[0m\u001b[0m\n\u001b[1;32m   4697\u001b[0m             \u001b[0marr\u001b[0m \u001b[0;34m=\u001b[0m \u001b[0marr\u001b[0m\u001b[0;34m.\u001b[0m\u001b[0mravel\u001b[0m\u001b[0;34m(\u001b[0m\u001b[0;34m)\u001b[0m\u001b[0;34m\u001b[0m\u001b[0;34m\u001b[0m\u001b[0m\n\u001b[0;32m-> 4698\u001b[0;31m         \u001b[0mvalues\u001b[0m \u001b[0;34m=\u001b[0m \u001b[0mravel\u001b[0m\u001b[0;34m(\u001b[0m\u001b[0mvalues\u001b[0m\u001b[0;34m)\u001b[0m\u001b[0;34m\u001b[0m\u001b[0;34m\u001b[0m\u001b[0m\n\u001b[0m\u001b[1;32m   4699\u001b[0m         \u001b[0maxis\u001b[0m \u001b[0;34m=\u001b[0m \u001b[0marr\u001b[0m\u001b[0;34m.\u001b[0m\u001b[0mndim\u001b[0m\u001b[0;34m-\u001b[0m\u001b[0;36m1\u001b[0m\u001b[0;34m\u001b[0m\u001b[0;34m\u001b[0m\u001b[0m\n\u001b[1;32m   4700\u001b[0m     \u001b[0;32mreturn\u001b[0m \u001b[0mconcatenate\u001b[0m\u001b[0;34m(\u001b[0m\u001b[0;34m(\u001b[0m\u001b[0marr\u001b[0m\u001b[0;34m,\u001b[0m \u001b[0mvalues\u001b[0m\u001b[0;34m)\u001b[0m\u001b[0;34m,\u001b[0m \u001b[0maxis\u001b[0m\u001b[0;34m=\u001b[0m\u001b[0maxis\u001b[0m\u001b[0;34m)\u001b[0m\u001b[0;34m\u001b[0m\u001b[0;34m\u001b[0m\u001b[0m\n",
      "\u001b[0;32m<__array_function__ internals>\u001b[0m in \u001b[0;36mravel\u001b[0;34m(*args, **kwargs)\u001b[0m\n",
      "\u001b[0;32m~/anaconda3/lib/python3.7/site-packages/numpy/core/fromnumeric.py\u001b[0m in \u001b[0;36mravel\u001b[0;34m(a, order)\u001b[0m\n\u001b[1;32m   1750\u001b[0m         \u001b[0;32mreturn\u001b[0m \u001b[0masarray\u001b[0m\u001b[0;34m(\u001b[0m\u001b[0ma\u001b[0m\u001b[0;34m)\u001b[0m\u001b[0;34m.\u001b[0m\u001b[0mravel\u001b[0m\u001b[0;34m(\u001b[0m\u001b[0morder\u001b[0m\u001b[0;34m=\u001b[0m\u001b[0morder\u001b[0m\u001b[0;34m)\u001b[0m\u001b[0;34m\u001b[0m\u001b[0;34m\u001b[0m\u001b[0m\n\u001b[1;32m   1751\u001b[0m     \u001b[0;32melse\u001b[0m\u001b[0;34m:\u001b[0m\u001b[0;34m\u001b[0m\u001b[0;34m\u001b[0m\u001b[0m\n\u001b[0;32m-> 1752\u001b[0;31m         \u001b[0;32mreturn\u001b[0m \u001b[0masanyarray\u001b[0m\u001b[0;34m(\u001b[0m\u001b[0ma\u001b[0m\u001b[0;34m)\u001b[0m\u001b[0;34m.\u001b[0m\u001b[0mravel\u001b[0m\u001b[0;34m(\u001b[0m\u001b[0morder\u001b[0m\u001b[0;34m=\u001b[0m\u001b[0morder\u001b[0m\u001b[0;34m)\u001b[0m\u001b[0;34m\u001b[0m\u001b[0;34m\u001b[0m\u001b[0m\n\u001b[0m\u001b[1;32m   1753\u001b[0m \u001b[0;34m\u001b[0m\u001b[0m\n\u001b[1;32m   1754\u001b[0m \u001b[0;34m\u001b[0m\u001b[0m\n",
      "\u001b[0;32m~/anaconda3/lib/python3.7/site-packages/numpy/core/_asarray.py\u001b[0m in \u001b[0;36masanyarray\u001b[0;34m(a, dtype, order)\u001b[0m\n\u001b[1;32m    136\u001b[0m \u001b[0;34m\u001b[0m\u001b[0m\n\u001b[1;32m    137\u001b[0m     \"\"\"\n\u001b[0;32m--> 138\u001b[0;31m     \u001b[0;32mreturn\u001b[0m \u001b[0marray\u001b[0m\u001b[0;34m(\u001b[0m\u001b[0ma\u001b[0m\u001b[0;34m,\u001b[0m \u001b[0mdtype\u001b[0m\u001b[0;34m,\u001b[0m \u001b[0mcopy\u001b[0m\u001b[0;34m=\u001b[0m\u001b[0;32mFalse\u001b[0m\u001b[0;34m,\u001b[0m \u001b[0morder\u001b[0m\u001b[0;34m=\u001b[0m\u001b[0morder\u001b[0m\u001b[0;34m,\u001b[0m \u001b[0msubok\u001b[0m\u001b[0;34m=\u001b[0m\u001b[0;32mTrue\u001b[0m\u001b[0;34m)\u001b[0m\u001b[0;34m\u001b[0m\u001b[0;34m\u001b[0m\u001b[0m\n\u001b[0m\u001b[1;32m    139\u001b[0m \u001b[0;34m\u001b[0m\u001b[0m\n\u001b[1;32m    140\u001b[0m \u001b[0;34m\u001b[0m\u001b[0m\n",
      "\u001b[0;31mTypeError\u001b[0m: must be real number, not Qobj"
     ]
    },
    {
     "data": {
      "text/plain": [
       "<Figure size 216x216 with 0 Axes>"
      ]
     },
     "metadata": {},
     "output_type": "display_data"
    }
   ],
   "source": [
    "sim = ModulatedMSGate()\n",
    "\n",
    "gate_time = 240e-6\n",
    "freq_sol = np.array([2549398.722147539,2604200.122435702,2608012.2591987625,2598954.1476000124,\n",
    "                     2606521.0286001167,2603975.132232204,2589510.42676525,2573712.185632656,\n",
    "                     2604139.359990446,2579804.7040931405])*np.pi*2\n",
    "mode_freq = np.sort(np.array([2.580038,2.61763716,2.64862026,2.67487638,2.69104833])+0.00)*2000000*np.pi\n",
    "rabi_freq = (5432.992)* np.pi*2\n",
    "\n",
    "ion0 = 1\n",
    "ion1 = 3\n",
    "posi = np.array([-1.95632,-0.941502,-0.0330485,0.875784,1.89247])\n",
    "\n",
    "sim.set_attr_fm(ion0,\n",
    "                ion1,\n",
    "                gate_time,\n",
    "                freq_sol,\n",
    "                rabi_freq,\n",
    "                mode_freq,\n",
    "                posi)\n",
    "nth = [0.0000001]*5\n",
    "Gamma = [100.,100.,100.,100.,1500.]\n",
    "print(sim.get_fidelity_pm(nth = nth, Gamma = Gamma, coherence_t = 2e-3)**2)\n",
    "sim.get_trajectory(coherence_t = 2e-3)"
   ]
  },
  {
   "cell_type": "code",
   "execution_count": 14,
   "metadata": {},
   "outputs": [
    {
     "name": "stdout",
     "output_type": "stream",
     "text": [
      "....................\n",
      "....................\n",
      "....................\n",
      "....................\n",
      "....................\n",
      "Quantum object: dims = [[2, 2], [2, 2]], shape = (4, 4), type = oper, isherm = True\n",
      "Qobj data =\n",
      "[[4.99986213e-01+0.00000000e+00j 0.00000000e+00+0.00000000e+00j\n",
      "  0.00000000e+00+0.00000000e+00j 7.49350395e-06+4.99988927e-01j]\n",
      " [0.00000000e+00+0.00000000e+00j 9.89913630e-06+0.00000000e+00j\n",
      "  7.49350395e-06+4.25943921e-09j 0.00000000e+00+0.00000000e+00j]\n",
      " [0.00000000e+00+0.00000000e+00j 7.49350395e-06-4.25943918e-09j\n",
      "  9.90781425e-06+0.00000000e+00j 0.00000000e+00+0.00000000e+00j]\n",
      " [7.49350395e-06-4.99988927e-01j 0.00000000e+00+0.00000000e+00j\n",
      "  0.00000000e+00+0.00000000e+00j 4.99993980e-01+0.00000000e+00j]]\n",
      "0.9999790414924277\n"
     ]
    }
   ],
   "source": [
    "sim = ModulatedMSGate()\n",
    "\n",
    "gate_time = 240e-6\n",
    "freq_sol = np.array([2559277.9742404916,2594725.4337062244,2576597.600680009,2612313.7705313666,2573855.623627272,2589990.5496374364,2585207.6946802004,2585933.846031229,2565889.748553727,2598763.800983351])*np.pi*2\n",
    "mode_freq = np.sort(np.array([2.580038,2.61763716,2.64862026,2.67487638,2.69104833])+0.00)*2000000*np.pi\n",
    "rabi_freq = (5255.824)* np.pi*2\n",
    "\n",
    "ion0 = 1\n",
    "ion1 = 3\n",
    "posi = np.array([-1.95632,-0.941502,-0.0330485,0.875784,1.89247])\n",
    "\n",
    "sim.set_attr_fm(ion0,\n",
    "                ion1,\n",
    "                gate_time,\n",
    "                freq_sol,\n",
    "                rabi_freq,\n",
    "                mode_freq,\n",
    "                posi)\n",
    "\n",
    "nth = [0.0000001]*5\n",
    "Gamma = [100.,100.,100.,100.,1500.]\n",
    "print(sim.get_fidelity_pm()**2)\n",
    "# sim.get_trajectory(coherence_t = 2e-3)"
   ]
  },
  {
   "cell_type": "code",
   "execution_count": 15,
   "metadata": {},
   "outputs": [],
   "source": [
    "eigen_state = (qt.tensor(qt.sigmap(),qt.qeye(2)) - qt.tensor(qt.sigmam(),qt.qeye(2))+\\\n",
    "                       qt.tensor(qt.qeye(2),qt.sigmap()) - qt.tensor(qt.qeye(2),qt.sigmam())).eigenstates()"
   ]
  },
  {
   "cell_type": "code",
   "execution_count": 16,
   "metadata": {},
   "outputs": [
    {
     "data": {
      "text/latex": [
       "Quantum object: dims = [[2, 2], [1, 1]], shape = (4, 1), type = ket\\begin{equation*}\\left(\\begin{array}{*{11}c}-0.500j\\\\0.500\\\\0.500\\\\0.500j\\\\\\end{array}\\right)\\end{equation*}"
      ],
      "text/plain": [
       "Quantum object: dims = [[2, 2], [1, 1]], shape = (4, 1), type = ket\n",
       "Qobj data =\n",
       "[[0. -0.5j]\n",
       " [0.5+0.j ]\n",
       " [0.5+0.j ]\n",
       " [0. +0.5j]]"
      ]
     },
     "execution_count": 16,
     "metadata": {},
     "output_type": "execute_result"
    }
   ],
   "source": [
    "eigen_state[1][1]"
   ]
  },
  {
   "cell_type": "markdown",
   "metadata": {},
   "source": [
    "## 7 ions"
   ]
  },
  {
   "cell_type": "markdown",
   "metadata": {},
   "source": [
    "* 'gate_time': \n",
    "        0.00024\n",
    "* 'freq_sol': \n",
    "       array([15436839.7671915 , 15565472.36919696, 15691291.79163438,\n",
    "       15519090.07055998, 15162578.42902212, 15513966.07538832,\n",
    "       15660603.75676547, 15588867.87669045, 15606608.17940207,\n",
    "       15616505.4436348 ])\n",
    "* 'ion0': \n",
    "        3\n",
    "* 'ion1': \n",
    "        4\n",
    "* 'rabi_freq': \n",
    "        33724.52573260249\n",
    "* 'mode_freq': \n",
    "        array([15642262.2611385 , 15890592.84536157, 16108793.41975371,\n",
    "       16302227.87677981, 16462684.15607523, 16592792.96449624,\n",
    "       16676099.95919224]), \n",
    "* 'posi': \n",
    "        array([-2.72249  , -1.72576  , -0.861002 , -0.0405528,  0.780617 ,\n",
    "        1.64702  ,  2.64678  ])"
   ]
  },
  {
   "cell_type": "code",
   "execution_count": 17,
   "metadata": {},
   "outputs": [
    {
     "ename": "FileNotFoundError",
     "evalue": "[Errno 2] No such file or directory: 'fm.solution'",
     "output_type": "error",
     "traceback": [
      "\u001b[0;31m---------------------------------------------------------------------------\u001b[0m",
      "\u001b[0;31mFileNotFoundError\u001b[0m                         Traceback (most recent call last)",
      "\u001b[0;32m<ipython-input-17-1f76700f3810>\u001b[0m in \u001b[0;36m<module>\u001b[0;34m\u001b[0m\n\u001b[1;32m      1\u001b[0m \u001b[0;32mimport\u001b[0m \u001b[0mpickle\u001b[0m\u001b[0;34m\u001b[0m\u001b[0;34m\u001b[0m\u001b[0m\n\u001b[1;32m      2\u001b[0m \u001b[0msim\u001b[0m \u001b[0;34m=\u001b[0m \u001b[0mModulatedMSGate\u001b[0m\u001b[0;34m(\u001b[0m\u001b[0;34m)\u001b[0m\u001b[0;34m\u001b[0m\u001b[0;34m\u001b[0m\u001b[0m\n\u001b[0;32m----> 3\u001b[0;31m \u001b[0mfm_sol\u001b[0m \u001b[0;34m=\u001b[0m \u001b[0mpickle\u001b[0m\u001b[0;34m.\u001b[0m\u001b[0mload\u001b[0m\u001b[0;34m(\u001b[0m\u001b[0mopen\u001b[0m\u001b[0;34m(\u001b[0m\u001b[0;34m'fm.solution'\u001b[0m\u001b[0;34m,\u001b[0m\u001b[0;34m'rb'\u001b[0m\u001b[0;34m)\u001b[0m\u001b[0;34m)\u001b[0m\u001b[0;34m\u001b[0m\u001b[0;34m\u001b[0m\u001b[0m\n\u001b[0m\u001b[1;32m      4\u001b[0m \u001b[0mgate_time\u001b[0m \u001b[0;34m=\u001b[0m \u001b[0mfm_sol\u001b[0m\u001b[0;34m[\u001b[0m\u001b[0;34m'gate_time'\u001b[0m\u001b[0;34m]\u001b[0m\u001b[0;34m\u001b[0m\u001b[0;34m\u001b[0m\u001b[0m\n\u001b[1;32m      5\u001b[0m \u001b[0mfreq_sol\u001b[0m \u001b[0;34m=\u001b[0m \u001b[0mfm_sol\u001b[0m\u001b[0;34m[\u001b[0m\u001b[0;34m'freq_sol'\u001b[0m\u001b[0;34m]\u001b[0m\u001b[0;34m\u001b[0m\u001b[0;34m\u001b[0m\u001b[0m\n",
      "\u001b[0;31mFileNotFoundError\u001b[0m: [Errno 2] No such file or directory: 'fm.solution'"
     ]
    }
   ],
   "source": [
    "import pickle\n",
    "sim = ModulatedMSGate()\n",
    "fm_sol = pickle.load(open('fm.solution','rb'))\n",
    "gate_time = fm_sol['gate_time']\n",
    "freq_sol = fm_sol['freq_sol']\n",
    "mode_freq = fm_sol['mode_freq']\n",
    "# mode_freq = np.append([mode_freq[0]-1e3*2*np.pi],mode_freq)\n",
    "rabi_freq = fm_sol['rabi_freq']\n",
    "\n",
    "ion0 = fm_sol['ion0']\n",
    "ion1 = fm_sol['ion1']\n",
    "posi = fm_sol['posi']\n",
    "\n",
    "sim.set_attr_fm(ion0,\n",
    "                ion1,\n",
    "                gate_time,\n",
    "                freq_sol,\n",
    "                rabi_freq,\n",
    "                mode_freq,\n",
    "                posi)\n",
    "\n",
    "# sim.eta = np.concatenate((np.ones(7).reshape(-1,1)*0.5,sim.eta),axis = 1)\n",
    "\n",
    "nth = [0.0000001]*(posi.shape[0])\n",
    "Gamma = [100.]*(posi.shape[0]-1) +[1500.]*1\n",
    "print(sim.get_fidelity_pm(coherence_t = 8e-3)**2)\n",
    "# print(sim.get_fidelity_pm()**2)\n",
    "sim.get_trajectory(coherence_t = 2e-3)"
   ]
  },
  {
   "cell_type": "code",
   "execution_count": 18,
   "metadata": {},
   "outputs": [
    {
     "data": {
      "image/png": "[encoded data removed]",
      "text/plain": [
       "<Figure size 216x216 with 1 Axes>"
      ]
     },
     "metadata": {
      "needs_background": "light"
     },
     "output_type": "display_data"
    }
   ],
   "source": [
    "plot_solution(freq_sol, mode_freq, gate_time)"
   ]
  },
  {
   "cell_type": "code",
   "execution_count": 19,
   "metadata": {},
   "outputs": [
    {
     "data": {
      "text/latex": [
       "Quantum object: dims = [[4], [4]], shape = (4, 4), type = oper, isherm = True\\begin{equation*}\\left(\\begin{array}{*{11}c}0.773 & 0.0 & 0.0 & (0.002+0.414j)\\\\0.0 & 0.003 & (0.002-1.784\\times10^{-05}j) & 0.0\\\\0.0 & (0.002+1.784\\times10^{-05}j) & 0.003 & 0.0\\\\(0.002-0.414j) & 0.0 & 0.0 & 0.222\\\\\\end{array}\\right)\\end{equation*}"
      ],
      "text/plain": [
       "Quantum object: dims = [[4], [4]], shape = (4, 4), type = oper, isherm = True\n",
       "Qobj data =\n",
       "[[0.77315495+0.00000000e+00j 0.        +0.00000000e+00j\n",
       "  0.        +0.00000000e+00j 0.00235853+4.14088121e-01j]\n",
       " [0.        +0.00000000e+00j 0.00253234+0.00000000e+00j\n",
       "  0.00235853-1.78441467e-05j 0.        +0.00000000e+00j]\n",
       " [0.        +0.00000000e+00j 0.00235853+1.78441467e-05j\n",
       "  0.00250939+0.00000000e+00j 0.        +0.00000000e+00j]\n",
       " [0.00235853-4.14088121e-01j 0.        +0.00000000e+00j\n",
       "  0.        +0.00000000e+00j 0.22180332+0.00000000e+00j]]"
      ]
     },
     "execution_count": 19,
     "metadata": {},
     "output_type": "execute_result"
    }
   ],
   "source": [
    "qt.Qobj([[0.77315495+0.00000000e+00j, 0.        +0.00000000e+00j,\n",
    "  0.        +0.00000000e+00j, 0.00235853+4.14088121e-01j],\n",
    " [0.        +0.00000000e+00j, 0.00253234+0.00000000e+00j,\n",
    "  0.00235853-1.78441467e-05j, 0.        +0.00000000e+00j],\n",
    " [0.        +0.00000000e+00j, 0.00235853+1.78441467e-05j,\n",
    "  0.00250939+0.00000000e+00j, 0.        +0.00000000e+00j],\n",
    " [0.00235853-4.14088121e-01j, 0.        +0.00000000e+00j,\n",
    "  0.        +0.00000000e+00j, 0.22180332+0.00000000e+00j]])"
   ]
  },
  {
   "cell_type": "code",
   "execution_count": 20,
   "metadata": {},
   "outputs": [
    {
     "data": {
      "text/plain": [
       "array([[0.005],\n",
       "       [0.005],\n",
       "       [0.005],\n",
       "       [0.005],\n",
       "       [0.005],\n",
       "       [0.005],\n",
       "       [0.005]])"
      ]
     },
     "execution_count": 20,
     "metadata": {},
     "output_type": "execute_result"
    }
   ],
   "source": [
    "np.ones(7).reshape(-1,1)*0.005"
   ]
  },
  {
   "cell_type": "code",
   "execution_count": 23,
   "metadata": {},
   "outputs": [],
   "source": [
    "import numpy as np\n",
    "def _get_coupling(beta = 9.48):\n",
    "    posi = np.array([-2.72249, -1.72576, -0.861002, -0.0405528, 0.780617, 1.64702,2.64678])\n",
    "    n = posi.shape[0]\n",
    "    A = np.zeros([n, n])\n",
    "    for i in range(n):\n",
    "        for j in range(n):\n",
    "            if i == j:\n",
    "                A[i][j] = beta**2 - np.sum(np.abs(posi[j]-posi[:j])**(-3)) - np.sum(np.abs(posi[j]-posi[j+1:])**(-3))\n",
    "            else:\n",
    "                A[i][j] = 1. / np.abs(posi[i]-posi[j]) ** 3\n",
    "    w, v = linalg.eig(A)\n",
    "    idx = w.argsort()  \n",
    "    v = v[:,idx]\n",
    "    return v, w, A"
   ]
  },
  {
   "cell_type": "code",
   "execution_count": 26,
   "metadata": {},
   "outputs": [
    {
     "data": {
      "text/plain": [
       "array([[ 0.02383825, -0.17770323,  0.49365702, -0.67628678,  0.48629137,\n",
       "        -0.17260563,  0.022809  ],\n",
       "       [-0.08906695,  0.41763578, -0.56323838, -0.00736993,  0.5679881 ,\n",
       "        -0.41259793,  0.08664931],\n",
       "       [-0.21866794,  0.57081604, -0.10918964, -0.47741702, -0.12117209,\n",
       "         0.570616  , -0.21498535],\n",
       "       [ 0.39865046, -0.4370024 , -0.38700803, -0.00499964,  0.38275885,\n",
       "         0.44372255, -0.39612178],\n",
       "       [ 0.5562568 , -0.02388892, -0.31981685, -0.41445271, -0.32451375,\n",
       "        -0.0301249 ,  0.55654033],\n",
       "       [-0.57661268, -0.36574861, -0.17952079, -0.00129617,  0.17764259,\n",
       "         0.36566827,  0.5798674 ],\n",
       "       [ 0.37796447,  0.37796447,  0.37796447,  0.37796447,  0.37796447,\n",
       "         0.37796447,  0.37796447]])"
      ]
     },
     "execution_count": 26,
     "metadata": {},
     "output_type": "execute_result"
    }
   ],
   "source": [
    "v.T"
   ]
  },
  {
   "cell_type": "code",
   "execution_count": 25,
   "metadata": {},
   "outputs": [],
   "source": [
    "v,w,a = _get_coupling()"
   ]
  },
  {
   "cell_type": "code",
   "execution_count": 27,
   "metadata": {},
   "outputs": [],
   "source": [
    "xx = qt.Qobj(v).dag()"
   ]
  },
  {
   "cell_type": "code",
   "execution_count": 28,
   "metadata": {},
   "outputs": [
    {
     "data": {
      "text/latex": [
       "Quantum object: dims = [[7], [7]], shape = (7, 7), type = oper, isherm = False\\begin{equation*}\\left(\\begin{array}{*{11}c}0.378 & 0.378 & 0.378 & 0.378 & 0.378 & 0.378 & 0.378\\\\-0.577 & -0.366 & -0.180 & -0.001 & 0.178 & 0.366 & 0.580\\\\0.556 & -0.024 & -0.320 & -0.414 & -0.325 & -0.030 & 0.557\\\\0.399 & -0.437 & -0.387 & -0.005 & 0.383 & 0.444 & -0.396\\\\-0.219 & 0.571 & -0.109 & -0.477 & -0.121 & 0.571 & -0.215\\\\-0.089 & 0.418 & -0.563 & -0.007 & 0.568 & -0.413 & 0.087\\\\0.024 & -0.178 & 0.494 & -0.676 & 0.486 & -0.173 & 0.023\\\\\\end{array}\\right)\\end{equation*}"
      ],
      "text/plain": [
       "Quantum object: dims = [[7], [7]], shape = (7, 7), type = oper, isherm = False\n",
       "Qobj data =\n",
       "[[ 0.37796447  0.37796447  0.37796447  0.37796447  0.37796447  0.37796447\n",
       "   0.37796447]\n",
       " [-0.57661268 -0.36574861 -0.17952079 -0.00129617  0.17764259  0.36566827\n",
       "   0.5798674 ]\n",
       " [ 0.5562568  -0.02388892 -0.31981685 -0.41445271 -0.32451375 -0.0301249\n",
       "   0.55654033]\n",
       " [ 0.39865046 -0.4370024  -0.38700803 -0.00499964  0.38275885  0.44372255\n",
       "  -0.39612178]\n",
       " [-0.21866794  0.57081604 -0.10918964 -0.47741702 -0.12117209  0.570616\n",
       "  -0.21498535]\n",
       " [-0.08906695  0.41763578 -0.56323838 -0.00736993  0.5679881  -0.41259793\n",
       "   0.08664931]\n",
       " [ 0.02383825 -0.17770323  0.49365702 -0.67628678  0.48629137 -0.17260563\n",
       "   0.022809  ]]"
      ]
     },
     "execution_count": 28,
     "metadata": {},
     "output_type": "execute_result"
    }
   ],
   "source": [
    "vv = np.zeros([7,7])\n",
    "for i in range(7):\n",
    "    vv[i,:] = v.T[6-i,:]\n",
    "qt.Qobj(vv)"
   ]
  },
  {
   "cell_type": "code",
   "execution_count": 29,
   "metadata": {},
   "outputs": [
    {
     "data": {
      "text/latex": [
       "Quantum object: dims = [[20], [20]], shape = (20, 20), type = oper, isherm = True\\begin{equation*}\\left(\\begin{array}{*{11}c}0.0 & 1.0 & 0.0 & 0.0 & 0.0 & \\cdots & 0.0 & 0.0 & 0.0 & 0.0 & 0.0\\\\1.0 & 0.0 & 1.414 & 0.0 & 0.0 & \\cdots & 0.0 & 0.0 & 0.0 & 0.0 & 0.0\\\\0.0 & 1.414 & 0.0 & 1.732 & 0.0 & \\cdots & 0.0 & 0.0 & 0.0 & 0.0 & 0.0\\\\0.0 & 0.0 & 1.732 & 0.0 & 2.0 & \\cdots & 0.0 & 0.0 & 0.0 & 0.0 & 0.0\\\\0.0 & 0.0 & 0.0 & 2.0 & 0.0 & \\cdots & 0.0 & 0.0 & 0.0 & 0.0 & 0.0\\\\\\vdots & \\vdots & \\vdots & \\vdots & \\vdots & \\ddots & \\vdots & \\vdots & \\vdots & \\vdots & \\vdots\\\\0.0 & 0.0 & 0.0 & 0.0 & 0.0 & \\cdots & 0.0 & 4.0 & 0.0 & 0.0 & 0.0\\\\0.0 & 0.0 & 0.0 & 0.0 & 0.0 & \\cdots & 4.0 & 0.0 & 4.123 & 0.0 & 0.0\\\\0.0 & 0.0 & 0.0 & 0.0 & 0.0 & \\cdots & 0.0 & 4.123 & 0.0 & 4.243 & 0.0\\\\0.0 & 0.0 & 0.0 & 0.0 & 0.0 & \\cdots & 0.0 & 0.0 & 4.243 & 0.0 & 4.359\\\\0.0 & 0.0 & 0.0 & 0.0 & 0.0 & \\cdots & 0.0 & 0.0 & 0.0 & 4.359 & 0.0\\\\\\end{array}\\right)\\end{equation*}"
      ],
      "text/plain": [
       "Quantum object: dims = [[20], [20]], shape = (20, 20), type = oper, isherm = True\n",
       "Qobj data =\n",
       "[[0.         1.         0.         0.         0.         0.\n",
       "  0.         0.         0.         0.         0.         0.\n",
       "  0.         0.         0.         0.         0.         0.\n",
       "  0.         0.        ]\n",
       " [1.         0.         1.41421356 0.         0.         0.\n",
       "  0.         0.         0.         0.         0.         0.\n",
       "  0.         0.         0.         0.         0.         0.\n",
       "  0.         0.        ]\n",
       " [0.         1.41421356 0.         1.73205081 0.         0.\n",
       "  0.         0.         0.         0.         0.         0.\n",
       "  0.         0.         0.         0.         0.         0.\n",
       "  0.         0.        ]\n",
       " [0.         0.         1.73205081 0.         2.         0.\n",
       "  0.         0.         0.         0.         0.         0.\n",
       "  0.         0.         0.         0.         0.         0.\n",
       "  0.         0.        ]\n",
       " [0.         0.         0.         2.         0.         2.23606798\n",
       "  0.         0.         0.         0.         0.         0.\n",
       "  0.         0.         0.         0.         0.         0.\n",
       "  0.         0.        ]\n",
       " [0.         0.         0.         0.         2.23606798 0.\n",
       "  2.44948974 0.         0.         0.         0.         0.\n",
       "  0.         0.         0.         0.         0.         0.\n",
       "  0.         0.        ]\n",
       " [0.         0.         0.         0.         0.         2.44948974\n",
       "  0.         2.64575131 0.         0.         0.         0.\n",
       "  0.         0.         0.         0.         0.         0.\n",
       "  0.         0.        ]\n",
       " [0.         0.         0.         0.         0.         0.\n",
       "  2.64575131 0.         2.82842712 0.         0.         0.\n",
       "  0.         0.         0.         0.         0.         0.\n",
       "  0.         0.        ]\n",
       " [0.         0.         0.         0.         0.         0.\n",
       "  0.         2.82842712 0.         3.         0.         0.\n",
       "  0.         0.         0.         0.         0.         0.\n",
       "  0.         0.        ]\n",
       " [0.         0.         0.         0.         0.         0.\n",
       "  0.         0.         3.         0.         3.16227766 0.\n",
       "  0.         0.         0.         0.         0.         0.\n",
       "  0.         0.        ]\n",
       " [0.         0.         0.         0.         0.         0.\n",
       "  0.         0.         0.         3.16227766 0.         3.31662479\n",
       "  0.         0.         0.         0.         0.         0.\n",
       "  0.         0.        ]\n",
       " [0.         0.         0.         0.         0.         0.\n",
       "  0.         0.         0.         0.         3.31662479 0.\n",
       "  3.46410162 0.         0.         0.         0.         0.\n",
       "  0.         0.        ]\n",
       " [0.         0.         0.         0.         0.         0.\n",
       "  0.         0.         0.         0.         0.         3.46410162\n",
       "  0.         3.60555128 0.         0.         0.         0.\n",
       "  0.         0.        ]\n",
       " [0.         0.         0.         0.         0.         0.\n",
       "  0.         0.         0.         0.         0.         0.\n",
       "  3.60555128 0.         3.74165739 0.         0.         0.\n",
       "  0.         0.        ]\n",
       " [0.         0.         0.         0.         0.         0.\n",
       "  0.         0.         0.         0.         0.         0.\n",
       "  0.         3.74165739 0.         3.87298335 0.         0.\n",
       "  0.         0.        ]\n",
       " [0.         0.         0.         0.         0.         0.\n",
       "  0.         0.         0.         0.         0.         0.\n",
       "  0.         0.         3.87298335 0.         4.         0.\n",
       "  0.         0.        ]\n",
       " [0.         0.         0.         0.         0.         0.\n",
       "  0.         0.         0.         0.         0.         0.\n",
       "  0.         0.         0.         4.         0.         4.12310563\n",
       "  0.         0.        ]\n",
       " [0.         0.         0.         0.         0.         0.\n",
       "  0.         0.         0.         0.         0.         0.\n",
       "  0.         0.         0.         0.         4.12310563 0.\n",
       "  4.24264069 0.        ]\n",
       " [0.         0.         0.         0.         0.         0.\n",
       "  0.         0.         0.         0.         0.         0.\n",
       "  0.         0.         0.         0.         0.         4.24264069\n",
       "  0.         4.35889894]\n",
       " [0.         0.         0.         0.         0.         0.\n",
       "  0.         0.         0.         0.         0.         0.\n",
       "  0.         0.         0.         0.         0.         0.\n",
       "  4.35889894 0.        ]]"
      ]
     },
     "execution_count": 29,
     "metadata": {},
     "output_type": "execute_result"
    }
   ],
   "source": [
    "qt.create(20) + qt.destroy(20)"
   ]
  },
  {
   "cell_type": "code",
   "execution_count": 30,
   "metadata": {},
   "outputs": [
    {
     "name": "stdout",
     "output_type": "stream",
     "text": [
      "1.9671818473758624e-08\n"
     ]
    }
   ],
   "source": [
    "hbar=1.05e-34\n",
    "mass=171*1.67e-27\n",
    "omega=3.1e6*np.pi*2\n",
    "eta=np.sqrt(hbar/(2*mass*omega))\n",
    "Nmax=1000\n",
    "x=(qt.create(Nmax)+qt.destroy(Nmax))\n",
    "ns = qt.thermal_dm(Nmax,20)\n",
    "print (np.sqrt((x*x*ns).tr())*eta)"
   ]
  },
  {
   "cell_type": "code",
   "execution_count": 31,
   "metadata": {},
   "outputs": [
    {
     "data": {
      "text/plain": [
       "5.142857142857142"
      ]
     },
     "execution_count": 31,
     "metadata": {},
     "output_type": "execute_result"
    }
   ],
   "source": [
    "1/35*180"
   ]
  },
  {
   "cell_type": "code",
   "execution_count": 11,
   "metadata": {},
   "outputs": [
    {
     "data": {
      "text/plain": [
       "array([[-1.72308939e-01, -3.55728185e-01,  5.19913098e-01,\n",
       "         6.11111658e-01,  4.47213595e-01],\n",
       "       [ 5.02392969e-01,  6.11111658e-01, -2.18177232e-01,\n",
       "         3.55728185e-01,  4.47213595e-01],\n",
       "       [-6.60168061e-01,  3.77943113e-14, -6.03471732e-01,\n",
       "        -7.57281061e-15,  4.47213595e-01],\n",
       "       [ 5.02392969e-01, -6.11111658e-01, -2.18177232e-01,\n",
       "        -3.55728185e-01,  4.47213595e-01],\n",
       "       [-1.72308939e-01,  3.55728185e-01,  5.19913098e-01,\n",
       "        -6.11111658e-01,  4.47213595e-01]])"
      ]
     },
     "execution_count": 11,
     "metadata": {},
     "output_type": "execute_result"
    }
   ],
   "source": [
    "def get_coupling(n = 5, beta = 9.48):\n",
    "    posi = np.array([-2., -1.,0., 1., 2.])\n",
    "    n = posi.shape[0]\n",
    "    A = np.zeros([n, n])\n",
    "    for i in range(n):\n",
    "        for j in range(n):\n",
    "            if i == j:\n",
    "                A[i][j] = beta**2 - np.sum(np.abs(posi[j]-posi[:j])**(-3)) - np.sum(np.abs(posi[j]-posi[j+1:])**(-3))\n",
    "            else:\n",
    "                A[i][j] = 1. / np.abs(posi[i]-posi[j]) ** 3\n",
    "    w, v = linalg.eig(A)\n",
    "    idx = w.argsort()  \n",
    "    v = v[:,idx]\n",
    "    return v\n",
    "\n",
    "get_coupling()"
   ]
  },
  {
   "cell_type": "code",
   "execution_count": null,
   "metadata": {},
   "outputs": [],
   "source": []
  }
 ],
 "metadata": {
  "kernelspec": {
   "display_name": "Python36",
   "language": "python",
   "name": "myenv"
  },
  "language_info": {
   "codemirror_mode": {
    "name": "ipython",
    "version": 3
   },
   "file_extension": ".py",
   "mimetype": "text/x-python",
   "name": "python",
   "nbconvert_exporter": "python",
   "pygments_lexer": "ipython3",
   "version": "3.7.4"
  }
 },
 "nbformat": 4,
 "nbformat_minor": 4
}
