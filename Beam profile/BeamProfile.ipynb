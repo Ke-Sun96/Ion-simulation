{
 "cells": [
  {
   "cell_type": "code",
   "execution_count": 1,
   "metadata": {},
   "outputs": [],
   "source": [
    "import numpy as np\n",
    "import math\n",
    "import matplotlib.pyplot as plt"
   ]
  },
  {
   "cell_type": "markdown",
   "metadata": {},
   "source": [
    "# Beam profile \n",
    "The beam size ($\\omega$) at the position $z$ is a function of of it's waist ($\\omega_0$), waist position ($z_0$), and the Rayleigh length ($z_R$)\n",
    "$$\n",
    "\\omega_z = \\omega_0\\sqrt{1+(\\frac{z-z_0}{z_R})^2}\n",
    "$$"
   ]
  },
  {
   "cell_type": "code",
   "execution_count": 2,
   "metadata": {},
   "outputs": [],
   "source": [
    "class BeamProfile:\n",
    "    def __init__(self):\n",
    "        self.w0 = 10 # um\n",
    "        self.zR = 10 ** 4 # um\n",
    "        self.lamb = 355 * 10**(-3) #um\n",
    "    def get_waist(self,\n",
    "                  w0,\n",
    "                  z,\n",
    "                  z0, # offset\n",
    "                 lamb = 355 * 10**(-3)):\n",
    "        self.w0 = w0\n",
    "        self.lamb = lamb\n",
    "        self.zR = np.pi * self.w0**2/self.lamb\n",
    "        self.z = z\n",
    "        self.w = self.w0 * np.sqrt(1+((self.z-z0)/self.zR)**2)\n",
    "        self.plot_waist(self.z, self.w)\n",
    "        return self.w\n",
    "    \n",
    "    def plot_waist(self,\n",
    "                  z,\n",
    "                  w):\n",
    "        self.z = z\n",
    "        self.w = w\n",
    "        fig = plt.plot(z/1000, w)\n",
    "        plt.xlabel('Distance (mm)')\n",
    "        plt.ylabel('Waist (um)')\n",
    "        plt.show()"
   ]
  },
  {
   "cell_type": "code",
   "execution_count": 3,
   "metadata": {},
   "outputs": [
    {
     "data": {
      "image/png": "[encoded data removed]",
      "text/plain": [
       "<Figure size 432x288 with 1 Axes>"
      ]
     },
     "metadata": {
      "needs_background": "light"
     },
     "output_type": "display_data"
    }
   ],
   "source": [
    "beam = BeamProfile()\n",
    "z = np.linspace(0,16000,50)\n",
    "w0 = 12\n",
    "z0 = 1000\n",
    "w = beam.get_waist(w0, z, z0)\n",
    "#beam.plot_waist(z,w)"
   ]
  },
  {
   "cell_type": "code",
   "execution_count": null,
   "metadata": {},
   "outputs": [],
   "source": []
  }
 ],
 "metadata": {
  "kernelspec": {
   "display_name": "Python36",
   "language": "python",
   "name": "myenv"
  },
  "language_info": {
   "codemirror_mode": {
    "name": "ipython",
    "version": 3
   },
   "file_extension": ".py",
   "mimetype": "text/x-python",
   "name": "python",
   "nbconvert_exporter": "python",
   "pygments_lexer": "ipython3",
   "version": "3.7.4"
  }
 },
 "nbformat": 4,
 "nbformat_minor": 2
}
