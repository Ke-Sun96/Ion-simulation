{
 "cells": [
  {
   "cell_type": "code",
   "execution_count": 2,
   "metadata": {},
   "outputs": [],
   "source": [
    "import numpy as np\n",
    "import matplotlib.pyplot as plt\n",
    "import matplotlib\n",
    "from matplotlib.colors import BoundaryNorm\n",
    "from matplotlib.ticker import MaxNLocator\n",
    "from varname import nameof"
   ]
  },
  {
   "cell_type": "code",
   "execution_count": 3,
   "metadata": {},
   "outputs": [],
   "source": [
    "def gamma(N, ro, ri, h,\n",
    "         mu = 1.25663753*10**(-9) # H/mm\n",
    "         ):\n",
    "    # ro, ri are outer and inner radius (mm)\n",
    "    # h is height (mm)\n",
    "    LN = N**2*h*mu/(2*np.pi)*np.log(ro/ri)\n",
    "    L1 = (ri+ro)/2*mu*(np.log(8*(ro+ri)/(ro-ri))-2)\n",
    "    return L1/LN\n",
    "\n",
    "def Ri(L,N,ro,h,\n",
    "      mu = 1.25663753*10**(-9) # H/mm\n",
    "      ): \n",
    "    # calculate inner radius of inductor with specific inductance\n",
    "    return ro*np.exp(-L*2*np.pi/(N**2*h*mu))\n",
    "\n",
    "def Resistance(N, ro, ri, h,\n",
    "              alpha = 0.2, # mm: min width of trace\n",
    "              #delta = 9.22 * 10**(-3), # mm at 50 MHz\n",
    "              delta = 17.744 * 10**(-3), # mm at 13.5 MHz\n",
    "              rho = 1.678 * 10**(-5) # Ohm*mm\n",
    "              ):\n",
    "    ro_via = (2*np.pi*ro-alpha*N)/N/2\n",
    "    ri_via = (2*np.pi*ri-alpha*N)/N/2\n",
    "    if ri_via > 0.45:\n",
    "        R_slab = 2*rho*N/(2*np.pi*delta)*np.log((2*np.pi*ro-alpha*N)/(2*np.pi*ri-alpha*N))\n",
    "        R_vias = h*rho/(np.pi*delta)*(1/ro_via+1/ri_via)\n",
    "\n",
    "        R = N*(R_slab+R_vias)\n",
    "    else:\n",
    "        R = 0\n",
    "    return R\n",
    "\n",
    "def SelfCapacitance(N, ro, ri, h,\n",
    "                    ht = 35e-3, # thickness of trace: 1oz copper is 35 um \n",
    "                    alpha = 0.2, # mm: min width of trace\n",
    "                    epsilon_r = 3.48\n",
    "                   ):\n",
    "    epsilon_0 = 8.854e-15 # F/mm\n",
    "    \n",
    "    l = ro-ri # length of a single trace\n",
    "    A = ht*l\n",
    "    d = alpha\n",
    "\n",
    "    ro_via = (2*np.pi*ro-alpha*N)/N/2\n",
    "    ri_via = (2*np.pi*ri-alpha*N)/N/2\n",
    "    \n",
    "    do_s = 2*ri_via\n",
    "    do_l = 2*ro_via\n",
    "    p_s = do_s+alpha\n",
    "    p_l = do_l+alpha\n",
    "\n",
    "    if ri_via > 0.45:\n",
    "        Ctttrace = epsilon_r*epsilon_0*A/d\n",
    "        Cttvia_s = 2*epsilon_0*h/np.sqrt((p_s/do_s)**2-1)*np.arctan(np.sqrt(1+2/(p_s/do_s-1)))\n",
    "        Cttvia_l = 2*epsilon_0*h/np.sqrt((p_l/do_l)**2-1)*np.arctan(np.sqrt(1+2/(p_l/do_l-1)))\n",
    "        #print(Ctttrace,Cttvia_s,Cttvia_l)\n",
    "        C = (2*Ctttrace+Cttvia_l+Cttvia_s)/N\n",
    "    else:\n",
    "        C = 0\n",
    "    return C"
   ]
  },
  {
   "cell_type": "code",
   "execution_count": 4,
   "metadata": {},
   "outputs": [],
   "source": [
    "Nros = 201 # rows\n",
    "Nturns = 191 # cols\n",
    "ros = np.linspace(7, 100, Nros)\n",
    "Ns = np.linspace(10, 200, Nturns)\n",
    "\n",
    "ris = np.array([[0.0]*Nturns]*Nros)\n",
    "Ms = np.array([[0.0]*Nturns]*Nros)\n",
    "gammas = np.array([[0.0]*Nturns]*Nros)\n",
    "Rs = np.array([[0.0]*Nturns]*Nros)\n",
    "Cs = np.array([[0.0]*Nturns]*Nros)\n",
    "available = np.array([[0.0]*Nturns]*Nros)\n",
    "\n",
    "L = 6 * 10**(-6) # H\n",
    "h = 0.250*25.4\n",
    "alpha = 0.3\n",
    "i,j = 0,0\n",
    "for ro in ros:\n",
    "    for N in Ns:\n",
    "        ri = Ri(L,N,ro,h)\n",
    "        ri_via = (2*np.pi*ri-alpha*N)/N/2\n",
    "        ro_via = (2*np.pi*ro-alpha*N)/N/2\n",
    "        #if ri_via > 0.45 and (ro_via+ro) < 12.7: # min radius of via and outer size limit\n",
    "        if ri_via > 0.45 and (ro_via+ro) < 200: # min radius of via\n",
    "            available[i][j] = 1\n",
    "            ris[i][j] = ri\n",
    "            Ms[i][j] = ro/ri\n",
    "            gammas[i][j] = gamma(N, ro, ri, h)\n",
    "            Rs[i][j] = Resistance(N, ro, ri, h)\n",
    "            Cs[i][j] = SelfCapacitance(N, ro, ri, h)\n",
    "        else:\n",
    "            available[i][j] = 0\n",
    "            ris[i][j] = ri\n",
    "            Ms[i][j] = 0\n",
    "            gammas[i][j] = 0\n",
    "            Rs[i][j] = 2\n",
    "            Cs[i][j] = 0\n",
    "        j += 1\n",
    "    i += 1\n",
    "    j = 0\n",
    "score_gamma = gammas/np.max(gammas)\n",
    "score_R = Rs/np.max(Rs)\n",
    "p = 0.8\n",
    "score = 1-(p*score_R + (1-p)*score_gamma)"
   ]
  },
  {
   "cell_type": "code",
   "execution_count": 5,
   "metadata": {},
   "outputs": [],
   "source": [
    "def plotResult(Result,\n",
    "                Nrows = ros,\n",
    "                Ncols = Ns\n",
    "              ):\n",
    "    X,Y = np.meshgrid(Ncols,Nrows)\n",
    "    # Plot the density map using nearest-neighbor interpolation\n",
    "    \n",
    "    \n",
    "    fig, ax = plt.subplots()\n",
    "    im = ax.pcolormesh(X,Y,Result)\n",
    "    fig.colorbar(im, ax=ax)\n",
    "    #ax.set_title(nameof(Result))\n",
    "    plt.xlabel('N')\n",
    "    plt.ylabel('Outer radius (mm)')\n",
    "    plt.show()"
   ]
  },
  {
   "cell_type": "code",
   "execution_count": 6,
   "metadata": {},
   "outputs": [
    {
     "data": {
      "image/png": "[encoded data removed]",
      "text/plain": [
       "<Figure size 432x288 with 2 Axes>"
      ]
     },
     "metadata": {
      "needs_background": "light"
     },
     "output_type": "display_data"
    }
   ],
   "source": [
    "plotResult(available)"
   ]
  },
  {
   "cell_type": "code",
   "execution_count": 7,
   "metadata": {},
   "outputs": [
    {
     "data": {
      "image/png": "[encoded data removed]",
      "text/plain": [
       "<Figure size 432x288 with 2 Axes>"
      ]
     },
     "metadata": {
      "needs_background": "light"
     },
     "output_type": "display_data"
    }
   ],
   "source": [
    "plotResult(Rs)"
   ]
  },
  {
   "cell_type": "code",
   "execution_count": 8,
   "metadata": {},
   "outputs": [
    {
     "data": {
      "image/png": "[encoded data removed]",
      "text/plain": [
       "<Figure size 432x288 with 2 Axes>"
      ]
     },
     "metadata": {
      "needs_background": "light"
     },
     "output_type": "display_data"
    }
   ],
   "source": [
    "%matplotlib inline\n",
    "plotResult(gammas)"
   ]
  },
  {
   "cell_type": "code",
   "execution_count": 9,
   "metadata": {},
   "outputs": [
    {
     "data": {
      "image/png": "[encoded data removed]",
      "text/plain": [
       "<Figure size 432x288 with 2 Axes>"
      ]
     },
     "metadata": {
      "needs_background": "light"
     },
     "output_type": "display_data"
    }
   ],
   "source": [
    "plotResult(score)"
   ]
  },
  {
   "cell_type": "code",
   "execution_count": 10,
   "metadata": {
    "scrolled": true
   },
   "outputs": [
    {
     "data": {
      "image/png": "[encoded data removed]",
      "text/plain": [
       "<Figure size 432x288 with 2 Axes>"
      ]
     },
     "metadata": {
      "needs_background": "light"
     },
     "output_type": "display_data"
    }
   ],
   "source": [
    "plotResult(Cs)"
   ]
  },
  {
   "cell_type": "code",
   "execution_count": 12,
   "metadata": {},
   "outputs": [
    {
     "data": {
      "text/plain": [
       "60.010000000000005"
      ]
     },
     "execution_count": 12,
     "metadata": {},
     "output_type": "execute_result"
    }
   ],
   "source": [
    "rr = 114\n",
    "ros[rr]"
   ]
  },
  {
   "cell_type": "code",
   "execution_count": 13,
   "metadata": {},
   "outputs": [
    {
     "data": {
      "text/plain": [
       "60.010000000000005"
      ]
     },
     "execution_count": 13,
     "metadata": {},
     "output_type": "execute_result"
    },
    {
     "data": {
      "image/png": "[encoded data removed]",
      "text/plain": [
       "<Figure size 432x288 with 1 Axes>"
      ]
     },
     "metadata": {
      "needs_background": "light"
     },
     "output_type": "display_data"
    }
   ],
   "source": [
    "plt.plot(Ns,score[rr])\n",
    "ros[rr]"
   ]
  },
  {
   "cell_type": "code",
   "execution_count": 14,
   "metadata": {},
   "outputs": [
    {
     "data": {
      "text/plain": [
       "[<matplotlib.lines.Line2D at 0x7fd76b6c7390>]"
      ]
     },
     "execution_count": 14,
     "metadata": {},
     "output_type": "execute_result"
    },
    {
     "data": {
      "image/png": "[encoded data removed]",
      "text/plain": [
       "<Figure size 432x288 with 1 Axes>"
      ]
     },
     "metadata": {
      "needs_background": "light"
     },
     "output_type": "display_data"
    }
   ],
   "source": [
    "plt.plot(Ns,gammas[rr])"
   ]
  },
  {
   "cell_type": "code",
   "execution_count": 15,
   "metadata": {},
   "outputs": [
    {
     "name": "stdout",
     "output_type": "stream",
     "text": [
      "1.8105203382722288\n"
     ]
    },
    {
     "data": {
      "image/png": "[encoded data removed]",
      "text/plain": [
       "<Figure size 432x288 with 1 Axes>"
      ]
     },
     "metadata": {
      "needs_background": "light"
     },
     "output_type": "display_data"
    }
   ],
   "source": [
    "plt.plot(Ns,Rs[rr])\n",
    "print(min(Rs[rr][90:-1]))"
   ]
  },
  {
   "cell_type": "code",
   "execution_count": 16,
   "metadata": {},
   "outputs": [
    {
     "data": {
      "text/plain": [
       "[<matplotlib.lines.Line2D at 0x7fd76c5552d0>]"
      ]
     },
     "execution_count": 16,
     "metadata": {},
     "output_type": "execute_result"
    },
    {
     "data": {
      "image/png": "[encoded data removed]",
      "text/plain": [
       "<Figure size 432x288 with 1 Axes>"
      ]
     },
     "metadata": {
      "needs_background": "light"
     },
     "output_type": "display_data"
    }
   ],
   "source": [
    "plt.plot(Ns,Cs[rr])"
   ]
  },
  {
   "cell_type": "markdown",
   "metadata": {},
   "source": [
    "## Calculate a specific sample"
   ]
  },
  {
   "cell_type": "code",
   "execution_count": 17,
   "metadata": {},
   "outputs": [
    {
     "name": "stdout",
     "output_type": "stream",
     "text": [
      "ri =  19.61199873581633\n",
      "Resistance 1.7101925651949843\n",
      "gamma =  0.0063200234624390976\n",
      "Self capacitance = 0.020568613355098048 pF\n",
      "score_1 =  0.537184791614064\n",
      "diameter of outer via is  5.499863360473464\n",
      "diameter of inner via is  1.5957818815585503\n",
      "diameter of outer dim is  125.49986336047347\n"
     ]
    }
   ],
   "source": [
    "N = 65\n",
    "L = 6* 10**(-6) # H\n",
    "h = 0.25*25.4\n",
    "ro = 60\n",
    "alpha = 0.3\n",
    "ri = Ri(L,N,ro,h)\n",
    "gamma_1 = gamma(N, ro, ri, h)\n",
    "R_1 = Resistance(N, ro, ri, h)\n",
    "C_1 = SelfCapacitance(N, ro, ri, h)\n",
    "score_gamma_1 = gamma_1/np.max(gammas)\n",
    "score_R_1 = R_1/np.max(Rs)\n",
    "p = 0.8\n",
    "score_1 = 1-(p*score_R_1 + (1-p)*score_gamma_1)\n",
    "ro_via = (2*np.pi*ro-alpha*N)/N/2\n",
    "ri_via = (2*np.pi*ri-alpha*N)/N/2\n",
    "print('ri = ', ri)\n",
    "print('Resistance', R_1)\n",
    "print('gamma = ',gamma_1)\n",
    "print('Self capacitance =',C_1*1e12,'pF')\n",
    "print('score_1 = ', score_1)\n",
    "print('diameter of outer via is ',ro_via*2)\n",
    "print('diameter of inner via is ',ri_via*2)\n",
    "print('diameter of outer dim is ',ro*2+ro_via*2)"
   ]
  },
  {
   "cell_type": "markdown",
   "metadata": {},
   "source": [
    "## Append desired dimensions"
   ]
  },
  {
   "cell_type": "code",
   "execution_count": 366,
   "metadata": {},
   "outputs": [],
   "source": [
    "save = True"
   ]
  },
  {
   "cell_type": "code",
   "execution_count": 481,
   "metadata": {},
   "outputs": [
    {
     "name": "stdout",
     "output_type": "stream",
     "text": [
      "L =  [8.439999999999999e-07, 7.54e-07, 6.81e-07, 6.2e-07, 5.699999999999999e-07, 5.27e-07, 4.9e-07, 4.58e-07, 4.2999999999999996e-07, 4.05e-07]\n"
     ]
    }
   ],
   "source": [
    "if save == True:\n",
    "    des_L.append(L)\n",
    "    des_ro.append(ro)\n",
    "    des_ri.append(ri)\n",
    "    des_R.append(R_1)\n",
    "    des_sC.append(C_1)\n",
    "    des_ro_via.append(ro_via*2)\n",
    "    des_ri_via.append(ri_via*2)\n",
    "    des_N.append(N)\n",
    "print('L = ',des_L)"
   ]
  },
  {
   "cell_type": "code",
   "execution_count": 483,
   "metadata": {},
   "outputs": [
    {
     "name": "stdout",
     "output_type": "stream",
     "text": [
      "N =  [30, 26, 24, 22, 20, 19, 18, 17, 16, 15]\n"
     ]
    }
   ],
   "source": [
    "print('N = ',des_N)"
   ]
  },
  {
   "cell_type": "code",
   "execution_count": 484,
   "metadata": {},
   "outputs": [
    {
     "data": {
      "text/plain": [
       "[11.05, 11.05, 11.05, 11.05, 11.05, 11.05, 11.05, 11.05, 11.05, 11.05]"
      ]
     },
     "execution_count": 484,
     "metadata": {},
     "output_type": "execute_result"
    }
   ],
   "source": [
    "des_ro"
   ]
  },
  {
   "cell_type": "code",
   "execution_count": 485,
   "metadata": {},
   "outputs": [
    {
     "data": {
      "text/plain": [
       "[5.280511691318732,\n",
       " 4.591354840661164,\n",
       " 4.355731024447756,\n",
       " 4.0300383586568875,\n",
       " 3.5980196693128943,\n",
       " 3.500673671080066,\n",
       " 3.3588797232709484,\n",
       " 3.172679485532023,\n",
       " 2.944215324895772,\n",
       " 2.6781014299071377]"
      ]
     },
     "execution_count": 485,
     "metadata": {},
     "output_type": "execute_result"
    }
   ],
   "source": [
    "des_ri"
   ]
  },
  {
   "cell_type": "code",
   "execution_count": 486,
   "metadata": {},
   "outputs": [
    {
     "data": {
      "text/plain": [
       "[0.7898925786175889,\n",
       " 0.6790308651814487,\n",
       " 0.6044300997700938,\n",
       " 0.5429365211978912,\n",
       " 0.49451546915904854,\n",
       " 0.4547226096162188,\n",
       " 0.42101456465734055,\n",
       " 0.3926138803362764,\n",
       " 0.3688611018910822,\n",
       " 0.34921796986416465]"
      ]
     },
     "execution_count": 486,
     "metadata": {},
     "output_type": "execute_result"
    }
   ],
   "source": [
    "des_R"
   ]
  },
  {
   "cell_type": "code",
   "execution_count": 487,
   "metadata": {},
   "outputs": [
    {
     "data": {
      "text/plain": [
       "[2.0311415755276132e-14,\n",
       " 2.5013907301858622e-14,\n",
       " 2.8200839035245172e-14,\n",
       " 3.199309815324091e-14,\n",
       " 3.653385140469791e-14,\n",
       " 3.9454554461435237e-14,\n",
       " 4.268832462451426e-14,\n",
       " 4.628409604048123e-14,\n",
       " 5.030366880913142e-14,\n",
       " 5.482738584627046e-14]"
      ]
     },
     "execution_count": 487,
     "metadata": {},
     "output_type": "execute_result"
    }
   ],
   "source": [
    "des_sC"
   ]
  },
  {
   "cell_type": "code",
   "execution_count": 488,
   "metadata": {},
   "outputs": [
    {
     "data": {
      "text/plain": [
       "[2.114306588144481,\n",
       " 2.4703537555513244,\n",
       " 2.692883235180602,\n",
       " 2.95587262019702,\n",
       " 3.271459882216722,\n",
       " 3.454168297070234,\n",
       " 3.657177646907469,\n",
       " 3.8840704496667313,\n",
       " 4.139324852770902,\n",
       " 4.4286131762889624]"
      ]
     },
     "execution_count": 488,
     "metadata": {},
     "output_type": "execute_result"
    }
   ],
   "source": [
    "des_ro_via"
   ]
  },
  {
   "cell_type": "code",
   "execution_count": 489,
   "metadata": {},
   "outputs": [
    {
     "data": {
      "text/plain": [
       "[0.9059477824427961,\n",
       " 0.9095512798034652,\n",
       " 0.9403277156181845,\n",
       " 0.9509762637492313,\n",
       " 0.9303512160584966,\n",
       " 0.9576516513347734,\n",
       " 0.972470206991081,\n",
       " 0.9726195957579352,\n",
       " 0.9561906544098804,\n",
       " 0.9218005037019446]"
      ]
     },
     "execution_count": 489,
     "metadata": {},
     "output_type": "execute_result"
    }
   ],
   "source": [
    "des_ri_via"
   ]
  },
  {
   "cell_type": "markdown",
   "metadata": {},
   "source": [
    "# The self-capacitance of PCB-based inductor\n",
    "The major theory of self-capacitance is to calculate $C_{turn-to-turn}$, which is easy to calculate for the PCB based inductor:\n",
    "\n",
    "#### The trace capacitances:\n",
    "$$\n",
    "C_{tt-trace} = \\epsilon_r\\epsilon_0 A/d\n",
    "$$\n",
    "where $\\epsilon_r = 3.48$ for Rogers 4350b, $\\epsilon_0 = 8.854\\times 10^{-12}$. \n",
    "\n",
    "Area of the side of trace $A = h\\times l$, where $h = 35 \\mu m$ for 1oz copper ($h = 70 \\mu m$ for 2oz copper), l is the length of one trace: $l = r_{out} - r_{in} \\approx 5mm$\n",
    "\n",
    "Distance between two adjacent trace is the separation in the simulation ($\\alpha$): $d = \\alpha = 0.2mm$"
   ]
  },
  {
   "cell_type": "code",
   "execution_count": 233,
   "metadata": {},
   "outputs": [
    {
     "name": "stdout",
     "output_type": "stream",
     "text": [
      "Turn-to-turn trace capacitance is 0.10784172000000002 pF\n",
      "Total capacitance is 0.005392086000000001 pF\n"
     ]
    }
   ],
   "source": [
    "epsilon_r = 3.48\n",
    "epsilon_0 = 8.854e-15 # F/mm\n",
    "h = 35e-3 # mm\n",
    "l = 20\n",
    "A = h*l\n",
    "d = 0.2\n",
    "N = 20\n",
    "Ctttrace = epsilon_r*epsilon_0*A/d\n",
    "turn = 'Turn-to-turn trace capacitance is '+ str(Ctttrace/1e-12)+' pF'\n",
    "print(turn)\n",
    "total = 'Total capacitance is '+ str(Ctttrace/(N*1e-12))+' pF'\n",
    "print(total)"
   ]
  },
  {
   "cell_type": "markdown",
   "metadata": {},
   "source": [
    "#### The via capacitances:\n",
    "$$\n",
    "C_{tt-via} = \\frac{2\\epsilon_0 l_T}{\\sqrt{[\\frac{1}{\\epsilon_r}\\ln(\\frac{d_o}{d_i})+\\frac{p}{d_o}]^2-1}}\\times\n",
    "\\tan^{-1}\\left[\\sqrt{1+\\frac{2}{\\frac{1}{\\epsilon_r}\\ln(\\frac{d_o}{d_i})+\\frac{p}{d_o}-1}}\\right]\n",
    "$$\n",
    "where $l_T$ is the length of via, i.e. the thickness of the PCB board.\n",
    "\n",
    "$\\epsilon_r$ is the relative permittivity of Rogers 4350b.\n",
    "\n",
    "$d_o, d_i$ are the outer (with insulating tube) and inner (bare copper) diameter of wire. Because the via has no insulating tube, $d_o = d_i$ is the diameter of via.\n",
    "\n",
    "$p$ is the winding pitch, which is the center-to-center distance between two adjacent vias. Here $p = d_o + \\alpha$ "
   ]
  },
  {
   "cell_type": "code",
   "execution_count": 234,
   "metadata": {},
   "outputs": [
    {
     "name": "stdout",
     "output_type": "stream",
     "text": [
      "Turn-to-turn small via capacitance is 0.11200162034976892 pF\n",
      "Turn-to-turn large via capacitance is 0.342414077989886 pF\n"
     ]
    }
   ],
   "source": [
    "lt = 3.125\n",
    "do_s = 1.08\n",
    "do_l = 7.33\n",
    "alpha = 0.2\n",
    "p_s = do_s+alpha\n",
    "p_l = do_l+alpha\n",
    "\n",
    "Cttvia_s = 2*epsilon_0*lt/np.sqrt((p_s/do_s)**2-1)*np.arctan(np.sqrt(1+2/(p_s/do_s-1)))\n",
    "turn1 = 'Turn-to-turn small via capacitance is '+ str(Cttvia_s/1e-12)+' pF'\n",
    "print(turn1)\n",
    "Cttvia_l = 2*epsilon_0*lt/np.sqrt((p_l/do_l)**2-1)*np.arctan(np.sqrt(1+2/(p_l/do_l-1)))\n",
    "turn2 = 'Turn-to-turn large via capacitance is '+ str(Cttvia_l/1e-12)+' pF'\n",
    "print(turn2)"
   ]
  },
  {
   "cell_type": "markdown",
   "metadata": {},
   "source": [
    "# Calculate the desired inductance"
   ]
  },
  {
   "cell_type": "code",
   "execution_count": 61,
   "metadata": {},
   "outputs": [
    {
     "name": "stdout",
     "output_type": "stream",
     "text": [
      "[0.8443431970194816, 0.7536286386620166, 0.6805154125231642, 0.6203337774020681, 0.56993165798815, 0.5271044235728556, 0.49026379181776353, 0.458236508935196, 0.4301371003684151, 0.40528473456935116]\n",
      "The corresponding frequencies are (MHz)\n",
      "[41.053541362798, 43.45416745449791, 45.72894138180027, 47.895798256597665, 49.96877926639076, 51.95912154867385, 53.87598465779017, 55.726951590617446, 57.518384402898526, 59.255682892497155]\n",
      "\n",
      " If subtract 100 nF\n",
      "[0.7443431970194816, 0.6536286386620166, 0.5805154125231642, 0.5203337774020681, 0.46993165798815006, 0.4271044235728556, 0.3902637918177635, 0.358236508935196, 0.33013710036841515, 0.3052847345693511]\n",
      "\n",
      "\n",
      "If we use the previous number, the frequencies will become: \n",
      "[38.81907677642994, 40.82964858371321, 42.69916564189463, 44.44708058863924, 46.08874473716811, 47.636538753797595, 49.10062935493618, 50.48949331943493, 51.81029096944522, 53.069138997637964]\n",
      "The corresponding capacitances are:\n",
      "[10.72927553903346, 11.869468648702943, 12.981317475179361, 14.065865966713295, 15.124107427108632, 16.15698755002747, 17.165407237721844, 18.150225221851237, 19.112260502410667, 20.0522946193284]\n"
     ]
    }
   ],
   "source": [
    "f = 50e6\n",
    "Cs = np.linspace(12e-12, 25e-12, 10)\n",
    "Ls = []\n",
    "for C in Cs:\n",
    "    Ls.append(1/(2*np.pi*f)**2/C)\n",
    "print([L*1e6 for L in Ls])\n",
    "\n",
    "fs = []\n",
    "for L in Ls:\n",
    "    fs.append(1/(2*np.pi*np.sqrt(L*17.8e-12)))\n",
    "print('The corresponding frequencies are (MHz)')\n",
    "print([f/1e6 for f in fs]) \n",
    "\n",
    "print('\\n If subtract 100 nH')\n",
    "print([L*1e6-0.1 for L in Ls])\n",
    "print('\\n')\n",
    "fns = []\n",
    "for L in Ls:\n",
    "    fns.append(1/(2*np.pi*np.sqrt((L+1e-7)*17.8e-12)))\n",
    "print('If we use the previous number, the frequencies will become: ')\n",
    "print([f/1e6 for f in fns]) \n",
    "print('The corresponding capacitances are:')\n",
    "\n",
    "Cns = []\n",
    "for L in Ls:\n",
    "    Cns.append(1/(2*np.pi*f)**2/(L+1e-7))\n",
    "print([C*1e12 for C in Cns])"
   ]
  },
  {
   "cell_type": "code",
   "execution_count": 56,
   "metadata": {},
   "outputs": [
    {
     "data": {
      "text/plain": [
       "1.7802184325259065e-11"
      ]
     },
     "execution_count": 56,
     "metadata": {},
     "output_type": "execute_result"
    }
   ],
   "source": [
    "L = 0.51e-6\n",
    "f = 52.82e6\n",
    "1/(2*np.pi*f)**2/L"
   ]
  },
  {
   "cell_type": "markdown",
   "metadata": {},
   "source": [
    "# Calculate the resistance of wire-based coil"
   ]
  },
  {
   "cell_type": "code",
   "execution_count": 204,
   "metadata": {},
   "outputs": [
    {
     "data": {
      "text/plain": [
       "0.32827577054514867"
      ]
     },
     "execution_count": 204,
     "metadata": {},
     "output_type": "execute_result"
    }
   ],
   "source": [
    "rho = 1.678 * 10**(-5) # Ohm*mm\n",
    "delta = 9.22 * 10**(-3) # mm\n",
    "l = 680 # mm\n",
    "r = 0.6\n",
    "S = 2.0*np.pi*r*delta\n",
    "R = rho*l/S\n",
    "R"
   ]
  },
  {
   "cell_type": "code",
   "execution_count": 3,
   "metadata": {},
   "outputs": [
    {
     "data": {
      "text/plain": [
       "47.13179686652352"
      ]
     },
     "execution_count": 3,
     "metadata": {},
     "output_type": "execute_result"
    }
   ],
   "source": [
    "1/np.sqrt(0.886*12.87e-6)/2/np.pi"
   ]
  },
  {
   "cell_type": "code",
   "execution_count": 4,
   "metadata": {},
   "outputs": [
    {
     "data": {
      "text/plain": [
       "7.872663841673488e-07"
      ]
     },
     "execution_count": 4,
     "metadata": {},
     "output_type": "execute_result"
    }
   ],
   "source": [
    "1/(2*np.pi*50e6)**2/12.87e-12"
   ]
  },
  {
   "cell_type": "code",
   "execution_count": null,
   "metadata": {},
   "outputs": [],
   "source": []
  }
 ],
 "metadata": {
  "kernelspec": {
   "display_name": "Python36",
   "language": "python",
   "name": "myenv"
  },
  "language_info": {
   "codemirror_mode": {
    "name": "ipython",
    "version": 3
   },
   "file_extension": ".py",
   "mimetype": "text/x-python",
   "name": "python",
   "nbconvert_exporter": "python",
   "pygments_lexer": "ipython3",
   "version": "3.7.4"
  }
 },
 "nbformat": 4,
 "nbformat_minor": 2
}
