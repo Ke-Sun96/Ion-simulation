{
 "cells": [
  {
   "cell_type": "code",
   "execution_count": 1,
   "metadata": {},
   "outputs": [],
   "source": [
    "import h5py\n",
    "import numpy as np\n",
    "import matplotlib.pyplot as plt\n",
    "import json"
   ]
  },
  {
   "cell_type": "markdown",
   "metadata": {},
   "source": [
    "# Positions of RF Center \n",
    "The center of the quantum region is axial position = 0"
   ]
  },
  {
   "cell_type": "code",
   "execution_count": 2,
   "metadata": {},
   "outputs": [],
   "source": [
    "filename = 'rf_center_phoenix.h5'\n",
    "with h5py.File(filename, 'r') as fh:\n",
    "    yz_index = np.array(fh['yz_index'])\n",
    "    yz_um = np.array(fh['yz_um'])\n",
    "    xs_um = np.array(fh['xs_um'])"
   ]
  },
  {
   "cell_type": "code",
   "execution_count": 3,
   "metadata": {},
   "outputs": [
    {
     "data": {
      "text/plain": [
       "Text(0, 0.5, 'Y position (um)')"
      ]
     },
     "execution_count": 3,
     "metadata": {},
     "output_type": "execute_result"
    },
    {
     "data": {
      "image/png": "[encoded data removed]",
      "text/plain": [
       "<Figure size 432x288 with 1 Axes>"
      ]
     },
     "metadata": {
      "needs_background": "light"
     },
     "output_type": "display_data"
    }
   ],
   "source": [
    "y_um = yz_um[0]\n",
    "z_um = yz_um[1]\n",
    "plt.plot(xs_um, y_um)\n",
    "plt.xlabel('Axial position (um)')\n",
    "plt.ylabel('Y position (um)')"
   ]
  },
  {
   "cell_type": "code",
   "execution_count": 4,
   "metadata": {},
   "outputs": [
    {
     "data": {
      "text/plain": [
       "Text(0, 0.5, 'Z position (um)')"
      ]
     },
     "execution_count": 4,
     "metadata": {},
     "output_type": "execute_result"
    },
    {
     "data": {
      "image/png": "[encoded data removed]",
      "text/plain": [
       "<Figure size 432x288 with 1 Axes>"
      ]
     },
     "metadata": {
      "needs_background": "light"
     },
     "output_type": "display_data"
    }
   ],
   "source": [
    "plt.plot(xs_um, z_um)\n",
    "plt.xlabel('Axial position (um)')\n",
    "plt.ylabel('Z position (um)')"
   ]
  },
  {
   "cell_type": "markdown",
   "metadata": {},
   "source": [
    "# Write the solution file"
   ]
  },
  {
   "cell_type": "code",
   "execution_count": 7,
   "metadata": {},
   "outputs": [],
   "source": [
    "filename = 'compensate_red_20230215/-175.h5'\n",
    "with h5py.File(filename, 'r') as fh:\n",
    "    electrode_names = json.loads(np.array(fh['electrode_names']).item())\n",
    "    electrodes = np.array(fh['electrodes'])\n",
    "    solutions = {k: np.array(v) for (k, v) in fh['solutions'].items()}"
   ]
  },
  {
   "cell_type": "code",
   "execution_count": 8,
   "metadata": {},
   "outputs": [
    {
     "data": {
      "text/plain": [
       "[['Q10'],\n",
       " ['Q11'],\n",
       " ['Q12'],\n",
       " ['Q13'],\n",
       " ['Q18'],\n",
       " ['Q19'],\n",
       " ['Q20'],\n",
       " ['Q21'],\n",
       " ['Q48'],\n",
       " ['Q49'],\n",
       " ['Q50'],\n",
       " ['Q51'],\n",
       " ['Q52'],\n",
       " ['Q53'],\n",
       " ['Q54'],\n",
       " ['Q55'],\n",
       " ['Q56'],\n",
       " ['Q57']]"
      ]
     },
     "execution_count": 8,
     "metadata": {},
     "output_type": "execute_result"
    }
   ],
   "source": [
    "electrodes_used = [electrode_names[i] for i in electrodes]\n",
    "electrodes_used"
   ]
  },
  {
   "cell_type": "code",
   "execution_count": 9,
   "metadata": {},
   "outputs": [
    {
     "data": {
      "text/plain": [
       "{'dx': array([ 3.36429082e-03,  3.36429082e-03, -3.36429009e-03,  5.33097462e-05,\n",
       "         3.31058238e-04, -2.15834433e-04, -1.91116669e-03,  3.36429021e-03,\n",
       "         3.36428790e-03, -9.54571612e-04, -3.36429077e-03, -3.36429085e-03,\n",
       "        -1.16406276e-04,  2.04981391e-04,  3.36429073e-03,  3.36429063e-03,\n",
       "        -1.32420714e-03, -2.41816996e-03]),\n",
       " 'dy': array([ 0.00109901, -0.00128598,  0.00128598, -0.00119493,  0.00102749,\n",
       "        -0.00098546, -0.00128598,  0.0012567 ,  0.00128598, -0.00128598,\n",
       "         0.00128598, -0.00121846,  0.00128598, -0.00128598, -0.00017536,\n",
       "         0.00017832, -0.00128598,  0.00125311]),\n",
       " 'dz': array([ 0.00381217,  0.00381217, -0.00381217,  0.00050641,  0.00044669,\n",
       "        -0.00058472, -0.00381217,  0.00236078,  0.00381217,  0.00381217,\n",
       "         0.00381217, -0.00309946, -0.00348237,  0.00186463,  0.00313028,\n",
       "        -0.00121659,  0.00381217,  0.00381217]),\n",
       " 'x2': array([-13.38609605, -13.38609605,  13.38609586,  11.03402285,\n",
       "         -0.04711866,   0.58790532,  13.38609582,   4.50309567,\n",
       "        -13.38609605, -13.38609605,  13.25131445,  13.38609454,\n",
       "         -6.60533142,  -6.67549421,  10.69355379,  11.62953015,\n",
       "        -13.38609603, -13.38609603]),\n",
       " 'x3': array([-449.65880553, -449.65880553,  449.65880337, -440.38959465,\n",
       "         -51.98399435,   13.17268177,  449.65880193, -249.94507192,\n",
       "        -449.65880489, -449.65880492,  449.65880562,  449.65880565,\n",
       "        -246.31698186,  -17.76518055,  101.54213048, -341.11123461,\n",
       "         -99.69002317,  449.65879785]),\n",
       " 'x4': array([ 7640.06634978,  7640.0663498 , -7640.06633301,  4841.06769265,\n",
       "          362.38681247,  -768.93968912, -6279.59977912,  7640.06632159,\n",
       "         7640.06634814,  7640.06634809, -7640.06635011, -7640.0663501 ,\n",
       "         5315.67658032,  2484.15682872, -7356.09973606, -2626.11456611,\n",
       "         7640.06620061,  1520.63587065]),\n",
       " 'xy': array([-1.07114129e+01,  1.03112533e+01, -1.07114129e+01,  1.04366018e+01,\n",
       "         8.69159431e-03, -1.77001856e-02,  1.07114129e+01, -1.02912784e+01,\n",
       "        -1.07114129e+01,  1.04908975e+01, -1.07114129e+01,  1.07114129e+01,\n",
       "         1.35867149e-01, -1.15794925e-01,  1.07114129e+01, -1.07114129e+01,\n",
       "         1.07114129e+01, -1.04188068e+01]),\n",
       " 'yz': array([-6.84897308,  9.35537613, -9.35537615,  8.52676942, -9.35537616,\n",
       "         8.98993674,  9.35537606, -9.16692082, -2.43626742,  0.7742496 ,\n",
       "        -9.35537615,  9.26528598,  4.3899218 , -3.95400234,  9.35537616,\n",
       "        -9.35537615,  9.35537616, -9.35537614]),\n",
       " 'z2': array([ 28.03428677,  28.03428678, -28.03428429,   1.22991553,\n",
       "          2.64614342,  -3.6827831 , -28.0342792 ,  14.8683752 ,\n",
       "         28.03428682,  28.03428683,   9.73212196, -28.03403678,\n",
       "        -27.48632455,   0.87850602,   6.79806831, -16.23661725,\n",
       "         28.0342863 ,  28.03428628]),\n",
       " 'zx': array([-31.20542848, -31.20542848,  31.20542744, -12.3066905 ,\n",
       "         -5.45730609,   0.74051795,  22.66179374, -31.20542558,\n",
       "        -31.20542849, -31.20542849,   8.67146748,  30.85866384,\n",
       "        -14.55919471, -24.67186516,  31.20542847,  31.20542846,\n",
       "        -31.20542543,  -7.98534532])}"
      ]
     },
     "execution_count": 9,
     "metadata": {},
     "output_type": "execute_result"
    }
   ],
   "source": [
    "solutions"
   ]
  },
  {
   "cell_type": "code",
   "execution_count": 10,
   "metadata": {},
   "outputs": [],
   "source": [
    "f = open(\"solutions/Phoenix_noQ16Q17.txt\", \"r\")\n",
    "names = list(f.readline().split(\"\\t\"))\n",
    "values = list(f.readline().split(\"\\t\"))\n",
    "f.close()"
   ]
  },
  {
   "cell_type": "code",
   "execution_count": 11,
   "metadata": {},
   "outputs": [
    {
     "name": "stdout",
     "output_type": "stream",
     "text": [
      "Example dictionary is : {'L0': '0', 'L1': '0', 'L2': '0', 'L3': '0', 'L4': '0', 'L5': '0', 'L6': '0', 'L7': '0', 'L8': '0', 'L9': '0', 'O0': '0', 'O1': '0', 'Q00': '0', 'Q01': '0', 'Q02': '0', 'Q03': '0', 'Q04': '0', 'Q05': '0', 'Q06': '0', 'Q07': '0', 'Q08': '0', 'Q09': '0', 'Q10': '0.07658143888397267', 'Q11': '0.8218001659049519', 'Q12': '0.8218027506098731', 'Q13': '0.8218027527392288', 'Q14': '0.19847500828067466', 'Q15': '-0.0791566626688488', 'Q16': '0', 'Q17': '0', 'Q18': '-0.07834568880533234', 'Q19': '0.2297778611837709', 'Q20': '0.8218027833953311', 'Q21': '0.8218027837262808', 'Q22': '0', 'Q23': '0', 'Q24': '0', 'Q25': '0', 'Q26': '0', 'Q27': '0', 'Q28': '0', 'Q29': '0', 'Q30': '0', 'Q31': '0', 'Q32': '0', 'Q33': '0', 'Q34': '0', 'Q35': '0', 'Q36': '0', 'Q37': '0', 'Q38': '0', 'Q39': '0', 'Q40': '0', 'Q41': '0', 'Q42': '0', 'Q43': '0', 'Q44': '0', 'Q45': '0', 'Q46': '0', 'Q47': '0', 'Q48': '-0.8218027691207956', 'Q49': '-0.8218027691029198', 'Q50': '-0.3838272533191884', 'Q51': '0.8218026361233989', 'Q52': '0.4927025308130314', 'Q53': '0.21299601783835753', 'Q54': '-0.13206938914396357', 'Q55': '-0.8218026261458095', 'Q56': '0.8218024253886772', 'Q57': '0.8218020869138218', 'Q58': '0', 'Q59': '0', 'Q60': '0', 'Q61': '0', 'Q62': '0', 'Q63': '0', 'Q64': '0', 'Q65': '0', 'S00': '0', 'S01': '0', 'S02': '0', 'S03': '0', 'S04': '0', 'S05': '0', 'S06': '0', 'S07': '0', 'S08': '0', 'S09': '0', 'S10': '0', 'S11\\n': '0\\n'}\n"
     ]
    }
   ],
   "source": [
    "res_eg = {names[i]: values[i] for i in range(len(names))}\n",
    "# Printing resultant dictionary\n",
    "print(\"Example dictionary is : \" + str(res_eg))"
   ]
  },
  {
   "cell_type": "code",
   "execution_count": 12,
   "metadata": {},
   "outputs": [
    {
     "name": "stdout",
     "output_type": "stream",
     "text": [
      "Resultant dictionary is : {'L0': '0', 'L1': '0', 'L2': '0', 'L3': '0', 'L4': '0', 'L5': '0', 'L6': '0', 'L7': '0', 'L8': '0', 'L9': '0', 'O0': '0', 'O1': '0', 'Q00': '0', 'Q01': '0', 'Q02': '0', 'Q03': '0', 'Q04': '0', 'Q05': '0', 'Q06': '0', 'Q07': '0', 'Q08': '0', 'Q09': '0', 'Q10': '-1.2047486440556086', 'Q11': '-1.2047486440783086', 'Q12': '1.204748627630449', 'Q13': '0.9930620565018535', 'Q14': '0', 'Q15': '0', 'Q16': '0', 'Q17': '0', 'Q18': '-0.004240679828148215', 'Q19': '0.05291147920876888', 'Q20': '1.204748623994201', 'Q21': '0.40527861036641866', 'Q22': '0', 'Q23': '0', 'Q24': '0', 'Q25': '0', 'Q26': '0', 'Q27': '0', 'Q28': '0', 'Q29': '0', 'Q30': '0', 'Q31': '0', 'Q32': '0', 'Q33': '0', 'Q34': '0', 'Q35': '0', 'Q36': '0', 'Q37': '0', 'Q38': '0', 'Q39': '0', 'Q40': '0', 'Q41': '0', 'Q42': '0', 'Q43': '0', 'Q44': '0', 'Q45': '0', 'Q46': '0', 'Q47': '0', 'Q48': '-1.2047486442074844', 'Q49': '-1.2047486442124082', 'Q50': '1.1926183003742614', 'Q51': '1.2047485087694385', 'Q52': '-0.5944798273859758', 'Q53': '-0.6007944789686862', 'Q54': '0.9624198411898622', 'Q55': '1.0466577131162562', 'Q56': '-1.2047486424857745', 'Q57': '-1.2047486428490572', 'Q58': '0', 'Q59': '0', 'Q60': '0', 'Q61': '0', 'Q62': '0', 'Q63': '0', 'Q64': '0', 'Q65': '0', 'S00': '0', 'S01': '0', 'S02': '0', 'S03': '0', 'S04': '0', 'S05': '0', 'S06': '0', 'S07': '0', 'S08': '0', 'S09': '0', 'S10': '0', 'S11\\n': '0'}\n"
     ]
    }
   ],
   "source": [
    "res = {names[i]: '0' for i in range(len(names))}\n",
    "for i in range(len(electrodes_used)):\n",
    "    res[electrodes_used[i][0]] = str(solutions['x2'][i]*0.3**2) # 0.3**2 means this solution will generate 0.3kHz axial frequency\n",
    "# Printing resultant dictionary\n",
    "print(\"Resultant dictionary is : \" + str(res))"
   ]
  },
  {
   "cell_type": "code",
   "execution_count": 282,
   "metadata": {},
   "outputs": [],
   "source": [
    "# open file and read the content in a list\n",
    "with open('solutions/Phoenix_noQ14Q15Q16Q17.txt', 'w') as fp:\n",
    "    fp.write('\\t'.join(res.keys()))\n",
    "    fp.write('\\t'.join(res.values()))"
   ]
  },
  {
   "cell_type": "markdown",
   "metadata": {},
   "source": [
    "# Write the global adjust file"
   ]
  },
  {
   "cell_type": "code",
   "execution_count": 283,
   "metadata": {},
   "outputs": [],
   "source": [
    "f = open(\"solutions/global_adjust_with_trap_solution.txt\", \"r\")\n",
    "data = f.readlines()\n",
    "f.close()"
   ]
  },
  {
   "cell_type": "code",
   "execution_count": 284,
   "metadata": {},
   "outputs": [],
   "source": [
    "overwrite_dict = {'electrode_name': 79, 'dz': 80, 'dy':81, 'dx':82, 'yz':83, 'z2':84, 'x2':85}\n",
    "scale = {'dz': 1000, 'dy':1000, 'dx':1000, 'yz':1, 'z2':1, 'x2':1}\n",
    "names_adjust = list(data[overwrite_dict['electrode_name']].split(\"\\t\"))\n",
    "def overwrite_coeff(data, item, idx, scale):\n",
    "    res = {names_adjust[i]: '0' for i in range(len(names_adjust))}\n",
    "    if item != 'electrode_name':\n",
    "        for i in range(len(electrodes_used)):\n",
    "            res[electrodes_used[i][0]] = str(solutions[item][i]*scale[item])\n",
    "        data[idx] = '\\t'.join(res.values())\n",
    "        data[idx] = data[idx]+'\\n'"
   ]
  },
  {
   "cell_type": "code",
   "execution_count": 285,
   "metadata": {},
   "outputs": [],
   "source": [
    "for key in overwrite_dict.keys():\n",
    "    overwrite_coeff(data, key, overwrite_dict[key], scale)"
   ]
  },
  {
   "cell_type": "code",
   "execution_count": 286,
   "metadata": {},
   "outputs": [],
   "source": [
    "with open('solutions/global_adjust_noQ14Q15Q16Q17.txt', 'w') as fp:\n",
    "    fp.writelines(data)"
   ]
  },
  {
   "cell_type": "code",
   "execution_count": null,
   "metadata": {},
   "outputs": [],
   "source": []
  }
 ],
 "metadata": {
  "kernelspec": {
   "display_name": "Python36",
   "language": "python",
   "name": "myenv"
  },
  "language_info": {
   "codemirror_mode": {
    "name": "ipython",
    "version": 3
   },
   "file_extension": ".py",
   "mimetype": "text/x-python",
   "name": "python",
   "nbconvert_exporter": "python",
   "pygments_lexer": "ipython3",
   "version": "3.7.4"
  }
 },
 "nbformat": 4,
 "nbformat_minor": 4
}
