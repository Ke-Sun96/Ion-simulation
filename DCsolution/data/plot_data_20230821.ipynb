{
 "cells": [
  {
   "cell_type": "code",
   "execution_count": 336,
   "metadata": {},
   "outputs": [],
   "source": [
    "import h5py\n",
    "import numpy as np\n",
    "import matplotlib.pyplot as plt\n",
    "import json"
   ]
  },
  {
   "cell_type": "markdown",
   "metadata": {},
   "source": [
    "# Positions of RF Center \n",
    "The center of the quantum region is axial position = 0"
   ]
  },
  {
   "cell_type": "code",
   "execution_count": 315,
   "metadata": {},
   "outputs": [],
   "source": [
    "filename = 'rf_center_phoenix.h5'\n",
    "with h5py.File(filename, 'r') as fh:\n",
    "    yz_index = np.array(fh['yz_index'])\n",
    "    yz_um = np.array(fh['yz_um'])\n",
    "    xs_um = np.array(fh['xs_um'])"
   ]
  },
  {
   "cell_type": "code",
   "execution_count": 316,
   "metadata": {},
   "outputs": [
    {
     "data": {
      "text/plain": [
       "Text(0, 0.5, 'Y position (um)')"
      ]
     },
     "execution_count": 316,
     "metadata": {},
     "output_type": "execute_result"
    },
    {
     "data": {
      "image/png": "[encoded data removed]",
      "text/plain": [
       "<Figure size 432x288 with 1 Axes>"
      ]
     },
     "metadata": {
      "needs_background": "light"
     },
     "output_type": "display_data"
    }
   ],
   "source": [
    "y_um = yz_um[0]\n",
    "z_um = yz_um[1]\n",
    "plt.plot(xs_um, y_um)\n",
    "plt.xlabel('Axial position (um)')\n",
    "plt.ylabel('Y position (um)')"
   ]
  },
  {
   "cell_type": "code",
   "execution_count": 317,
   "metadata": {},
   "outputs": [
    {
     "data": {
      "text/plain": [
       "Text(0, 0.5, 'Z position (um)')"
      ]
     },
     "execution_count": 317,
     "metadata": {},
     "output_type": "execute_result"
    },
    {
     "data": {
      "image/png": "[encoded data removed]",
      "text/plain": [
       "<Figure size 432x288 with 1 Axes>"
      ]
     },
     "metadata": {
      "needs_background": "light"
     },
     "output_type": "display_data"
    }
   ],
   "source": [
    "plt.plot(xs_um, z_um)\n",
    "plt.xlabel('Axial position (um)')\n",
    "plt.ylabel('Z position (um)')"
   ]
  },
  {
   "cell_type": "markdown",
   "metadata": {},
   "source": [
    "# Write the solution file"
   ]
  },
  {
   "cell_type": "code",
   "execution_count": 7,
   "metadata": {},
   "outputs": [],
   "source": [
    "# Open the desired solution file\n",
    "filename = 'compensate_red_20230821/-35.h5'\n",
    "with h5py.File(filename, 'r') as fh:\n",
    "    electrode_names = json.loads(np.array(fh['electrode_names']).item())\n",
    "    electrodes = np.array(fh['electrodes'])\n",
    "    solutions = {k: np.array(v) for (k, v) in fh['solutions'].items()}"
   ]
  },
  {
   "cell_type": "code",
   "execution_count": 8,
   "metadata": {},
   "outputs": [
    {
     "data": {
      "text/plain": [
       "[['Q14'],\n",
       " ['Q15'],\n",
       " ['Q16'],\n",
       " ['Q17'],\n",
       " ['Q18'],\n",
       " ['Q19'],\n",
       " ['Q20'],\n",
       " ['Q21'],\n",
       " ['Q22'],\n",
       " ['Q23'],\n",
       " ['Q24'],\n",
       " ['Q25'],\n",
       " ['Q26'],\n",
       " ['Q27'],\n",
       " ['Q50'],\n",
       " ['Q51'],\n",
       " ['Q52'],\n",
       " ['Q53'],\n",
       " ['Q54'],\n",
       " ['Q55'],\n",
       " ['Q56'],\n",
       " ['Q57'],\n",
       " ['Q58'],\n",
       " ['Q59']]"
      ]
     },
     "execution_count": 8,
     "metadata": {},
     "output_type": "execute_result"
    }
   ],
   "source": [
    "electrodes_used = []\n",
    "for i in electrodes:\n",
    "    temp = electrode_names[i]\n",
    "    if len(temp[0]) == 2:\n",
    "        temp = ['Q0'+temp[0][-1]]\n",
    "    electrodes_used.append(temp)\n",
    "electrodes_used"
   ]
  },
  {
   "cell_type": "code",
   "execution_count": 9,
   "metadata": {},
   "outputs": [
    {
     "data": {
      "text/plain": [
       "{'dx': array([-0.00145003, -0.00145003, -0.00145003,  0.00096408,  0.00114496,\n",
       "        -0.00135989, -0.00060728,  0.00057195,  0.00145003, -0.00108831,\n",
       "        -0.00103086,  0.00145003,  0.00145003,  0.00145003, -0.00145003,\n",
       "        -0.00145003, -0.00145003, -0.00145003, -0.0002691 ,  0.00030747,\n",
       "         0.00145003,  0.00145003,  0.00145003,  0.00145003]),\n",
       " 'dy': array([ 0.00073983, -0.0006158 ,  0.00073493, -0.00073983,  0.00073691,\n",
       "        -0.00069972, -0.0001126 ,  0.00010216,  0.00073983, -0.00070435,\n",
       "         0.00073983, -0.00073983,  0.00073983, -0.00054722,  0.00073983,\n",
       "        -0.00073983,  0.00073983, -0.00073983,  0.00073983, -0.00073983,\n",
       "         0.00073983, -0.00073983,  0.00073983, -0.00073903]),\n",
       " 'dz': array([ 0.00193061,  0.00193061, -0.00170514,  0.00193061,  0.00114221,\n",
       "        -0.00020981,  0.00010871,  0.00069116,  0.00114233, -0.00021273,\n",
       "        -0.00168914,  0.00193061,  0.00193061,  0.00193061,  0.00193061,\n",
       "         0.00193061,  0.00191815,  0.00193061,  0.00193061,  0.00193061,\n",
       "         0.00193061,  0.00193061,  0.00193061,  0.00193061]),\n",
       " 'x2': array([ 4.676166  ,  4.67616622,  4.59276368,  4.67610392, -1.02535243,\n",
       "        -0.40010351, -1.0887977 , -1.36685053, -1.02668081, -0.39904246,\n",
       "         4.67616783,  4.67616783,  4.67616773,  4.67616773,  4.67614665,\n",
       "         4.3911379 , -4.67616726, -4.67616729, -4.67616781, -4.67616781,\n",
       "        -4.67616777, -4.67616776,  4.67616302,  4.42851018]),\n",
       " 'x3': array([-102.36033344, -102.36033362, -102.36035065, -102.36035082,\n",
       "         -52.25062478,   84.87797244,   37.79041641,  -35.70104303,\n",
       "        -102.3601526 ,   60.94835565,  102.36035061,  102.36035081,\n",
       "         102.36033199,  102.3603335 ,  -36.78857614,  102.34942736,\n",
       "         102.3603147 ,  102.36031651,   23.55728544,  -26.24401936,\n",
       "        -102.36031534, -102.36031736,   38.63231834, -102.35009099]),\n",
       " 'x4': array([ 356.57600902,  356.57600924,  347.18049511,  356.57600618,\n",
       "        -316.84576275, -331.31946059,   45.47216921,   33.27704284,\n",
       "        -356.57601089, -295.3110569 ,  356.57601104,  356.57601105,\n",
       "         356.57601101,  356.57601102, -111.25180367,  356.57596958,\n",
       "        -356.57601053, -356.5760102 , -356.57601103, -356.57601103,\n",
       "        -356.57601099, -356.57601096,  343.51386159,  -90.55726961]),\n",
       " 'xy': array([-3.75330663,  3.75330825, -3.7533087 ,  3.39105854, -3.75330875,\n",
       "         3.54358796, -0.03160314, -0.01048651,  3.75330875, -3.64720579,\n",
       "         3.7533087 , -3.55159611,  3.75330671, -3.75330818, -3.62610915,\n",
       "         3.75330867, -3.75330867,  3.75330872, -0.18144368, -0.14909647,\n",
       "         3.75330867, -3.75330872,  3.75330644, -3.75330866]),\n",
       " 'yz': array([-0.97612825, -1.69855731,  1.69855731, -1.02774111, -1.38996561,\n",
       "         1.2393417 , -1.69855731,  1.56268491, -1.39501914,  1.22993252,\n",
       "         1.69855731, -0.99809461, -0.97214294, -1.69855731,  1.69855731,\n",
       "        -1.69855731,  1.69855731, -1.69855731,  1.69855731, -1.69855731,\n",
       "         1.69855731, -1.69855731,  1.69855731, -1.69855731]),\n",
       " 'z2': array([ 8.14562525,  8.14562519, -1.82148124,  8.14562399,  5.8494562 ,\n",
       "         1.90656721,  2.76292015,  4.45355866,  5.85549973,  1.89258475,\n",
       "        -1.71363749,  8.14562475,  8.14562524,  8.14562524,  8.14562524,\n",
       "         8.14562524,  8.06808703,  8.14562406,  8.14562523,  8.14562523,\n",
       "         8.14562525,  8.14562525,  8.14562525,  8.14562525]),\n",
       " 'zx': array([-6.68514445, -6.68514445,  2.87206671,  6.68514445,  6.68514445,\n",
       "        -3.7255172 , -2.58966803,  2.44554483,  4.0843157 , -6.43816508,\n",
       "        -6.68514442, -2.8787143 ,  6.68514445,  6.68514445, -6.68514445,\n",
       "        -6.68514445, -6.68514445, -6.68514445, -1.433438  ,  1.63447797,\n",
       "         6.68514445,  6.68514445,  6.68514445,  6.68514445])}"
      ]
     },
     "execution_count": 9,
     "metadata": {},
     "output_type": "execute_result"
    }
   ],
   "source": [
    "solutions"
   ]
  },
  {
   "cell_type": "code",
   "execution_count": 10,
   "metadata": {},
   "outputs": [],
   "source": [
    "f = open(\"solutions/Phoenix_noQ16Q17.txt\", \"r\")\n",
    "names = list(f.readline().split(\"\\t\"))\n",
    "values = list(f.readline().split(\"\\t\"))\n",
    "f.close()"
   ]
  },
  {
   "cell_type": "code",
   "execution_count": 11,
   "metadata": {},
   "outputs": [
    {
     "name": "stdout",
     "output_type": "stream",
     "text": [
      "Example dictionary is : {'L0': '0', 'L1': '0', 'L2': '0', 'L3': '0', 'L4': '0', 'L5': '0', 'L6': '0', 'L7': '0', 'L8': '0', 'L9': '0', 'O0': '0', 'O1': '0', 'Q00': '0', 'Q01': '0', 'Q02': '0', 'Q03': '0', 'Q04': '0', 'Q05': '0', 'Q06': '0', 'Q07': '0', 'Q08': '0', 'Q09': '0', 'Q10': '0.07658143888397267', 'Q11': '0.8218001659049519', 'Q12': '0.8218027506098731', 'Q13': '0.8218027527392288', 'Q14': '0.19847500828067466', 'Q15': '-0.0791566626688488', 'Q16': '0', 'Q17': '0', 'Q18': '-0.07834568880533234', 'Q19': '0.2297778611837709', 'Q20': '0.8218027833953311', 'Q21': '0.8218027837262808', 'Q22': '0', 'Q23': '0', 'Q24': '0', 'Q25': '0', 'Q26': '0', 'Q27': '0', 'Q28': '0', 'Q29': '0', 'Q30': '0', 'Q31': '0', 'Q32': '0', 'Q33': '0', 'Q34': '0', 'Q35': '0', 'Q36': '0', 'Q37': '0', 'Q38': '0', 'Q39': '0', 'Q40': '0', 'Q41': '0', 'Q42': '0', 'Q43': '0', 'Q44': '0', 'Q45': '0', 'Q46': '0', 'Q47': '0', 'Q48': '-0.8218027691207956', 'Q49': '-0.8218027691029198', 'Q50': '-0.3838272533191884', 'Q51': '0.8218026361233989', 'Q52': '0.4927025308130314', 'Q53': '0.21299601783835753', 'Q54': '-0.13206938914396357', 'Q55': '-0.8218026261458095', 'Q56': '0.8218024253886772', 'Q57': '0.8218020869138218', 'Q58': '0', 'Q59': '0', 'Q60': '0', 'Q61': '0', 'Q62': '0', 'Q63': '0', 'Q64': '0', 'Q65': '0', 'S00': '0', 'S01': '0', 'S02': '0', 'S03': '0', 'S04': '0', 'S05': '0', 'S06': '0', 'S07': '0', 'S08': '0', 'S09': '0', 'S10': '0', 'S11\\n': '0\\n'}\n"
     ]
    }
   ],
   "source": [
    "res_eg = {names[i]: values[i] for i in range(len(names))}\n",
    "# Printing resultant dictionary\n",
    "print(\"Example dictionary is : \" + str(res_eg))"
   ]
  },
  {
   "cell_type": "code",
   "execution_count": 12,
   "metadata": {},
   "outputs": [
    {
     "name": "stdout",
     "output_type": "stream",
     "text": [
      "Resultant dictionary is : {'L0': '0', 'L1': '0', 'L2': '0', 'L3': '0', 'L4': '0', 'L5': '0', 'L6': '0', 'L7': '0', 'L8': '0', 'L9': '0', 'O0': '0', 'O1': '0', 'Q00': '0', 'Q01': '0', 'Q02': '0', 'Q03': '0', 'Q04': '0', 'Q05': '0', 'Q06': '0', 'Q07': '0', 'Q08': '0', 'Q09': '0', 'Q10': '0', 'Q11': '0', 'Q12': '0', 'Q13': '0', 'Q14': '0.4208549398035248', 'Q15': '0.4208549600977063', 'Q16': '0.4133487314835564', 'Q17': '0.4208493524514756', 'Q18': '-0.09228171882263098', 'Q19': '-0.03600931616319803', 'Q20': '-0.09799179326504656', 'Q21': '-0.12301654725266267', 'Q22': '-0.09240127309725583', 'Q23': '-0.03591382170836335', 'Q24': '0.4208551049947468', 'Q25': '0.42085510499963447', 'Q26': '0.4208550953953753', 'Q27': '0.42085509600946047', 'Q28': '0', 'Q29': '0', 'Q30': '0', 'Q31': '0', 'Q32': '0', 'Q33': '0', 'Q34': '0', 'Q35': '0', 'Q36': '0', 'Q37': '0', 'Q38': '0', 'Q39': '0', 'Q40': '0', 'Q41': '0', 'Q42': '0', 'Q43': '0', 'Q44': '0', 'Q45': '0', 'Q46': '0', 'Q47': '0', 'Q48': '0', 'Q49': '0', 'Q50': '0.4208531985843452', 'Q51': '0.39520241061418937', 'Q52': '-0.4208550537540778', 'Q53': '-0.42085505568122855', 'Q54': '-0.42085510260556097', 'Q55': '-0.42085510307410184', 'Q56': '-0.42085509952348604', 'Q57': '-0.42085509810589833', 'Q58': '0.4208546716523408', 'Q59': '0.3985659162907198', 'Q60': '0', 'Q61': '0', 'Q62': '0', 'Q63': '0', 'Q64': '0', 'Q65': '0', 'S00': '0', 'S01': '0', 'S02': '0', 'S03': '0', 'S04': '0', 'S05': '0', 'S06': '0', 'S07': '0', 'S08': '0', 'S09': '0', 'S10': '0', 'S11\\n': '0'}\n"
     ]
    }
   ],
   "source": [
    "res = {names[i]: '0' for i in range(len(names))}\n",
    "for i in range(len(electrodes_used)):\n",
    "    res[electrodes_used[i][0]] = str(solutions['x2'][i]*0.3**2) # 0.3**2 means this solution will generate 0.3kHz axial frequency\n",
    "# Printing resultant dictionary\n",
    "print(\"Resultant dictionary is : \" + str(res))"
   ]
  },
  {
   "cell_type": "code",
   "execution_count": 13,
   "metadata": {},
   "outputs": [],
   "source": [
    "# open file and write the content in a list\n",
    "with open('solutions/Phoenix_2_m35.txt', 'w') as fp:\n",
    "    fp.write('\\t'.join(res.keys()))\n",
    "    fp.write('\\t'.join(res.values()))"
   ]
  },
  {
   "cell_type": "markdown",
   "metadata": {},
   "source": [
    "# Write the global adjust file"
   ]
  },
  {
   "cell_type": "code",
   "execution_count": 67,
   "metadata": {},
   "outputs": [],
   "source": [
    "f = open(\"solutions/global_adjust_with_trap_solution.txt\", \"r\")\n",
    "data = f.readlines()\n",
    "f.close()"
   ]
  },
  {
   "cell_type": "code",
   "execution_count": 68,
   "metadata": {},
   "outputs": [],
   "source": [
    "overwrite_dict = {'electrode_name': 79, 'dz': 80, 'dy':81, 'dx':82, 'yz':83, 'z2':84, 'x2':85}\n",
    "scale = {'dz': 1000, 'dy':1000, 'dx':1000, 'yz':1, 'z2':1, 'x2':1}\n",
    "names_adjust = list(data[overwrite_dict['electrode_name']].split(\"\\t\"))\n",
    "def overwrite_coeff(data, item, idx, scale):\n",
    "    res = {names_adjust[i]: '0' for i in range(len(names_adjust))}\n",
    "    if item != 'electrode_name':\n",
    "        for i in range(len(electrodes_used)):\n",
    "            res[electrodes_used[i][0]] = str(solutions[item][i]*scale[item])\n",
    "        data[idx] = '\\t'.join(res.values())\n",
    "        data[idx] = data[idx]+'\\n'"
   ]
  },
  {
   "cell_type": "code",
   "execution_count": 69,
   "metadata": {},
   "outputs": [],
   "source": [
    "for key in overwrite_dict.keys():\n",
    "    overwrite_coeff(data, key, overwrite_dict[key], scale)"
   ]
  },
  {
   "cell_type": "markdown",
   "metadata": {},
   "source": [
    "## Insert a new line"
   ]
  },
  {
   "cell_type": "code",
   "execution_count": 70,
   "metadata": {},
   "outputs": [],
   "source": [
    "def generate_new_line(solutions, item, scale):\n",
    "    res = {names_adjust[i]: '0' for i in range(len(names_adjust))}\n",
    "    for i in range(len(electrodes_used)):\n",
    "        res[electrodes_used[i][0]] = str(solutions[item][i]*scale)\n",
    "    new_line = '\\t'.join(res.values())\n",
    "    new_line = new_line+'\\n'\n",
    "    return new_line"
   ]
  },
  {
   "cell_type": "code",
   "execution_count": 71,
   "metadata": {},
   "outputs": [
    {
     "data": {
      "text/plain": [
       "152"
      ]
     },
     "execution_count": 71,
     "metadata": {},
     "output_type": "execute_result"
    }
   ],
   "source": [
    "len(data)"
   ]
  },
  {
   "cell_type": "code",
   "execution_count": 72,
   "metadata": {},
   "outputs": [],
   "source": [
    "x3_comp = generate_new_line(solutions, 'x3', scale = 0.001)"
   ]
  },
  {
   "cell_type": "code",
   "execution_count": 73,
   "metadata": {},
   "outputs": [
    {
     "data": {
      "text/plain": [
       "'\\n'"
      ]
     },
     "execution_count": 73,
     "metadata": {},
     "output_type": "execute_result"
    }
   ],
   "source": [
    "data[78]"
   ]
  },
  {
   "cell_type": "code",
   "execution_count": 74,
   "metadata": {},
   "outputs": [],
   "source": [
    "# del data[-1]"
   ]
  },
  {
   "cell_type": "code",
   "execution_count": 75,
   "metadata": {},
   "outputs": [],
   "source": [
    "data.insert(78, 'x^3=72\\n')"
   ]
  },
  {
   "cell_type": "code",
   "execution_count": 76,
   "metadata": {},
   "outputs": [
    {
     "data": {
      "text/plain": [
       "153"
      ]
     },
     "execution_count": 76,
     "metadata": {},
     "output_type": "execute_result"
    }
   ],
   "source": [
    "len(data)"
   ]
  },
  {
   "cell_type": "code",
   "execution_count": 77,
   "metadata": {},
   "outputs": [],
   "source": [
    "data.insert(154, x3_comp)"
   ]
  },
  {
   "cell_type": "markdown",
   "metadata": {},
   "source": [
    "### Insert another line"
   ]
  },
  {
   "cell_type": "code",
   "execution_count": 78,
   "metadata": {},
   "outputs": [
    {
     "data": {
      "text/plain": [
       "154"
      ]
     },
     "execution_count": 78,
     "metadata": {},
     "output_type": "execute_result"
    }
   ],
   "source": [
    "len(data)"
   ]
  },
  {
   "cell_type": "code",
   "execution_count": 79,
   "metadata": {},
   "outputs": [],
   "source": [
    "x4_comp = generate_new_line(solutions, 'x4', scale = 0.001)"
   ]
  },
  {
   "cell_type": "code",
   "execution_count": 80,
   "metadata": {},
   "outputs": [
    {
     "data": {
      "text/plain": [
       "'\\n'"
      ]
     },
     "execution_count": 80,
     "metadata": {},
     "output_type": "execute_result"
    }
   ],
   "source": [
    "data[79]"
   ]
  },
  {
   "cell_type": "code",
   "execution_count": 81,
   "metadata": {},
   "outputs": [],
   "source": [
    "data.insert(79, 'x^4=73\\n')"
   ]
  },
  {
   "cell_type": "code",
   "execution_count": 82,
   "metadata": {},
   "outputs": [
    {
     "data": {
      "text/plain": [
       "155"
      ]
     },
     "execution_count": 82,
     "metadata": {},
     "output_type": "execute_result"
    }
   ],
   "source": [
    "len(data)"
   ]
  },
  {
   "cell_type": "code",
   "execution_count": 83,
   "metadata": {},
   "outputs": [],
   "source": [
    "data.insert(156, x4_comp)"
   ]
  },
  {
   "cell_type": "code",
   "execution_count": 84,
   "metadata": {},
   "outputs": [],
   "source": [
    "with open('solutions/global_adjust_2_m35.txt', 'w') as fp:\n",
    "    fp.writelines(data)"
   ]
  },
  {
   "cell_type": "markdown",
   "metadata": {},
   "source": [
    "# Plot axial potential"
   ]
  },
  {
   "cell_type": "code",
   "execution_count": 85,
   "metadata": {},
   "outputs": [],
   "source": [
    "from trap_dc import potentials\n",
    "potential = potentials.Potential.import_64('/Users/sunke/Desktop/DukeLab/Code/DCsolution/trap_dc-master/scripts/RS1394_coarse.bin')"
   ]
  },
  {
   "cell_type": "code",
   "execution_count": 86,
   "metadata": {},
   "outputs": [
    {
     "data": {
      "text/plain": [
       "['_Potential__init_alias',\n",
       " '__class__',\n",
       " '__delattr__',\n",
       " '__dict__',\n",
       " '__dir__',\n",
       " '__doc__',\n",
       " '__eq__',\n",
       " '__format__',\n",
       " '__ge__',\n",
       " '__getattribute__',\n",
       " '__gt__',\n",
       " '__hash__',\n",
       " '__init__',\n",
       " '__init_subclass__',\n",
       " '__le__',\n",
       " '__lt__',\n",
       " '__module__',\n",
       " '__ne__',\n",
       " '__new__',\n",
       " '__reduce__',\n",
       " '__reduce_ex__',\n",
       " '__repr__',\n",
       " '__setattr__',\n",
       " '__sizeof__',\n",
       " '__str__',\n",
       " '__subclasshook__',\n",
       " '__weakref__',\n",
       " 'data',\n",
       " 'electrode_index',\n",
       " 'electrode_names',\n",
       " 'electrodes',\n",
       " 'get_cache',\n",
       " 'import_64',\n",
       " 'import_v0',\n",
       " 'import_v1',\n",
       " 'nx',\n",
       " 'ny',\n",
       " 'nz',\n",
       " 'origin',\n",
       " 'stride',\n",
       " 'x_axis_to_index',\n",
       " 'x_index_to_axis',\n",
       " 'y_axis_to_index',\n",
       " 'y_index_to_axis',\n",
       " 'z_axis_to_index',\n",
       " 'z_index_to_axis']"
      ]
     },
     "execution_count": 86,
     "metadata": {},
     "output_type": "execute_result"
    }
   ],
   "source": [
    "dir(potential)"
   ]
  },
  {
   "cell_type": "code",
   "execution_count": 87,
   "metadata": {},
   "outputs": [
    {
     "data": {
      "text/plain": [
       "(92, 4551, 9, 16)"
      ]
     },
     "execution_count": 87,
     "metadata": {},
     "output_type": "execute_result"
    }
   ],
   "source": [
    "potential.data.shape"
   ]
  },
  {
   "cell_type": "code",
   "execution_count": 88,
   "metadata": {},
   "outputs": [
    {
     "data": {
      "text/plain": [
       "(66, 4551, 9, 16)"
      ]
     },
     "execution_count": 88,
     "metadata": {},
     "output_type": "execute_result"
    }
   ],
   "source": [
    "data_quantum_region = []\n",
    "for key in potential.electrode_index.keys():\n",
    "    if key[0] == 'Q':\n",
    "        data_quantum_region.append(potential.data[potential.electrode_index[key]])\n",
    "data_quantum_region = np.array(data_quantum_region)\n",
    "data_quantum_region.shape"
   ]
  },
  {
   "cell_type": "markdown",
   "metadata": {},
   "source": [
    "### If the potential is loaded from an existing file"
   ]
  },
  {
   "cell_type": "code",
   "execution_count": 454,
   "metadata": {},
   "outputs": [],
   "source": [
    "### Load trap potential \n",
    "f = open(\"solutions/Phoenix_2_m35.txt\", \"r\")\n",
    "names = list(f.readline().split(\"\\t\"))\n",
    "values = list(f.readline().split(\"\\t\"))\n",
    "f.close()"
   ]
  },
  {
   "cell_type": "code",
   "execution_count": 455,
   "metadata": {},
   "outputs": [
    {
     "name": "stdout",
     "output_type": "stream",
     "text": [
      "Trap solution is:  [ 0.          0.          0.          0.          0.          0.\n",
      "  0.          0.          0.          0.          0.          0.\n",
      "  0.          0.          0.42085494  0.42085496  0.41334873  0.42084935\n",
      " -0.09228172 -0.03600932 -0.09799179 -0.12301655 -0.09240127 -0.03591382\n",
      "  0.4208551   0.4208551   0.4208551   0.4208551   0.          0.\n",
      "  0.          0.          0.          0.          0.          0.\n",
      "  0.          0.          0.          0.          0.          0.\n",
      "  0.          0.          0.          0.          0.          0.\n",
      "  0.          0.          0.4208532   0.39520241 -0.42085505 -0.42085506\n",
      " -0.4208551  -0.4208551  -0.4208551  -0.4208551   0.42085467  0.39856592\n",
      "  0.          0.          0.          0.          0.          0.        ]\n"
     ]
    }
   ],
   "source": [
    "res_sol = {names[i]: values[i] for i in range(len(names))}\n",
    "res_sol_quantum_region = {}\n",
    "for key in res_sol.keys():\n",
    "    if key[0] == 'Q':\n",
    "        res_sol_quantum_region[key] = res_sol[key]\n",
    "trap_solution = np.array([float(i) for i in res_sol_quantum_region.values()])\n",
    "trap_solution[46:48] = 0\n",
    "print('Trap solution is: ', trap_solution)"
   ]
  },
  {
   "cell_type": "code",
   "execution_count": 456,
   "metadata": {},
   "outputs": [],
   "source": [
    "### Load compensation\n",
    "f = open(\"solutions/global_adjust_2_m35.txt\", \"r\")\n",
    "data = f.readlines()\n",
    "f.close()"
   ]
  },
  {
   "cell_type": "code",
   "execution_count": 475,
   "metadata": {},
   "outputs": [
    {
     "data": {
      "text/plain": [
       "array([ 0.        ,  0.        ,  0.        ,  0.        ,  0.        ,\n",
       "        0.        ,  0.        ,  0.        ,  0.        ,  0.        ,\n",
       "        0.        ,  0.        ,  0.        ,  0.        ,  0.11227008,\n",
       "        0.40101933, -0.06781187,  0.44674684, -0.13296217,  0.11189838,\n",
       "       -0.01911045, -0.03806047, -0.13119001,  0.11495601, -0.06138233,\n",
       "        0.45063699,  0.13547067,  0.40961193,  0.        ,  0.        ,\n",
       "        0.        ,  0.        ,  0.        ,  0.        ,  0.        ,\n",
       "        0.        ,  0.        ,  0.        ,  0.        ,  0.        ,\n",
       "        0.        ,  0.        ,  0.        ,  0.        ,  0.        ,\n",
       "        0.        ,  0.        ,  0.        ,  0.        ,  0.        ,\n",
       "        0.11226932,  0.41603531, -0.26243272,  0.0533431 , -0.25237578,\n",
       "        0.06740309, -0.23862276,  0.07654358,  0.13547048,  0.44056049,\n",
       "        0.        ,  0.        ,  0.        ,  0.        ,  0.        ,\n",
       "        0.        ])"
      ]
     },
     "execution_count": 475,
     "metadata": {},
     "output_type": "execute_result"
    }
   ],
   "source": [
    "comp_solution = 0.0\n",
    "comp_values = {'dz': 0.0489, 'dy': -0.213, 'dx':0.008, 'yz':0.0, 'z2':0.00, 'x2':0.04, 'x3':0, 'x4':0}\n",
    "comp_idx = {'dz': 82, 'dy':83, 'dx':84, 'yz':85, 'z2':86, 'x2':87, 'x3':154, 'x4':155}\n",
    "for item in comp_values.keys():\n",
    "    res = np.array([float(dt) for dt in data[comp_idx[item]].split('\\t')])\n",
    "    comp_solution += res * comp_values[item]\n",
    "comp_solution"
   ]
  },
  {
   "cell_type": "code",
   "execution_count": 476,
   "metadata": {},
   "outputs": [
    {
     "data": {
      "text/plain": [
       "array([ 0.        ,  0.        ,  0.        ,  0.        ,  0.        ,\n",
       "        0.        ,  0.        ,  0.        ,  0.        ,  0.        ,\n",
       "        0.        ,  0.        ,  0.        ,  0.        ,  0.53312502,\n",
       "        0.82187429,  0.34553686,  0.86759619, -0.22524389,  0.07588907,\n",
       "       -0.11710224, -0.16107702, -0.22359128,  0.07904219,  0.35947278,\n",
       "        0.87149209,  0.55632576,  0.83046703,  0.        ,  0.        ,\n",
       "        0.        ,  0.        ,  0.        ,  0.        ,  0.        ,\n",
       "        0.        ,  0.        ,  0.        ,  0.        ,  0.        ,\n",
       "        0.        ,  0.        ,  0.        ,  0.        ,  0.        ,\n",
       "        0.        ,  0.        ,  0.        ,  0.        ,  0.        ,\n",
       "        0.53312252,  0.81123772, -0.68328777, -0.36751196, -0.67323088,\n",
       "       -0.35345201, -0.65947786, -0.34431151,  0.55632515,  0.83912641,\n",
       "        0.        ,  0.        ,  0.        ,  0.        ,  0.        ,\n",
       "        0.        ])"
      ]
     },
     "execution_count": 476,
     "metadata": {},
     "output_type": "execute_result"
    }
   ],
   "source": [
    "entire_solution = trap_solution + comp_solution\n",
    "# entire_solution = trap_solution\n",
    "entire_solution"
   ]
  },
  {
   "cell_type": "markdown",
   "metadata": {},
   "source": [
    "### If the potential is from the new solution above"
   ]
  },
  {
   "cell_type": "code",
   "execution_count": 394,
   "metadata": {},
   "outputs": [
    {
     "name": "stdout",
     "output_type": "stream",
     "text": [
      "Trap solution is:  [ 0.          0.          0.          0.          0.          0.\n",
      "  0.          0.          0.          0.          0.          0.\n",
      "  0.          0.          0.42085494  0.42085496  0.41334873  0.42084935\n",
      " -0.09228172 -0.03600932 -0.09799179 -0.12301655 -0.09240127 -0.03591382\n",
      "  0.4208551   0.4208551   0.4208551   0.4208551   0.          0.\n",
      "  0.          0.          0.          0.          0.          0.\n",
      "  0.          0.          0.          0.          0.          0.\n",
      "  0.          0.          0.          0.          0.          0.\n",
      "  0.          0.          0.4208532   0.39520241 -0.42085505 -0.42085506\n",
      " -0.4208551  -0.4208551  -0.4208551  -0.4208551   0.42085467  0.39856592\n",
      "  0.          0.          0.          0.          0.          0.        ]\n"
     ]
    }
   ],
   "source": [
    "electrode_names_plot = ['Q'+f\"{a:02}\" for a in range(66)]\n",
    "res = {electrode_names_plot[i]: 0.0 for i in range(len(electrode_names_plot))}\n",
    "for i in range(len(electrodes_used)):\n",
    "    res[electrodes_used[i][0]] = solutions['x2'][i]*0.3**2 # 0.3**2 means this solution will generate 0.3kHz axial frequency\n",
    "# Printing resultant dictionary\n",
    "\n",
    "trap_solution = np.array([float(i) for i in res.values()])\n",
    "print('Trap solution is: ', trap_solution)"
   ]
  },
  {
   "cell_type": "code",
   "execution_count": 112,
   "metadata": {},
   "outputs": [
    {
     "ename": "NameError",
     "evalue": "name 'electrode_names_plot' is not defined",
     "output_type": "error",
     "traceback": [
      "\u001b[0;31m---------------------------------------------------------------------------\u001b[0m",
      "\u001b[0;31mNameError\u001b[0m                                 Traceback (most recent call last)",
      "\u001b[0;32m<ipython-input-112-d195292393d4>\u001b[0m in \u001b[0;36m<module>\u001b[0;34m\u001b[0m\n\u001b[1;32m      3\u001b[0m \u001b[0mcomp_solution\u001b[0m \u001b[0;34m=\u001b[0m \u001b[0;36m0.0\u001b[0m\u001b[0;34m\u001b[0m\u001b[0;34m\u001b[0m\u001b[0m\n\u001b[1;32m      4\u001b[0m \u001b[0;32mfor\u001b[0m \u001b[0mitem\u001b[0m \u001b[0;32min\u001b[0m \u001b[0mcomp_values\u001b[0m\u001b[0;34m.\u001b[0m\u001b[0mkeys\u001b[0m\u001b[0;34m(\u001b[0m\u001b[0;34m)\u001b[0m\u001b[0;34m:\u001b[0m\u001b[0;34m\u001b[0m\u001b[0;34m\u001b[0m\u001b[0m\n\u001b[0;32m----> 5\u001b[0;31m     \u001b[0mres\u001b[0m \u001b[0;34m=\u001b[0m \u001b[0;34m{\u001b[0m\u001b[0melectrode_names_plot\u001b[0m\u001b[0;34m[\u001b[0m\u001b[0mi\u001b[0m\u001b[0;34m]\u001b[0m\u001b[0;34m:\u001b[0m \u001b[0;36m0\u001b[0m \u001b[0;32mfor\u001b[0m \u001b[0mi\u001b[0m \u001b[0;32min\u001b[0m \u001b[0mrange\u001b[0m\u001b[0;34m(\u001b[0m\u001b[0mlen\u001b[0m\u001b[0;34m(\u001b[0m\u001b[0melectrode_names_plot\u001b[0m\u001b[0;34m)\u001b[0m\u001b[0;34m)\u001b[0m\u001b[0;34m}\u001b[0m\u001b[0;34m\u001b[0m\u001b[0;34m\u001b[0m\u001b[0m\n\u001b[0m\u001b[1;32m      6\u001b[0m     \u001b[0;32mfor\u001b[0m \u001b[0mi\u001b[0m \u001b[0;32min\u001b[0m \u001b[0mrange\u001b[0m\u001b[0;34m(\u001b[0m\u001b[0mlen\u001b[0m\u001b[0;34m(\u001b[0m\u001b[0melectrodes_used\u001b[0m\u001b[0;34m)\u001b[0m\u001b[0;34m)\u001b[0m\u001b[0;34m:\u001b[0m\u001b[0;34m\u001b[0m\u001b[0;34m\u001b[0m\u001b[0m\n\u001b[1;32m      7\u001b[0m         \u001b[0mres\u001b[0m\u001b[0;34m[\u001b[0m\u001b[0melectrodes_used\u001b[0m\u001b[0;34m[\u001b[0m\u001b[0mi\u001b[0m\u001b[0;34m]\u001b[0m\u001b[0;34m[\u001b[0m\u001b[0;36m0\u001b[0m\u001b[0;34m]\u001b[0m\u001b[0;34m]\u001b[0m \u001b[0;34m=\u001b[0m \u001b[0msolutions\u001b[0m\u001b[0;34m[\u001b[0m\u001b[0mitem\u001b[0m\u001b[0;34m]\u001b[0m\u001b[0;34m[\u001b[0m\u001b[0mi\u001b[0m\u001b[0;34m]\u001b[0m\u001b[0;34m*\u001b[0m\u001b[0mscale\u001b[0m\u001b[0;34m[\u001b[0m\u001b[0mitem\u001b[0m\u001b[0;34m]\u001b[0m\u001b[0;34m*\u001b[0m\u001b[0mcomp_values\u001b[0m\u001b[0;34m[\u001b[0m\u001b[0mitem\u001b[0m\u001b[0;34m]\u001b[0m\u001b[0;34m\u001b[0m\u001b[0;34m\u001b[0m\u001b[0m\n",
      "\u001b[0;31mNameError\u001b[0m: name 'electrode_names_plot' is not defined"
     ]
    }
   ],
   "source": [
    "comp_values = {'dz': 0, 'dy': 0, 'dx':0, 'yz':0, 'z2':0, 'x2':0}\n",
    "scale = {'dz': 1000, 'dy':1000, 'dx':1000, 'yz':1, 'z2':1, 'x2':0.0}\n",
    "comp_solution = 0.0\n",
    "for item in comp_values.keys():\n",
    "    res = {electrode_names_plot[i]: 0 for i in range(len(electrode_names_plot))}\n",
    "    for i in range(len(electrodes_used)):\n",
    "        res[electrodes_used[i][0]] = solutions[item][i]*scale[item]*comp_values[item] \n",
    "    comp_solution += np.array([float(i) for i in res.values()])\n",
    "comp_solution"
   ]
  },
  {
   "cell_type": "code",
   "execution_count": 54,
   "metadata": {},
   "outputs": [
    {
     "data": {
      "text/plain": [
       "array([ 0.        ,  0.        ,  0.938557  , -0.07262443,  0.93856131,\n",
       "        0.04817087,  0.9385618 , -0.12698919, -0.76333652,  0.64535384,\n",
       "       -0.43263704,  0.22791026, -0.78825108,  0.66434481,  0.93856264,\n",
       "       -0.08763639,  0.93856157,  0.03188098,  0.        ,  0.        ,\n",
       "        0.        ,  0.        ,  0.        ,  0.        ,  0.        ,\n",
       "        0.        ,  0.        ,  0.        ,  0.        ,  0.        ,\n",
       "        0.        ,  0.        ,  0.        ,  0.        ,  0.        ,\n",
       "        0.        ,  0.        ,  0.        ,  0.        ,  0.        ,\n",
       "        0.        ,  0.        ,  0.        ,  0.        ,  0.        ,\n",
       "        0.        ,  0.72880215, -0.59239808,  0.09143914, -0.93856294,\n",
       "        0.09143913, -0.93856296,  0.93856034, -0.68181942,  0.        ,\n",
       "        0.        ,  0.        ,  0.        ,  0.        ,  0.        ,\n",
       "        0.        ,  0.        ,  0.        ,  0.        ,  0.        ,\n",
       "        0.        ])"
      ]
     },
     "execution_count": 54,
     "metadata": {},
     "output_type": "execute_result"
    }
   ],
   "source": [
    "entire_solution = trap_solution + comp_solution\n",
    "entire_solution"
   ]
  },
  {
   "cell_type": "code",
   "execution_count": 57,
   "metadata": {},
   "outputs": [
    {
     "data": {
      "text/plain": [
       "array([ 0.        ,  0.        ,  0.        ,  0.        ,  0.        ,\n",
       "        0.        ,  0.        ,  0.        ,  0.        ,  0.        ,\n",
       "       -0.43263704,  0.22791026, -0.78825108,  0.66434481,  0.93856264,\n",
       "       -0.08763639,  0.93856157,  0.03188098,  0.        ,  0.        ,\n",
       "        0.        ,  0.        ,  0.        ,  0.        ,  0.        ,\n",
       "        0.        ,  0.        ,  0.        ,  0.        ,  0.        ,\n",
       "        0.        ,  0.        ,  0.        ,  0.        ,  0.        ,\n",
       "        0.        ,  0.        ,  0.        ,  0.        ,  0.        ,\n",
       "        0.        ,  0.        ,  0.        ,  0.        ,  0.        ,\n",
       "        0.        ,  0.72880215, -0.59239808,  0.09143914, -0.93856294,\n",
       "        0.09143913, -0.93856296,  0.93856034, -0.68181942,  0.        ,\n",
       "        0.        ,  0.        ,  0.        ,  0.        ,  0.        ,\n",
       "        0.        ,  0.        ,  0.        ,  0.        ,  0.        ,\n",
       "        0.        ])"
      ]
     },
     "execution_count": 57,
     "metadata": {},
     "output_type": "execute_result"
    }
   ],
   "source": [
    "entire_solution[0:10] = 0\n",
    "entire_solution"
   ]
  },
  {
   "cell_type": "markdown",
   "metadata": {},
   "source": [
    "### Plot the potential"
   ]
  },
  {
   "cell_type": "code",
   "execution_count": 477,
   "metadata": {},
   "outputs": [
    {
     "data": {
      "text/plain": [
       "(4551, 9, 16)"
      ]
     },
     "execution_count": 477,
     "metadata": {},
     "output_type": "execute_result"
    }
   ],
   "source": [
    "real_potential = 0\n",
    "for i in range(len(entire_solution)):\n",
    "    real_potential += entire_solution[i]*data_quantum_region[i]\n",
    "real_potential.shape"
   ]
  },
  {
   "cell_type": "code",
   "execution_count": 478,
   "metadata": {},
   "outputs": [
    {
     "data": {
      "text/plain": [
       "Text(0, 0.5, 'Potential (eV)')"
      ]
     },
     "execution_count": 478,
     "metadata": {},
     "output_type": "execute_result"
    },
    {
     "data": {
      "image/png": "[encoded data removed]",
      "text/plain": [
       "<Figure size 432x288 with 1 Axes>"
      ]
     },
     "metadata": {
      "needs_background": "light"
     },
     "output_type": "display_data"
    }
   ],
   "source": [
    "x_idx = np.arange(real_potential.shape[0])\n",
    "plot_range = 27\n",
    "sol_pos = 35\n",
    "plot_center = 3045-(sol_pos-175)\n",
    "plt.plot(potential.x_index_to_axis(x_idx)[(plot_center-plot_range):(plot_center+plot_range)]*1000, \n",
    "         real_potential[(plot_center-plot_range):(plot_center+plot_range), 4, 10])\n",
    "plt.xlabel('x potision (um)')\n",
    "plt.ylabel('Potential (eV)')"
   ]
  },
  {
   "cell_type": "code",
   "execution_count": 479,
   "metadata": {},
   "outputs": [
    {
     "data": {
      "text/plain": [
       "Text(0, 0.5, 'Potential (V/V)')"
      ]
     },
     "execution_count": 479,
     "metadata": {},
     "output_type": "execute_result"
    },
    {
     "data": {
      "image/png": "[encoded data removed]",
      "text/plain": [
       "<Figure size 432x288 with 1 Axes>"
      ]
     },
     "metadata": {
      "needs_background": "light"
     },
     "output_type": "display_data"
    }
   ],
   "source": [
    "y_idx = np.arange(comp_potential.shape[1])\n",
    "plt.plot(potential.y_index_to_axis(y_idx)*1000, real_potential[plot_center, :, 3])\n",
    "plt.xlabel('y potision (um)')\n",
    "plt.ylabel('Potential (V/V)')"
   ]
  },
  {
   "cell_type": "code",
   "execution_count": 480,
   "metadata": {},
   "outputs": [
    {
     "data": {
      "text/plain": [
       "Text(0, 0.5, 'Potential (V/V)')"
      ]
     },
     "execution_count": 480,
     "metadata": {},
     "output_type": "execute_result"
    },
    {
     "data": {
      "image/png": "[encoded data removed]",
      "text/plain": [
       "<Figure size 432x288 with 1 Axes>"
      ]
     },
     "metadata": {
      "needs_background": "light"
     },
     "output_type": "display_data"
    }
   ],
   "source": [
    "z_idx = np.arange(comp_potential.shape[2])\n",
    "plt.plot(potential.z_index_to_axis(z_idx)*1000, real_potential[plot_center, 3, :])\n",
    "plt.xlabel('z potision (um)')\n",
    "plt.ylabel('Potential (V/V)')"
   ]
  },
  {
   "cell_type": "markdown",
   "metadata": {},
   "source": [
    "## 2D colormap plot"
   ]
  },
  {
   "cell_type": "code",
   "execution_count": 481,
   "metadata": {},
   "outputs": [
    {
     "data": {
      "image/png": "[encoded data removed]",
      "text/plain": [
       "<Figure size 1152x576 with 2 Axes>"
      ]
     },
     "metadata": {
      "needs_background": "light"
     },
     "output_type": "display_data"
    }
   ],
   "source": [
    "from mpl_toolkits.mplot3d import Axes3D  \n",
    "x = potential.x_index_to_axis(x_idx)[(plot_center-plot_range):(plot_center+plot_range)]*1000\n",
    "y = potential.y_index_to_axis(y_idx)*1000\n",
    "z = potential.z_index_to_axis(z_idx)*1000\n",
    "\n",
    "# Define the function for the colormap\n",
    "p_yz = real_potential[plot_center, :, :].transpose()\n",
    "\n",
    "fig = plt.figure(figsize = (16,8))\n",
    "# Create a 2D colormap plot\n",
    "plt.imshow(p_yz, extent=(y.min(), y.max(), z.min(), z.max()), origin='lower', cmap='viridis')\n",
    "\n",
    "# Add colorbar\n",
    "cbar = plt.colorbar(label='Potential (V/V)')\n",
    "cbar.ax.tick_params(labelsize=14)\n",
    "\n",
    "# Add labels to x and y axes\n",
    "plt.xlabel('y potision (um)', fontsize=20)\n",
    "plt.ylabel('z potision (um)', fontsize=20)\n",
    "\n",
    "# Add title\n",
    "plt.title('Trap solution', fontsize=22)\n",
    "\n",
    "# Show the plot\n",
    "plt.show()"
   ]
  },
  {
   "cell_type": "code",
   "execution_count": 482,
   "metadata": {},
   "outputs": [
    {
     "data": {
      "image/png": "[encoded data removed]",
      "text/plain": [
       "<Figure size 1152x576 with 2 Axes>"
      ]
     },
     "metadata": {
      "needs_background": "light"
     },
     "output_type": "display_data"
    }
   ],
   "source": [
    "from mpl_toolkits.mplot3d import Axes3D  \n",
    "x = potential.x_index_to_axis(x_idx)[(plot_center-plot_range):(plot_center+plot_range)]*1000\n",
    "y = potential.y_index_to_axis(y_idx)*1000\n",
    "z = potential.z_index_to_axis(z_idx)*1000\n",
    "\n",
    "# Define the function for the colormap\n",
    "p_xy = real_potential[(plot_center-plot_range):(plot_center+plot_range), :, 3].transpose()\n",
    "\n",
    "fig = plt.figure(figsize = (16,8))\n",
    "# Create a 2D colormap plot\n",
    "plt.imshow(p_xy, extent=(x.min(), x.max(), y.min(), y.max()), origin='lower', cmap='viridis')\n",
    "\n",
    "# Add colorbar\n",
    "cbar = plt.colorbar(label='Potential (V/V)')\n",
    "cbar.ax.tick_params(labelsize=16)\n",
    "\n",
    "# Add labels to x and y axes\n",
    "plt.xlabel('x potision (um)', fontsize=20)\n",
    "plt.ylabel('y potision (um)', fontsize=20)\n",
    "\n",
    "# Add title\n",
    "plt.title('Trap solution', fontsize=22)\n",
    "\n",
    "# Show the plot\n",
    "plt.show()"
   ]
  },
  {
   "cell_type": "code",
   "execution_count": 483,
   "metadata": {},
   "outputs": [
    {
     "data": {
      "image/png": "[encoded data removed]",
      "text/plain": [
       "<Figure size 1152x576 with 2 Axes>"
      ]
     },
     "metadata": {
      "needs_background": "light"
     },
     "output_type": "display_data"
    }
   ],
   "source": [
    "from mpl_toolkits.mplot3d import Axes3D  \n",
    "x = potential.x_index_to_axis(x_idx)[(plot_center-plot_range):(plot_center+plot_range)]*1000\n",
    "y = potential.y_index_to_axis(y_idx)*1000\n",
    "z = potential.z_index_to_axis(z_idx)*1000\n",
    "\n",
    "# Define the function for the colormap\n",
    "p_xz = real_potential[(plot_center-plot_range):(plot_center+plot_range), 3, :].transpose()\n",
    "\n",
    "fig = plt.figure(figsize = (16,8))\n",
    "# Create a 2D colormap plot\n",
    "plt.imshow(p_xy, extent=(x.min(), x.max(), z.min(), z.max()), origin='lower', cmap='viridis')\n",
    "\n",
    "# Add colorbar\n",
    "cbar = plt.colorbar(label='Potential (V/V)')\n",
    "cbar.ax.tick_params(labelsize=16)\n",
    "\n",
    "# Add labels to x and y axes\n",
    "plt.xlabel('x potision (um)', fontsize=20)\n",
    "plt.ylabel('z potision (um)', fontsize=20)\n",
    "\n",
    "# Add title\n",
    "plt.title('Trap solution', fontsize=22)\n",
    "\n",
    "# Show the plot\n",
    "plt.show()"
   ]
  },
  {
   "cell_type": "code",
   "execution_count": 218,
   "metadata": {},
   "outputs": [
    {
     "name": "stdout",
     "output_type": "stream",
     "text": [
      "Ion temperature is 0.0004799243073366221 K\n",
      "Room temp Potential (V) is:0.02585199985097773V\n",
      "Ion temp Potential (V) is:4.135667707248982e-08V\n",
      "Set Potential barrier temperature is is:0.04641807237031279K\n"
     ]
    }
   ],
   "source": [
    "e = 1.60217663e-19\n",
    "kb = 1.380649e-23\n",
    "n = 5\n",
    "h = 6.62607015e-34\n",
    "nu = 2e6\n",
    "T_rt = 300\n",
    "T_ion = n*h*nu/kb\n",
    "print('Ion temperature is '+str(T_ion)+' K')\n",
    "V_rt = kb*T_rt/e\n",
    "V_ion = kb*T_ion/e\n",
    "print('Room temp Potential (V) is:'+str(V_rt)+'V')\n",
    "print('Ion temp Potential (V) is:'+str(V_ion)+'V')\n",
    "V_set = 4e-6\n",
    "T_set = e*V_set/kb\n",
    "print('Set Potential barrier temperature is is:'+str(T_set)+'K')"
   ]
  },
  {
   "cell_type": "markdown",
   "metadata": {},
   "source": [
    "### Plot the compensation solutions"
   ]
  },
  {
   "cell_type": "code",
   "execution_count": 54,
   "metadata": {},
   "outputs": [
    {
     "data": {
      "text/plain": [
       "(4551, 9, 16)"
      ]
     },
     "execution_count": 54,
     "metadata": {},
     "output_type": "execute_result"
    }
   ],
   "source": [
    "comp_solution_temp = 0.0\n",
    "\n",
    "comp_idx = {'dz': 81, 'dy':82, 'dx':83, 'yz':84, 'z2':85, 'x2':86, 'x3':87}\n",
    "\n",
    "comp_solution_temp = np.array([float(dt) for dt in data[comp_idx['x2']].split('\\t')])\n",
    "# comp_solution_temp = solutions['x3']/1000\n",
    "\n",
    "comp_potential = 0\n",
    "for i in range(len(comp_solution_temp)):\n",
    "    comp_potential += comp_solution_temp[i]*data_quantum_region[i]\n",
    "comp_potential.shape"
   ]
  },
  {
   "cell_type": "code",
   "execution_count": 64,
   "metadata": {},
   "outputs": [
    {
     "data": {
      "text/plain": [
       "Text(0, 0.5, 'Potential (V/V)')"
      ]
     },
     "execution_count": 64,
     "metadata": {},
     "output_type": "execute_result"
    },
    {
     "data": {
      "image/png": "[encoded data removed]",
      "text/plain": [
       "<Figure size 432x288 with 1 Axes>"
      ]
     },
     "metadata": {
      "needs_background": "light"
     },
     "output_type": "display_data"
    }
   ],
   "source": [
    "x_idx = np.arange(comp_potential.shape[0])\n",
    "plot_range = 100\n",
    "sol_pos = 35\n",
    "plot_center = 3045-(sol_pos-175)\n",
    "plt.plot(potential.x_index_to_axis(x_idx)[(plot_center-plot_range):(plot_center+plot_range)]*1000, \n",
    "         comp_potential[(plot_center-plot_range):(plot_center+plot_range), 3, 3]) \n",
    "# y_idx = 3: y = -1.00um, z_idx = 3: z = 68um, x_idx = 3045: x = -175um\n",
    "plt.xlabel('x potision (um)')\n",
    "plt.ylabel('Potential (V/V)')"
   ]
  },
  {
   "cell_type": "code",
   "execution_count": 65,
   "metadata": {},
   "outputs": [
    {
     "data": {
      "text/plain": [
       "Text(0, 0.5, 'Potential (V/V)')"
      ]
     },
     "execution_count": 65,
     "metadata": {},
     "output_type": "execute_result"
    },
    {
     "data": {
      "image/png": "[encoded data removed]",
      "text/plain": [
       "<Figure size 432x288 with 1 Axes>"
      ]
     },
     "metadata": {
      "needs_background": "light"
     },
     "output_type": "display_data"
    }
   ],
   "source": [
    "y_idx = np.arange(comp_potential.shape[1])\n",
    "plt.plot(potential.y_index_to_axis(y_idx)*1000, comp_potential[plot_center, :, 3])\n",
    "plt.xlabel('y potision (um)')\n",
    "plt.ylabel('Potential (V/V)')"
   ]
  },
  {
   "cell_type": "code",
   "execution_count": 66,
   "metadata": {},
   "outputs": [
    {
     "data": {
      "text/plain": [
       "Text(0, 0.5, 'Potential (V/V)')"
      ]
     },
     "execution_count": 66,
     "metadata": {},
     "output_type": "execute_result"
    },
    {
     "data": {
      "image/png": "[encoded data removed]",
      "text/plain": [
       "<Figure size 432x288 with 1 Axes>"
      ]
     },
     "metadata": {
      "needs_background": "light"
     },
     "output_type": "display_data"
    }
   ],
   "source": [
    "z_idx = np.arange(comp_potential.shape[2])\n",
    "plt.plot(potential.z_index_to_axis(z_idx)*1000, comp_potential[plot_center, 3, :])\n",
    "plt.xlabel('z potision (um)')\n",
    "plt.ylabel('Potential (V/V)')"
   ]
  },
  {
   "cell_type": "code",
   "execution_count": null,
   "metadata": {},
   "outputs": [],
   "source": []
  },
  {
   "cell_type": "code",
   "execution_count": null,
   "metadata": {},
   "outputs": [],
   "source": []
  }
 ],
 "metadata": {
  "kernelspec": {
   "display_name": "Python36",
   "language": "python",
   "name": "myenv"
  },
  "language_info": {
   "codemirror_mode": {
    "name": "ipython",
    "version": 3
   },
   "file_extension": ".py",
   "mimetype": "text/x-python",
   "name": "python",
   "nbconvert_exporter": "python",
   "pygments_lexer": "ipython3",
   "version": "3.7.4"
  }
 },
 "nbformat": 4,
 "nbformat_minor": 4
}
