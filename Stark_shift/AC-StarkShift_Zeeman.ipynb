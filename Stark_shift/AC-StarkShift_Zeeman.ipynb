{
 "cells": [
  {
   "cell_type": "code",
   "execution_count": 55,
   "metadata": {},
   "outputs": [],
   "source": [
    "import numpy as np\n",
    "from mpmath import *\n",
    "import matplotlib.pyplot as plt"
   ]
  },
  {
   "cell_type": "code",
   "execution_count": 56,
   "metadata": {},
   "outputs": [
    {
     "name": "stdout",
     "output_type": "stream",
     "text": [
      "n = 107.0; x = 0.3233611570689917\n"
     ]
    }
   ],
   "source": [
    "hbar = 1.0545718e-34\n",
    "tau = 31e-12 # 31 ps, this number is from Mike's note\n",
    "f0 = 12.64281e9\n",
    "# f_rep = 119.596011e6 # Cryo\n",
    "# f_rep = 118.92876e6\n",
    "f_rep = 117.8011e6 # Red chamber\n",
    "x = (f0 % f_rep)/f_rep\n",
    "n = f0 // f_rep\n",
    "print('n = '+str(n)+'; x = '+str(x) )\n",
    "\n",
    "def h(k):\n",
    "    if k == 0:\n",
    "        return 1\n",
    "    else:\n",
    "        return k*f_rep*tau*np.pi*csch(k*np.pi*f_rep*tau)\n",
    "\n",
    "def Xi1(x, counts = 5000):\n",
    "    ks = np.linspace(-counts, counts, 2*counts+1)\n",
    "    Xi = 0\n",
    "    for k in ks:\n",
    "        if x == 0 and k == n:\n",
    "            pass\n",
    "        else:\n",
    "            Xi = Xi + h(k)**2/(k-n-x)\n",
    "            #Xi = Xi + 1/(k-n-x) # ideal case: the pulse is infinitesimally short\n",
    "    return Xi\n",
    "\n",
    "def Xi2(x, f_A, counts = 1000):\n",
    "    ks = np.linspace(-counts, counts, 2*counts+1)\n",
    "    Xi = 0\n",
    "    tol = 1e-6\n",
    "    for k in ks:\n",
    "        if k == n: # If f_A = x*f_rep\n",
    "#         if k == n+1: # If f_A = (1-x)*f_rep\n",
    "            pass\n",
    "        else:\n",
    "            Xi = Xi + 0.5* h(k)**2*(1/(k-n-x+f_A/f_rep)+1/(k-n-x-f_A/f_rep))\n",
    "    return Xi"
   ]
  },
  {
   "cell_type": "code",
   "execution_count": 34,
   "metadata": {},
   "outputs": [
    {
     "data": {
      "text/plain": [
       "mpf('0.78692474482699093')"
      ]
     },
     "execution_count": 34,
     "metadata": {},
     "output_type": "execute_result"
    }
   ],
   "source": [
    "h(n)"
   ]
  },
  {
   "cell_type": "code",
   "execution_count": 4,
   "metadata": {},
   "outputs": [
    {
     "data": {
      "text/plain": [
       "mpf('-7.7296241056754402')"
      ]
     },
     "execution_count": 4,
     "metadata": {},
     "output_type": "execute_result"
    }
   ],
   "source": [
    "Xi1(0.1, counts = 5000)"
   ]
  },
  {
   "cell_type": "code",
   "execution_count": 5,
   "metadata": {},
   "outputs": [
    {
     "data": {
      "text/plain": [
       "mpf('-7.7296241056754402')"
      ]
     },
     "execution_count": 5,
     "metadata": {},
     "output_type": "execute_result"
    }
   ],
   "source": [
    "Xi1(0.1, counts = 10000)"
   ]
  },
  {
   "cell_type": "code",
   "execution_count": 6,
   "metadata": {},
   "outputs": [
    {
     "data": {
      "text/plain": [
       "mpf('-7.7296241056754402')"
      ]
     },
     "execution_count": 6,
     "metadata": {},
     "output_type": "execute_result"
    }
   ],
   "source": [
    "Xi1(0.1, counts = 20000)"
   ]
  },
  {
   "cell_type": "code",
   "execution_count": 7,
   "metadata": {},
   "outputs": [
    {
     "data": {
      "text/plain": [
       "mpf('-1.5390429012020488')"
      ]
     },
     "execution_count": 7,
     "metadata": {},
     "output_type": "execute_result"
    }
   ],
   "source": [
    "Xi2(0.1, 0.1*f_rep, counts = 300)"
   ]
  },
  {
   "cell_type": "code",
   "execution_count": 8,
   "metadata": {},
   "outputs": [
    {
     "data": {
      "text/plain": [
       "mpf('-1.5338632577353488')"
      ]
     },
     "execution_count": 8,
     "metadata": {},
     "output_type": "execute_result"
    }
   ],
   "source": [
    "Xi2(0.1, 0.1*f_rep, counts = 1000)"
   ]
  },
  {
   "cell_type": "code",
   "execution_count": 9,
   "metadata": {},
   "outputs": [
    {
     "data": {
      "text/plain": [
       "mpf('-1.5338632573080608')"
      ]
     },
     "execution_count": 9,
     "metadata": {},
     "output_type": "execute_result"
    }
   ],
   "source": [
    "Xi2(0.1, 0.1*f_rep, counts = 2000)"
   ]
  },
  {
   "cell_type": "code",
   "execution_count": 57,
   "metadata": {},
   "outputs": [
    {
     "data": {
      "text/plain": [
       "(-20, 20)"
      ]
     },
     "execution_count": 57,
     "metadata": {},
     "output_type": "execute_result"
    },
    {
     "data": {
      "image/png": "[encoded data removed]",
      "text/plain": [
       "<Figure size 432x288 with 1 Axes>"
      ]
     },
     "metadata": {
      "needs_background": "light"
     },
     "output_type": "display_data"
    }
   ],
   "source": [
    "xs = np.linspace(0.01,0.99,99)\n",
    "Xi1s = []\n",
    "\n",
    "for x in xs:\n",
    "    Xi1s.append(Xi1(x))\n",
    "    \n",
    "plt.plot(xs, Xi1s, '--', label='ideal')\n",
    "# plt.plot(xs, relative_delta1s, label='delta_1')\n",
    "plt.axhline(y=0, color='r', linestyle='-')\n",
    "plt.legend()\n",
    "plt.ylim(-20,20)"
   ]
  },
  {
   "cell_type": "code",
   "execution_count": 58,
   "metadata": {},
   "outputs": [
    {
     "data": {
      "text/plain": [
       "<matplotlib.legend.Legend at 0x7fb516705cd0>"
      ]
     },
     "execution_count": 58,
     "metadata": {},
     "output_type": "execute_result"
    },
    {
     "data": {
      "image/png": "[encoded data removed]",
      "text/plain": [
       "<Figure size 432x288 with 1 Axes>"
      ]
     },
     "metadata": {
      "needs_background": "light"
     },
     "output_type": "display_data"
    }
   ],
   "source": [
    "xs = np.linspace(0.01,0.99,99)\n",
    "Xi2s = []\n",
    "\n",
    "for x in xs:\n",
    "    Xi2s.append(Xi2(x,(1-0.7126)*f_rep))\n",
    "    \n",
    "plt.plot(xs, Xi2s, '--', label='ideal')\n",
    "# plt.plot(xs, relative_delta1s, label='delta_1')\n",
    "plt.axhline(y=0, color='r', linestyle='-')\n",
    "plt.axvline(x = 0.7126, color='r', linestyle='-')\n",
    "plt.legend()\n"
   ]
  },
  {
   "cell_type": "markdown",
   "metadata": {},
   "source": [
    "# Stark shift in single-qubit rotation with one comb"
   ]
  },
  {
   "cell_type": "markdown",
   "metadata": {},
   "source": [
    "$\\delta^{(1)} = \\delta_{1,1}*\\xi_1(0)$, where \n",
    "$$\n",
    "\\delta_{1,1} = -\\frac{|\\Omega_{1,1}|^2}{2\\pi f_{rep}}\\\\\n",
    "\\Omega_{1,1} = |S_1| I_1 |\\Omega_0|\\\\\n",
    "\\Omega_0 = \\frac{|\\textbf{d}_0\\cdot\\hat{\\sigma}_+|^2}{3\\hbar^2}\\frac{\\omega_p}{\\Delta(\\Delta-\\omega_p)}\n",
    "$$"
   ]
  },
  {
   "cell_type": "code",
   "execution_count": 69,
   "metadata": {},
   "outputs": [
    {
     "data": {
      "text/plain": [
       "-57.714289731705776"
      ]
     },
     "execution_count": 69,
     "metadata": {},
     "output_type": "execute_result"
    }
   ],
   "source": [
    "pi_time = 7.6e-6\n",
    "Omega = np.pi/pi_time/2\n",
    "delta0 = -Omega**2/(2*np.pi*f_rep)\n",
    "delta0"
   ]
  },
  {
   "cell_type": "code",
   "execution_count": 70,
   "metadata": {},
   "outputs": [
    {
     "data": {
      "text/plain": [
       "206683.7272098548"
      ]
     },
     "execution_count": 70,
     "metadata": {},
     "output_type": "execute_result"
    }
   ],
   "source": [
    "Omega"
   ]
  },
  {
   "cell_type": "code",
   "execution_count": 51,
   "metadata": {},
   "outputs": [],
   "source": [
    "def shift_single_beam(delta, x):\n",
    "    return delta*Xi1(x)\n",
    "\n",
    "def shift_both_beam(delta, x, fA):\n",
    "    return delta*2*Xi2(x, fA)"
   ]
  },
  {
   "cell_type": "markdown",
   "metadata": {},
   "source": [
    "# Stark shift data from Red chamber"
   ]
  },
  {
   "cell_type": "code",
   "execution_count": 44,
   "metadata": {},
   "outputs": [
    {
     "name": "stdout",
     "output_type": "stream",
     "text": [
      "[1730.0142314089023, 1399.7677244932192, 1137.1620683915921, 904.3979641196953, 724.0754135965778, 553.4613146020661, 411.41552789254945]\n",
      "[0.008488885078322699, 0.010186662093987237, 0.011884439109651777, 0.013582216125316317, 0.015279993140980856, 0.016977770156645398, 0.018675547172309934]\n"
     ]
    },
    {
     "data": {
      "text/plain": [
       "[<matplotlib.lines.Line2D at 0x7fb516140550>]"
      ]
     },
     "execution_count": 44,
     "metadata": {},
     "output_type": "execute_result"
    },
    {
     "data": {
      "image/png": "[encoded data removed]",
      "text/plain": [
       "<Figure size 432x288 with 1 Axes>"
      ]
     },
     "metadata": {
      "needs_background": "light"
     },
     "output_type": "display_data"
    }
   ],
   "source": [
    "detunning = [1e6, 1.2e6, 1.4e6, 1.6e6, 1.8e6, 2.0e6, 2.2e6]\n",
    "delta_phi = [2.174, 1.759, 1.429, 1.1365, 0.9099, 0.6955, 0.517]\n",
    "waiting_time = 200e-6\n",
    "stark_shift = []\n",
    "xx = [delta/f_rep for delta in detunning]\n",
    "for delta in delta_phi:\n",
    "    stark_shift.append(delta/waiting_time/(2*np.pi)) # frequency, not angular frequency\n",
    "print(stark_shift)\n",
    "print(xx)\n",
    "plt.plot(xx, stark_shift)"
   ]
  },
  {
   "cell_type": "code",
   "execution_count": 68,
   "metadata": {},
   "outputs": [
    {
     "name": "stdout",
     "output_type": "stream",
     "text": [
      "83186.87952817806\n",
      "81968.8055150705\n",
      "79800.42345121306\n",
      "76079.87230776646\n",
      "72203.4831424036\n",
      "66540.89356791452\n",
      "60170.23055842844\n"
     ]
    }
   ],
   "source": [
    "def calOmega(delta, ss):\n",
    "    return np.sqrt(ss*4*delta)\n",
    "for i in range(len(detunning)):\n",
    "    print(calOmega(detunning[i],stark_shift[i]))"
   ]
  },
  {
   "cell_type": "code",
   "execution_count": 71,
   "metadata": {},
   "outputs": [
    {
     "name": "stdout",
     "output_type": "stream",
     "text": [
      "delta_0 = -57.714289731705776\n",
      "starkshift_gg = 85.1867822844129\n",
      "starkshift_ii = 17.0373564568826\n",
      "starkshift_gi = 90.9059132595467\n",
      "starkshift = 193.130052000842\n"
     ]
    }
   ],
   "source": [
    "delta_gg = delta0*0.5\n",
    "delta_ii = delta0*0.1\n",
    "delta_gi = delta0\n",
    "x = 0.3233611570689917\n",
    "fA = x*f_rep-10e6\n",
    "starkshift_gg = shift_single_beam(delta_gg, x)\n",
    "starkshift_ii = shift_single_beam(delta_ii, x)\n",
    "starkshift_gi = shift_both_beam(delta_gi, x, fA)\n",
    "starkshift = starkshift_gg + starkshift_ii + starkshift_gi\n",
    "print('delta_0 =', delta0)\n",
    "print('starkshift_gg =', starkshift_gg)\n",
    "print('starkshift_ii =', starkshift_ii)\n",
    "print('starkshift_gi =', starkshift_gi)\n",
    "print('starkshift =', starkshift)"
   ]
  },
  {
   "cell_type": "code",
   "execution_count": 53,
   "metadata": {},
   "outputs": [],
   "source": [
    "from tqdm import tqdm"
   ]
  },
  {
   "cell_type": "code",
   "execution_count": 54,
   "metadata": {},
   "outputs": [
    {
     "name": "stderr",
     "output_type": "stream",
     "text": [
      "100%|██████████| 50/50 [00:25<00:00,  1.95it/s]\n"
     ]
    },
    {
     "data": {
      "text/plain": [
       "(-500, 500)"
      ]
     },
     "execution_count": 54,
     "metadata": {},
     "output_type": "execute_result"
    },
    {
     "data": {
      "image/png": "[encoded data removed]",
      "text/plain": [
       "<Figure size 432x288 with 1 Axes>"
      ]
     },
     "metadata": {
      "needs_background": "light"
     },
     "output_type": "display_data"
    }
   ],
   "source": [
    "xs = np.linspace(0.01,0.99,50)\n",
    "delta11 = []\n",
    "delta12 = []\n",
    "\n",
    "fA = x*f_rep-10e6\n",
    "for x in tqdm(xs):\n",
    "    delta11.append(shift_single_beam(delta0, x))\n",
    "    delta12.append(shift_both_beam(delta_gi, x, fA))\n",
    "    \n",
    "plt.plot(xs, delta11, label='delta_11')\n",
    "plt.plot(xs, delta12, label='delta_12')\n",
    "plt.plot(xs, np.array(delta11)+np.array(delta12), label='delta_sum')\n",
    "plt.axhline(y=0, color='r', linestyle='-')\n",
    "plt.axvline(x=0.3234, color='grey', linestyle='-')\n",
    "plt.legend()\n",
    "plt.ylim(-500,500)"
   ]
  },
  {
   "cell_type": "code",
   "execution_count": null,
   "metadata": {},
   "outputs": [],
   "source": []
  }
 ],
 "metadata": {
  "kernelspec": {
   "display_name": "Python36",
   "language": "python",
   "name": "myenv"
  },
  "language_info": {
   "codemirror_mode": {
    "name": "ipython",
    "version": 3
   },
   "file_extension": ".py",
   "mimetype": "text/x-python",
   "name": "python",
   "nbconvert_exporter": "python",
   "pygments_lexer": "ipython3",
   "version": "3.7.4"
  }
 },
 "nbformat": 4,
 "nbformat_minor": 2
}
