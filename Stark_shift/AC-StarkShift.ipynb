{
 "cells": [
  {
   "cell_type": "code",
   "execution_count": 1,
   "metadata": {},
   "outputs": [],
   "source": [
    "import numpy as np\n",
    "from mpmath import *\n",
    "import matplotlib.pyplot as plt"
   ]
  },
  {
   "cell_type": "code",
   "execution_count": 3,
   "metadata": {},
   "outputs": [
    {
     "name": "stdout",
     "output_type": "stream",
     "text": [
      "n = 107.0; x = 0.32325654652323554\n"
     ]
    }
   ],
   "source": [
    "hbar = 1.0545718e-34\n",
    "tau = 31e-12 # 31 ps, this number is from Mike's note\n",
    "f0 = 12.642820e9\n",
    "# f_rep = 119.596011e6\n",
    "# f_rep = 118.92876e6\n",
    "f_rep = 117.801308e6\n",
    "x = (f0 % f_rep)/f_rep\n",
    "n = f0 // f_rep\n",
    "print('n = '+str(n)+'; x = '+str(x) )\n",
    "\n",
    "def h(k):\n",
    "    if k == 0:\n",
    "        return 1\n",
    "    else:\n",
    "        return k*f_rep*tau*np.pi*csch(k*np.pi*f_rep*tau)\n",
    "\n",
    "def Xi1(x, counts = 5000):\n",
    "    ks = np.linspace(-counts, counts, 2*counts+1)\n",
    "    Xi = 0\n",
    "    for k in ks:\n",
    "        if x == 0 and k == n:\n",
    "            pass\n",
    "        else:\n",
    "            Xi = Xi + h(k)**2/(k-n-x)\n",
    "            #Xi = Xi + 1/(k-n-x) # ideal case: the pulse is infinitesimally short\n",
    "    return Xi\n",
    "\n",
    "def Xi2(x, f_A, counts = 1000):\n",
    "    ks = np.linspace(-counts, counts, 2*counts+1)\n",
    "    Xi = 0\n",
    "    tol = 1e-6\n",
    "    for k in ks:\n",
    "        if k == n: # If f_A = x*f_rep\n",
    "#         if k == n+1: # If f_A = (1-x)*f_rep\n",
    "            pass\n",
    "        else:\n",
    "            Xi = Xi + 0.5* h(k)**2*(1/(k-n-x+f_A/f_rep)+1/(k-n-x-f_A/f_rep))\n",
    "    return Xi"
   ]
  },
  {
   "cell_type": "code",
   "execution_count": 4,
   "metadata": {},
   "outputs": [
    {
     "data": {
      "text/plain": [
       "mpf('3.434335806966792e-48')"
      ]
     },
     "execution_count": 4,
     "metadata": {},
     "output_type": "execute_result"
    }
   ],
   "source": [
    "h(10000)"
   ]
  },
  {
   "cell_type": "code",
   "execution_count": 5,
   "metadata": {},
   "outputs": [
    {
     "data": {
      "text/plain": [
       "mpf('-7.7303237196607064')"
      ]
     },
     "execution_count": 5,
     "metadata": {},
     "output_type": "execute_result"
    }
   ],
   "source": [
    "Xi1(0.1, counts = 5000)"
   ]
  },
  {
   "cell_type": "code",
   "execution_count": 6,
   "metadata": {},
   "outputs": [
    {
     "data": {
      "text/plain": [
       "mpf('-7.7303237196607064')"
      ]
     },
     "execution_count": 6,
     "metadata": {},
     "output_type": "execute_result"
    }
   ],
   "source": [
    "Xi1(0.1, counts = 10000)"
   ]
  },
  {
   "cell_type": "code",
   "execution_count": 7,
   "metadata": {},
   "outputs": [
    {
     "data": {
      "text/plain": [
       "mpf('-7.7303237196607064')"
      ]
     },
     "execution_count": 7,
     "metadata": {},
     "output_type": "execute_result"
    }
   ],
   "source": [
    "Xi1(0.1, counts = 20000)"
   ]
  },
  {
   "cell_type": "code",
   "execution_count": 8,
   "metadata": {},
   "outputs": [
    {
     "data": {
      "text/plain": [
       "mpf('-1.539334573735385')"
      ]
     },
     "execution_count": 8,
     "metadata": {},
     "output_type": "execute_result"
    }
   ],
   "source": [
    "Xi2(0.1, 0.1*f_rep, counts = 300)"
   ]
  },
  {
   "cell_type": "code",
   "execution_count": 9,
   "metadata": {},
   "outputs": [
    {
     "data": {
      "text/plain": [
       "mpf('-1.5337914912049633')"
      ]
     },
     "execution_count": 9,
     "metadata": {},
     "output_type": "execute_result"
    }
   ],
   "source": [
    "Xi2(0.1, 0.1*f_rep, counts = 1000)"
   ]
  },
  {
   "cell_type": "code",
   "execution_count": 10,
   "metadata": {},
   "outputs": [
    {
     "data": {
      "text/plain": [
       "mpf('-1.5337914906726584')"
      ]
     },
     "execution_count": 10,
     "metadata": {},
     "output_type": "execute_result"
    }
   ],
   "source": [
    "Xi2(0.1, 0.1*f_rep, counts = 2000)"
   ]
  },
  {
   "cell_type": "code",
   "execution_count": 11,
   "metadata": {},
   "outputs": [
    {
     "data": {
      "text/plain": [
       "(-20, 20)"
      ]
     },
     "execution_count": 11,
     "metadata": {},
     "output_type": "execute_result"
    },
    {
     "data": {
      "image/png": "[encoded data removed]",
      "text/plain": [
       "<Figure size 432x288 with 1 Axes>"
      ]
     },
     "metadata": {
      "needs_background": "light"
     },
     "output_type": "display_data"
    }
   ],
   "source": [
    "xs = np.linspace(0.01,0.99,99)\n",
    "Xi1s = []\n",
    "\n",
    "for x in xs:\n",
    "    Xi1s.append(Xi1(x))\n",
    "    \n",
    "plt.plot(xs, Xi1s, '--', label='ideal')\n",
    "# plt.plot(xs, relative_delta1s, label='delta_1')\n",
    "plt.axhline(y=0, color='r', linestyle='-')\n",
    "plt.legend()\n",
    "plt.ylim(-20,20)"
   ]
  },
  {
   "cell_type": "code",
   "execution_count": 12,
   "metadata": {},
   "outputs": [
    {
     "data": {
      "text/plain": [
       "<matplotlib.legend.Legend at 0x7f791952f550>"
      ]
     },
     "execution_count": 12,
     "metadata": {},
     "output_type": "execute_result"
    },
    {
     "data": {
      "image/png": "[encoded data removed]",
      "text/plain": [
       "<Figure size 432x288 with 1 Axes>"
      ]
     },
     "metadata": {
      "needs_background": "light"
     },
     "output_type": "display_data"
    }
   ],
   "source": [
    "xs = np.linspace(0.01,0.99,99)\n",
    "Xi2s = []\n",
    "\n",
    "for x in xs:\n",
    "    Xi2s.append(Xi2(x,(1-0.7126)*f_rep))\n",
    "    \n",
    "plt.plot(xs, Xi2s, '--', label='ideal')\n",
    "# plt.plot(xs, relative_delta1s, label='delta_1')\n",
    "plt.axhline(y=0, color='r', linestyle='-')\n",
    "plt.axvline(x = 0.7126, color='r', linestyle='-')\n",
    "plt.legend()\n"
   ]
  },
  {
   "cell_type": "code",
   "execution_count": 13,
   "metadata": {},
   "outputs": [],
   "source": [
    "alpha = 1\n",
    "f_M = 3e6\n",
    "\n",
    "def relative_delta_1(x):\n",
    "    return -Xi1(x)/h(n)**2\n",
    "\n",
    "def relative_delta_MS11(x):\n",
    "    return -(2*Xi2(x, 2*x*f_rep)+(alpha**2+alpha**(-2))*Xi1(x))/h(n)**2\n",
    "\n",
    "def relative_delta_MS11_intra(x):\n",
    "    return -(alpha**2+alpha**(-2))*Xi1(x)/h(n)**2\n",
    "\n",
    "def relative_delta_MS11_inter(x):\n",
    "    return -2*Xi2(x, 2*x*f_rep)/h(n)**2\n",
    "\n",
    "def relative_delta_MS12(x):\n",
    "    return -2*((alpha+alpha**(-1))*Xi2(x, x*f_rep)+(alpha-alpha**(-1))*h(n)**2*f_rep/f_M)/(h(n)**2)\n",
    "\n",
    "def relative_delta_MS12_no_approx(x):\n",
    "    return -2*(alpha*Xi2(x, (1-x)*f_rep+f_M)+alpha**(-1)*Xi2(x, -(1-x)*f_rep+f_M))/(h(n)**2)\n",
    "\n",
    "def relative_delta_MS12_no_approx_2(x):\n",
    "    return -2*(alpha*Xi2(x, x*f_rep+f_M)+alpha**(-1)*Xi2(x, -x*f_rep+f_M))/(h(n)**2)"
   ]
  },
  {
   "cell_type": "markdown",
   "metadata": {},
   "source": [
    "# Stark shift in single-qubit rotation with one comb"
   ]
  },
  {
   "cell_type": "markdown",
   "metadata": {},
   "source": [
    "$\\delta^{(1)} = \\delta_{1,1}*\\xi_1(0)$, where \n",
    "$$\n",
    "\\delta_{1,1} = -\\frac{|\\Omega_{1,1}|^2}{2\\pi f_{rep}}\\\\\n",
    "\\Omega_{1,1} = |S_1| I_1 |\\Omega_0|\\\\\n",
    "\\Omega_0 = \\frac{|\\textbf{d}_0\\cdot\\hat{\\sigma}_+|^2}{3\\hbar^2}\\frac{\\omega_p}{\\Delta(\\Delta-\\omega_p)}\n",
    "$$"
   ]
  },
  {
   "cell_type": "markdown",
   "metadata": {},
   "source": [
    "#### The ideal case: pulse is infinitesimally short"
   ]
  },
  {
   "cell_type": "code",
   "execution_count": 14,
   "metadata": {},
   "outputs": [],
   "source": [
    "xs = np.linspace(0.01,0.99,50)\n",
    "relative_delta1s_ideal = []\n",
    "\n",
    "for x in xs:\n",
    "    relative_delta1s_ideal.append(relative_delta_1(x))"
   ]
  },
  {
   "cell_type": "code",
   "execution_count": 15,
   "metadata": {
    "scrolled": true
   },
   "outputs": [
    {
     "data": {
      "text/plain": [
       "(-20, 20)"
      ]
     },
     "execution_count": 15,
     "metadata": {},
     "output_type": "execute_result"
    },
    {
     "data": {
      "image/png": "[encoded data removed]",
      "text/plain": [
       "<Figure size 432x288 with 1 Axes>"
      ]
     },
     "metadata": {
      "needs_background": "light"
     },
     "output_type": "display_data"
    }
   ],
   "source": [
    "xs = np.linspace(0.01,0.99,50)\n",
    "relative_delta1s = []\n",
    "\n",
    "for x in xs:\n",
    "    relative_delta1s.append(relative_delta_1(x))\n",
    "    \n",
    "plt.plot(xs, relative_delta1s_ideal, '--', label='ideal')\n",
    "plt.plot(xs, relative_delta1s, label='delta_1')\n",
    "plt.axhline(y=0, color='r', linestyle='-')\n",
    "plt.legend()\n",
    "plt.ylim(-20,20)"
   ]
  },
  {
   "cell_type": "markdown",
   "metadata": {},
   "source": [
    "## AC stark shift of MS gate "
   ]
  },
  {
   "cell_type": "code",
   "execution_count": 17,
   "metadata": {},
   "outputs": [
    {
     "name": "stdout",
     "output_type": "stream",
     "text": [
      "0.001\n",
      "0.01098\n",
      "0.02096\n",
      "0.03094\n",
      "0.04092\n",
      "0.0509\n",
      "0.06088\n",
      "0.07085999999999999\n",
      "0.08084\n",
      "0.09082\n",
      "0.1008\n",
      "0.11077999999999999\n",
      "0.12075999999999999\n",
      "0.13074\n",
      "0.14071999999999998\n",
      "0.1507\n",
      "0.16068\n",
      "0.17065999999999998\n",
      "0.18064\n",
      "0.19061999999999998\n",
      "0.2006\n",
      "0.21058\n",
      "0.22055999999999998\n",
      "0.23054\n",
      "0.24051999999999998\n",
      "0.25049999999999994\n",
      "0.26048\n",
      "0.27046\n",
      "0.28043999999999997\n",
      "0.29041999999999996\n",
      "0.3004\n",
      "0.31038\n",
      "0.32036\n",
      "0.33033999999999997\n",
      "0.34031999999999996\n",
      "0.3503\n",
      "0.36028\n",
      "0.37026\n",
      "0.38023999999999997\n",
      "0.39021999999999996\n",
      "0.4002\n",
      "0.41018\n",
      "0.42016\n",
      "0.43013999999999997\n",
      "0.44011999999999996\n",
      "0.45009999999999994\n",
      "0.46008\n",
      "0.47006\n",
      "0.48003999999999997\n",
      "0.49001999999999996\n",
      "0.49999999999999994\n",
      "0.50998\n",
      "0.51996\n",
      "0.52994\n",
      "0.53992\n",
      "0.5498999999999999\n",
      "0.5598799999999999\n",
      "0.5698599999999999\n",
      "0.5798399999999999\n",
      "0.58982\n",
      "0.5998\n",
      "0.60978\n",
      "0.61976\n",
      "0.62974\n",
      "0.63972\n",
      "0.6496999999999999\n",
      "0.6596799999999999\n",
      "0.6696599999999999\n",
      "0.6796399999999999\n",
      "0.6896199999999999\n",
      "0.6996\n",
      "0.70958\n",
      "0.71956\n",
      "0.72954\n",
      "0.73952\n",
      "0.7494999999999999\n",
      "0.7594799999999999\n",
      "0.7694599999999999\n",
      "0.7794399999999999\n",
      "0.7894199999999999\n",
      "0.7994\n",
      "0.80938\n",
      "0.81936\n",
      "0.82934\n",
      "0.83932\n",
      "0.8492999999999999\n",
      "0.8592799999999999\n",
      "0.8692599999999999\n",
      "0.8792399999999999\n",
      "0.8892199999999999\n",
      "0.8991999999999999\n",
      "0.90918\n",
      "0.91916\n",
      "0.92914\n",
      "0.93912\n",
      "0.9490999999999999\n",
      "0.9590799999999999\n",
      "0.9690599999999999\n",
      "0.9790399999999999\n",
      "0.9890199999999999\n",
      "0.999\n"
     ]
    },
    {
     "data": {
      "text/plain": [
       "<matplotlib.legend.Legend at 0x7f791977fd90>"
      ]
     },
     "execution_count": 17,
     "metadata": {},
     "output_type": "execute_result"
    },
    {
     "data": {
      "image/png": "[encoded data removed]",
      "text/plain": [
       "<Figure size 432x288 with 1 Axes>"
      ]
     },
     "metadata": {
      "needs_background": "light"
     },
     "output_type": "display_data"
    }
   ],
   "source": [
    "xs = np.linspace(0.001,0.999,101)\n",
    "deltas = []\n",
    "relative_delta11s = []\n",
    "relative_delta11s_intra = []\n",
    "relative_delta11s_inter = []\n",
    "relative_delta12s = []\n",
    "for x in xs:\n",
    "    relative_delta11s.append(relative_delta_MS11(x))\n",
    "    relative_delta11s_intra.append(relative_delta_MS11_intra(x))\n",
    "    relative_delta11s_inter.append(relative_delta_MS11_inter(x))\n",
    "    relative_delta12s.append(relative_delta_MS12(x))\n",
    "    print(x)\n",
    "plt.plot(xs, relative_delta11s,label='delta_11')\n",
    "plt.plot(xs, relative_delta11s_intra,label='delta_11_intra')\n",
    "plt.plot(xs, relative_delta11s_inter,label='delta_11_inter')\n",
    "plt.legend()"
   ]
  },
  {
   "cell_type": "markdown",
   "metadata": {},
   "source": [
    "### Stark shift generated by the two frequency combs of global beam only"
   ]
  },
  {
   "cell_type": "code",
   "execution_count": 18,
   "metadata": {},
   "outputs": [
    {
     "data": {
      "text/plain": [
       "(-20, 20)"
      ]
     },
     "execution_count": 18,
     "metadata": {},
     "output_type": "execute_result"
    },
    {
     "data": {
      "image/png": "[encoded data removed]",
      "text/plain": [
       "<Figure size 432x288 with 1 Axes>"
      ]
     },
     "metadata": {
      "needs_background": "light"
     },
     "output_type": "display_data"
    }
   ],
   "source": [
    "plt.plot(xs, relative_delta11s,'k',label='delta_11')\n",
    "plt.plot(xs, relative_delta11s_intra,'b', label='delta_11_intra')\n",
    "plt.plot(xs, relative_delta11s_inter,'r', label='delta_11_inter')\n",
    "plt.legend()\n",
    "plt.ylim(-20,20)"
   ]
  },
  {
   "cell_type": "markdown",
   "metadata": {},
   "source": [
    "### Stark shift generated by the freq comb of ind and global beam"
   ]
  },
  {
   "cell_type": "code",
   "execution_count": 19,
   "metadata": {},
   "outputs": [
    {
     "data": {
      "text/plain": [
       "<matplotlib.legend.Legend at 0x7f7919bc8f90>"
      ]
     },
     "execution_count": 19,
     "metadata": {},
     "output_type": "execute_result"
    },
    {
     "data": {
      "image/png": "[encoded data removed]",
      "text/plain": [
       "<Figure size 432x288 with 1 Axes>"
      ]
     },
     "metadata": {
      "needs_background": "light"
     },
     "output_type": "display_data"
    }
   ],
   "source": [
    "plt.plot(xs, relative_delta12s,label='delta_12')\n",
    "plt.axvline(x=x,color='r', linestyle='-', label = 'x = 0.32325')\n",
    "plt.axvline(x=1-x,color='y', linestyle='-', label = '1-x = 0.67675')\n",
    "plt.axhline(y=0,color='g', linestyle='-')\n",
    "plt.ylim(-20,20)\n",
    "plt.legend()"
   ]
  },
  {
   "cell_type": "markdown",
   "metadata": {},
   "source": [
    "# No Approximation"
   ]
  },
  {
   "cell_type": "markdown",
   "metadata": {},
   "source": [
    "### If we choose f_A = (1-x)*f_rep"
   ]
  },
  {
   "cell_type": "code",
   "execution_count": 20,
   "metadata": {},
   "outputs": [
    {
     "name": "stdout",
     "output_type": "stream",
     "text": [
      "0.001\n",
      "0.01098\n",
      "0.02096\n",
      "0.03094\n",
      "0.04092\n",
      "0.0509\n",
      "0.06088\n",
      "0.07085999999999999\n",
      "0.08084\n",
      "0.09082\n",
      "0.1008\n",
      "0.11077999999999999\n",
      "0.12075999999999999\n",
      "0.13074\n",
      "0.14071999999999998\n",
      "0.1507\n",
      "0.16068\n",
      "0.17065999999999998\n",
      "0.18064\n",
      "0.19061999999999998\n",
      "0.2006\n",
      "0.21058\n",
      "0.22055999999999998\n",
      "0.23054\n",
      "0.24051999999999998\n",
      "0.25049999999999994\n",
      "0.26048\n",
      "0.27046\n",
      "0.28043999999999997\n",
      "0.29041999999999996\n",
      "0.3004\n",
      "0.31038\n",
      "0.32036\n",
      "0.33033999999999997\n",
      "0.34031999999999996\n",
      "0.3503\n",
      "0.36028\n",
      "0.37026\n",
      "0.38023999999999997\n",
      "0.39021999999999996\n",
      "0.4002\n",
      "0.41018\n",
      "0.42016\n",
      "0.43013999999999997\n",
      "0.44011999999999996\n",
      "0.45009999999999994\n",
      "0.46008\n",
      "0.47006\n",
      "0.48003999999999997\n",
      "0.49001999999999996\n",
      "0.49999999999999994\n",
      "0.50998\n",
      "0.51996\n",
      "0.52994\n",
      "0.53992\n",
      "0.5498999999999999\n",
      "0.5598799999999999\n",
      "0.5698599999999999\n",
      "0.5798399999999999\n",
      "0.58982\n",
      "0.5998\n",
      "0.60978\n",
      "0.61976\n",
      "0.62974\n",
      "0.63972\n",
      "0.6496999999999999\n",
      "0.6596799999999999\n",
      "0.6696599999999999\n",
      "0.6796399999999999\n",
      "0.6896199999999999\n",
      "0.6996\n",
      "0.70958\n",
      "0.71956\n",
      "0.72954\n",
      "0.73952\n",
      "0.7494999999999999\n",
      "0.7594799999999999\n",
      "0.7694599999999999\n",
      "0.7794399999999999\n",
      "0.7894199999999999\n",
      "0.7994\n",
      "0.80938\n",
      "0.81936\n",
      "0.82934\n",
      "0.83932\n",
      "0.8492999999999999\n",
      "0.8592799999999999\n",
      "0.8692599999999999\n",
      "0.8792399999999999\n",
      "0.8892199999999999\n",
      "0.8991999999999999\n",
      "0.90918\n",
      "0.91916\n",
      "0.92914\n",
      "0.93912\n",
      "0.9490999999999999\n",
      "0.9590799999999999\n",
      "0.9690599999999999\n",
      "0.9790399999999999\n",
      "0.9890199999999999\n",
      "0.999\n"
     ]
    },
    {
     "data": {
      "text/plain": [
       "<matplotlib.legend.Legend at 0x7f7919c17cd0>"
      ]
     },
     "execution_count": 20,
     "metadata": {},
     "output_type": "execute_result"
    },
    {
     "data": {
      "image/png": "[encoded data removed]",
      "text/plain": [
       "<Figure size 432x288 with 1 Axes>"
      ]
     },
     "metadata": {
      "needs_background": "light"
     },
     "output_type": "display_data"
    }
   ],
   "source": [
    "xs = np.linspace(0.001,0.999,101)\n",
    "\n",
    "relative_delta12s_no_approx = []\n",
    "for x in xs:\n",
    "    relative_delta12s_no_approx.append(relative_delta_MS12_no_approx(x))\n",
    "    print(x)\n",
    "    \n",
    "plt.plot(xs, relative_delta12s_no_approx,label='delta12s_no_approx')\n",
    "plt.legend()"
   ]
  },
  {
   "cell_type": "code",
   "execution_count": 21,
   "metadata": {},
   "outputs": [
    {
     "data": {
      "text/plain": [
       "<matplotlib.legend.Legend at 0x7f7919da7650>"
      ]
     },
     "execution_count": 21,
     "metadata": {},
     "output_type": "execute_result"
    },
    {
     "data": {
      "image/png": "[encoded data removed]",
      "text/plain": [
       "<Figure size 432x288 with 1 Axes>"
      ]
     },
     "metadata": {
      "needs_background": "light"
     },
     "output_type": "display_data"
    }
   ],
   "source": [
    "plt.plot(xs, relative_delta12s_no_approx, label='delta_12')\n",
    "plt.axvline(x=0.32325,color='r', linestyle='-', label = 'x = 0.32325')\n",
    "plt.axvline(x=0.67675,color='c', linestyle='-', label = 'x = 0.67675')\n",
    "# plt.axvline(x=1-0.7126,color='y', linestyle='-', label = '1-x = 0.2874')\n",
    "plt.axhline(y=0,color='g', linestyle='-')\n",
    "plt.ylim(-20,20)\n",
    "plt.legend()"
   ]
  },
  {
   "cell_type": "markdown",
   "metadata": {},
   "source": [
    "### If we choose f_A = x*f_rep"
   ]
  },
  {
   "cell_type": "code",
   "execution_count": 22,
   "metadata": {},
   "outputs": [
    {
     "name": "stdout",
     "output_type": "stream",
     "text": [
      "0.001\n",
      "0.01098\n",
      "0.02096\n",
      "0.03094\n",
      "0.04092\n",
      "0.0509\n",
      "0.06088\n",
      "0.07085999999999999\n",
      "0.08084\n",
      "0.09082\n",
      "0.1008\n",
      "0.11077999999999999\n",
      "0.12075999999999999\n",
      "0.13074\n",
      "0.14071999999999998\n",
      "0.1507\n",
      "0.16068\n",
      "0.17065999999999998\n",
      "0.18064\n",
      "0.19061999999999998\n",
      "0.2006\n",
      "0.21058\n",
      "0.22055999999999998\n",
      "0.23054\n",
      "0.24051999999999998\n",
      "0.25049999999999994\n",
      "0.26048\n",
      "0.27046\n",
      "0.28043999999999997\n",
      "0.29041999999999996\n",
      "0.3004\n",
      "0.31038\n",
      "0.32036\n",
      "0.33033999999999997\n",
      "0.34031999999999996\n",
      "0.3503\n",
      "0.36028\n",
      "0.37026\n",
      "0.38023999999999997\n",
      "0.39021999999999996\n",
      "0.4002\n",
      "0.41018\n",
      "0.42016\n",
      "0.43013999999999997\n",
      "0.44011999999999996\n",
      "0.45009999999999994\n",
      "0.46008\n",
      "0.47006\n",
      "0.48003999999999997\n",
      "0.49001999999999996\n",
      "0.49999999999999994\n",
      "0.50998\n",
      "0.51996\n",
      "0.52994\n",
      "0.53992\n",
      "0.5498999999999999\n",
      "0.5598799999999999\n",
      "0.5698599999999999\n",
      "0.5798399999999999\n",
      "0.58982\n",
      "0.5998\n",
      "0.60978\n",
      "0.61976\n",
      "0.62974\n",
      "0.63972\n",
      "0.6496999999999999\n",
      "0.6596799999999999\n",
      "0.6696599999999999\n",
      "0.6796399999999999\n",
      "0.6896199999999999\n",
      "0.6996\n",
      "0.70958\n",
      "0.71956\n",
      "0.72954\n",
      "0.73952\n",
      "0.7494999999999999\n",
      "0.7594799999999999\n",
      "0.7694599999999999\n",
      "0.7794399999999999\n",
      "0.7894199999999999\n",
      "0.7994\n",
      "0.80938\n",
      "0.81936\n",
      "0.82934\n",
      "0.83932\n",
      "0.8492999999999999\n",
      "0.8592799999999999\n",
      "0.8692599999999999\n",
      "0.8792399999999999\n",
      "0.8892199999999999\n",
      "0.8991999999999999\n",
      "0.90918\n",
      "0.91916\n",
      "0.92914\n",
      "0.93912\n",
      "0.9490999999999999\n",
      "0.9590799999999999\n",
      "0.9690599999999999\n",
      "0.9790399999999999\n",
      "0.9890199999999999\n",
      "0.999\n"
     ]
    },
    {
     "data": {
      "text/plain": [
       "<matplotlib.legend.Legend at 0x7f7919db0950>"
      ]
     },
     "execution_count": 22,
     "metadata": {},
     "output_type": "execute_result"
    },
    {
     "data": {
      "image/png": "[encoded data removed]",
      "text/plain": [
       "<Figure size 432x288 with 1 Axes>"
      ]
     },
     "metadata": {
      "needs_background": "light"
     },
     "output_type": "display_data"
    }
   ],
   "source": [
    "xs = np.linspace(0.001,0.999,101)\n",
    "\n",
    "relative_delta12s_no_approx_2 = []\n",
    "for x in xs:\n",
    "    relative_delta12s_no_approx_2.append(relative_delta_MS12_no_approx_2(x))\n",
    "    print(x)\n",
    "    \n",
    "plt.plot(xs, relative_delta12s_no_approx_2,label='delta12s_no_approx')\n",
    "plt.legend()"
   ]
  },
  {
   "cell_type": "code",
   "execution_count": 23,
   "metadata": {},
   "outputs": [
    {
     "data": {
      "text/plain": [
       "<matplotlib.legend.Legend at 0x7f7919f7bf50>"
      ]
     },
     "execution_count": 23,
     "metadata": {},
     "output_type": "execute_result"
    },
    {
     "data": {
      "image/png": "[encoded data removed]",
      "text/plain": [
       "<Figure size 432x288 with 1 Axes>"
      ]
     },
     "metadata": {
      "needs_background": "light"
     },
     "output_type": "display_data"
    }
   ],
   "source": [
    "plt.plot(xs, relative_delta12s_no_approx_2, label='delta_12')\n",
    "plt.axvline(x=0.7426,color='r', linestyle='-', label = 'Unmodified 355')\n",
    "plt.axvline(x=0.91,color='c', linestyle='-', label = 'Modified 355')\n",
    "plt.axvline(x=0.32325,color='m', linestyle='-', label = 'Red Chamber')\n",
    "# plt.axvline(x=1-0.7126,color='y', linestyle='-', label = '1-x = 0.2874')\n",
    "plt.axhline(y=0,color='g', linestyle='-')\n",
    "plt.ylim(-20,20)\n",
    "plt.legend()"
   ]
  },
  {
   "cell_type": "code",
   "execution_count": null,
   "metadata": {},
   "outputs": [],
   "source": []
  }
 ],
 "metadata": {
  "kernelspec": {
   "display_name": "Python36",
   "language": "python",
   "name": "myenv"
  },
  "language_info": {
   "codemirror_mode": {
    "name": "ipython",
    "version": 3
   },
   "file_extension": ".py",
   "mimetype": "text/x-python",
   "name": "python",
   "nbconvert_exporter": "python",
   "pygments_lexer": "ipython3",
   "version": "3.7.4"
  }
 },
 "nbformat": 4,
 "nbformat_minor": 2
}
